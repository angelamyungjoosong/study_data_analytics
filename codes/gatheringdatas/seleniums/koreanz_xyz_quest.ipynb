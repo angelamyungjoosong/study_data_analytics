{
 "cells": [
  {
   "cell_type": "markdown",
   "id": "5139ea88-bdea-4f07-b649-9db625ad1826",
   "metadata": {},
   "source": [
    "#### Quest \n",
    "- Scarping 대상 사이트: 코리언즈\n",
    "- 상세 메뉴주소 선택\n",
    "- pg.1-10까지 정보 수집\n",
    "- 게시물 번호, 제목, 게시날짜, 조회수, 상세 채널 리스트(채널명, 링크) "
   ]
  },
  {
   "cell_type": "code",
   "execution_count": 322,
   "id": "75ccdd36-8548-4407-95ec-0e0baf83b2e2",
   "metadata": {
    "tags": []
   },
   "outputs": [],
   "source": [
    "from selenium import webdriver\n",
    "import time\n",
    "import pandas as pd \n",
    "import pymongo as mg "
   ]
  },
  {
   "cell_type": "code",
   "execution_count": 323,
   "id": "28ab76be-0d02-4357-9743-0cb6415ac9d5",
   "metadata": {
    "tags": []
   },
   "outputs": [],
   "source": [
    "browser = webdriver.Chrome(executable_path='../../../../chromedriver.exe')"
   ]
  },
  {
   "cell_type": "code",
   "execution_count": 324,
   "id": "daf505df-586e-4b19-bd6c-5788d4928d53",
   "metadata": {
    "tags": []
   },
   "outputs": [],
   "source": [
    "browser.get('https://a73.koreanz.xyz/bbs/board.php?bo_table=tvdrama')"
   ]
  },
  {
   "cell_type": "code",
   "execution_count": 325,
   "id": "60f19a19-6ac9-437c-837a-bf598dfcaea9",
   "metadata": {
    "tags": []
   },
   "outputs": [],
   "source": [
    "browser.implicitly_wait(10)"
   ]
  },
  {
   "cell_type": "markdown",
   "id": "5d2e99a6-a574-4ae2-9d34-5679e30af78a",
   "metadata": {},
   "source": [
    "### paginations\n",
    "- page 2 tag: #fboardlist > div.list-page.text-center > ul > li:nth-child(4) > a\n",
    "- page 10 tag: #fboardlist > div.list-page.text-center > ul > li:nth-child(12) > a"
   ]
  },
  {
   "cell_type": "markdown",
   "id": "9fd927a7-8476-4f60-a98e-300090003a49",
   "metadata": {},
   "source": [
    "#### list\n",
    "- .list-item\n",
    "- 1st item tag: div.list-board > ul > li:nth-child(1)\n",
    "- 2st item tag: div.list-board > ul > li:nth-child(2) \n",
    "- 게시물 번호 tag: div.wr-num.hidden-xs\n",
    "- 제목 tag: div.wr-subject > a / item-subject\n",
    "- 게시날짜 tag: div.wr-date.hidden-xs\n",
    "- 조회수: div.wr-hit.hidden-xs\n",
    "- 상세 채널 리스트(채널명, 링크): \n",
    "    - 채널명tag : div.view-content > div > a\n",
    "    - 링크tag : div.view-content > div > a   attribute: href\n",
    "       "
   ]
  },
  {
   "cell_type": "code",
   "execution_count": 147,
   "id": "bdcaf613-012b-42e1-8ae9-9c339889458a",
   "metadata": {
    "collapsed": true,
    "jupyter": {
     "outputs_hidden": true
    },
    "tags": []
   },
   "outputs": [
    {
     "name": "stdout",
     "output_type": "stream",
     "text": [
      "15474 오랫동안 당신을 기다렸습니다.13회.230906 01:00 3204\n",
      "15473 이 연애는 불가항력.5회.230906 1 00:00 2355\n",
      "15472 금이야 옥이야.114회.230906 09.06 1427\n"
     ]
    },
    {
     "ename": "NoSuchWindowException",
     "evalue": "Message: no such window: target window already closed\nfrom unknown error: web view not found\n  (Session info: chrome=116.0.5845.180)\n",
     "output_type": "error",
     "traceback": [
      "\u001b[1;31m---------------------------------------------------------------------------\u001b[0m",
      "\u001b[1;31mNoSuchWindowException\u001b[0m                     Traceback (most recent call last)",
      "Cell \u001b[1;32mIn[147], line 29\u001b[0m\n\u001b[0;32m     26\u001b[0m drama\u001b[38;5;241m.\u001b[39mclick()\n\u001b[0;32m     27\u001b[0m time\u001b[38;5;241m.\u001b[39msleep(\u001b[38;5;241m2\u001b[39m)\n\u001b[1;32m---> 29\u001b[0m browser\u001b[38;5;241m.\u001b[39mback()\n\u001b[0;32m     30\u001b[0m time\u001b[38;5;241m.\u001b[39msleep\n",
      "File \u001b[1;32m~\\anaconda3\\Lib\\site-packages\\selenium\\webdriver\\remote\\webdriver.py:813\u001b[0m, in \u001b[0;36mWebDriver.back\u001b[1;34m(self)\u001b[0m\n\u001b[0;32m    806\u001b[0m \u001b[38;5;28;01mdef\u001b[39;00m \u001b[38;5;21mback\u001b[39m(\u001b[38;5;28mself\u001b[39m):\n\u001b[0;32m    807\u001b[0m \u001b[38;5;250m    \u001b[39m\u001b[38;5;124;03m\"\"\"\u001b[39;00m\n\u001b[0;32m    808\u001b[0m \u001b[38;5;124;03m    Goes one step backward in the browser history.\u001b[39;00m\n\u001b[0;32m    809\u001b[0m \n\u001b[0;32m    810\u001b[0m \u001b[38;5;124;03m    :Usage:\u001b[39;00m\n\u001b[0;32m    811\u001b[0m \u001b[38;5;124;03m        driver.back()\u001b[39;00m\n\u001b[0;32m    812\u001b[0m \u001b[38;5;124;03m    \"\"\"\u001b[39;00m\n\u001b[1;32m--> 813\u001b[0m     \u001b[38;5;28mself\u001b[39m\u001b[38;5;241m.\u001b[39mexecute(Command\u001b[38;5;241m.\u001b[39mGO_BACK)\n",
      "File \u001b[1;32m~\\anaconda3\\Lib\\site-packages\\selenium\\webdriver\\remote\\webdriver.py:321\u001b[0m, in \u001b[0;36mWebDriver.execute\u001b[1;34m(self, driver_command, params)\u001b[0m\n\u001b[0;32m    319\u001b[0m response \u001b[38;5;241m=\u001b[39m \u001b[38;5;28mself\u001b[39m\u001b[38;5;241m.\u001b[39mcommand_executor\u001b[38;5;241m.\u001b[39mexecute(driver_command, params)\n\u001b[0;32m    320\u001b[0m \u001b[38;5;28;01mif\u001b[39;00m response:\n\u001b[1;32m--> 321\u001b[0m     \u001b[38;5;28mself\u001b[39m\u001b[38;5;241m.\u001b[39merror_handler\u001b[38;5;241m.\u001b[39mcheck_response(response)\n\u001b[0;32m    322\u001b[0m     response[\u001b[38;5;124m'\u001b[39m\u001b[38;5;124mvalue\u001b[39m\u001b[38;5;124m'\u001b[39m] \u001b[38;5;241m=\u001b[39m \u001b[38;5;28mself\u001b[39m\u001b[38;5;241m.\u001b[39m_unwrap_value(\n\u001b[0;32m    323\u001b[0m         response\u001b[38;5;241m.\u001b[39mget(\u001b[38;5;124m'\u001b[39m\u001b[38;5;124mvalue\u001b[39m\u001b[38;5;124m'\u001b[39m, \u001b[38;5;28;01mNone\u001b[39;00m))\n\u001b[0;32m    324\u001b[0m     \u001b[38;5;28;01mreturn\u001b[39;00m response\n",
      "File \u001b[1;32m~\\anaconda3\\Lib\\site-packages\\selenium\\webdriver\\remote\\errorhandler.py:242\u001b[0m, in \u001b[0;36mErrorHandler.check_response\u001b[1;34m(self, response)\u001b[0m\n\u001b[0;32m    240\u001b[0m         alert_text \u001b[38;5;241m=\u001b[39m value[\u001b[38;5;124m'\u001b[39m\u001b[38;5;124malert\u001b[39m\u001b[38;5;124m'\u001b[39m]\u001b[38;5;241m.\u001b[39mget(\u001b[38;5;124m'\u001b[39m\u001b[38;5;124mtext\u001b[39m\u001b[38;5;124m'\u001b[39m)\n\u001b[0;32m    241\u001b[0m     \u001b[38;5;28;01mraise\u001b[39;00m exception_class(message, screen, stacktrace, alert_text)\n\u001b[1;32m--> 242\u001b[0m \u001b[38;5;28;01mraise\u001b[39;00m exception_class(message, screen, stacktrace)\n",
      "\u001b[1;31mNoSuchWindowException\u001b[0m: Message: no such window: target window already closed\nfrom unknown error: web view not found\n  (Session info: chrome=116.0.5845.180)\n"
     ]
    }
   ],
   "source": [
    "# link_lists = list()\n",
    "# click_path = '.list-item'\n",
    "# drama_list = browser.find_elements_by_css_selector(click_path)\n",
    "# time.sleep(2)\n",
    "# for drama in drama_list:\n",
    "    \n",
    "#     #게시물 번호, 제목, 게시날짜, 조회수 가져오기\n",
    "#     try:\n",
    "#         post_number = drama.find_element_by_css_selector('div.wr-num.hidden-xs').text\n",
    "#     except: \n",
    "#         post_number=str()\n",
    "#     try:    \n",
    "#         title = drama.find_element_by_css_selector('.item-subject').text\n",
    "#     except: \n",
    "#         title =str()\n",
    "#     try:\n",
    "#         date = drama.find_element_by_css_selector('div.wr-date.hidden-xs').text\n",
    "#     except: \n",
    "#         date = str()\n",
    "#     try:\n",
    "#         views = drama.find_element_by_css_selector('div.wr-hit.hidden-xs').text\n",
    "#     except: \n",
    "#         views = str()\n",
    "#     print(post_number, title, date, views)\n",
    "          \n",
    "#     drama.click()\n",
    "#     time.sleep(2)\n",
    "    \n",
    "#     browser.back()\n",
    "#     time.sleep"
   ]
  },
  {
   "cell_type": "markdown",
   "id": "b4ddb7a8-aedb-4e82-8d39-4e02f9bb9c39",
   "metadata": {},
   "source": [
    "#### Without Paginations"
   ]
  },
  {
   "cell_type": "code",
   "execution_count": 232,
   "id": "ea162b70-0608-4eb0-ae8e-2e007fca09ed",
   "metadata": {
    "collapsed": true,
    "jupyter": {
     "outputs_hidden": true
    },
    "tags": []
   },
   "outputs": [
    {
     "name": "stdout",
     "output_type": "stream",
     "text": [
      "15490 준과 준.8회.230907 00:00 265 [['AllViewer 720p', 'https://www.broviewer.net/?id=5230908_000627'], ['Everyvid 720p', 'https://www.everyvid.net/?fid=5230908_000604'], ['Everyvid 450p', 'https://www.everyvid.net/?fid=c5230908_000604'], ['Supervid6 720p', 'https://www6.supervid.net/2023/09/e08230907_7.html'], ['Supervid6 450p', 'https://www6.supervid.net/2023/09/e08230907.html'], ['Filemoon 720p', 'https://filemoon.sx/e/p9hsr000r565'], ['Filemoon 450p', 'https://filemoon.sx/e/l185ggqb5jae'], ['Lulu 720p', 'https://lulustream.com/e/20p36xowmq99'], ['Lulu 450p', 'https://lulustream.com/e/s9eqvu9x967b']]\n",
      "15489 이 연애는 불가항력.6회.230907 1 00:00 1232 [['AllViewer 720p', 'https://www.broviewer.net/?id=5230908_000627'], ['Everyvid 720p', 'https://www.everyvid.net/?fid=5230908_000604'], ['Everyvid 450p', 'https://www.everyvid.net/?fid=c5230908_000604'], ['Supervid6 720p', 'https://www6.supervid.net/2023/09/e08230907_7.html'], ['Supervid6 450p', 'https://www6.supervid.net/2023/09/e08230907.html'], ['Filemoon 720p', 'https://filemoon.sx/e/p9hsr000r565'], ['Filemoon 450p', 'https://filemoon.sx/e/l185ggqb5jae'], ['Lulu 720p', 'https://lulustream.com/e/20p36xowmq99'], ['Lulu 450p', 'https://lulustream.com/e/s9eqvu9x967b'], ['AllViewer 720p', 'https://www.broviewer.net/?id=5230908_000616'], ['Watchvid 720p', 'https://www.watchvid.net/?fid=5230908_000629'], ['Watchvid 450p', 'https://www.watchvid.net/?fid=c5230908_000629'], ['Everyvid 720p', 'https://www.everyvid.net/?fid=5230908_000639'], ['Everyvid 450p', 'https://www.everyvid.net/?fid=c5230908_000639'], ['Supervid6 720p', 'https://www6.supervid.net/2023/09/e06230907_68.html'], ['Supervid6 450p', 'https://www6.supervid.net/2023/09/e06230907_22.html'], ['Filemoon 720p', 'https://filemoon.sx/e/829gk0iid8iy'], ['Filemoon 450p', 'https://filemoon.sx/e/hwetib2ec159'], ['Cloudvideo 720p', 'https://cloudvideo.tv/embed-1bvvu5d1mli1.html'], ['Cloudvideo 450p', 'https://cloudvideo.tv/embed-rlwyurvogn18.html'], ['Lulu 720p', 'https://lulustream.com/e/iw3tplj97n58'], ['Lulu 450p', 'https://lulustream.com/e/4trpmzzn4ppt']]\n",
      "15488 오랫동안 당신을 기다렸습니다.14회.230907 00:00 1758 [['AllViewer 720p', 'https://www.broviewer.net/?id=5230908_000627'], ['Everyvid 720p', 'https://www.everyvid.net/?fid=5230908_000604'], ['Everyvid 450p', 'https://www.everyvid.net/?fid=c5230908_000604'], ['Supervid6 720p', 'https://www6.supervid.net/2023/09/e08230907_7.html'], ['Supervid6 450p', 'https://www6.supervid.net/2023/09/e08230907.html'], ['Filemoon 720p', 'https://filemoon.sx/e/p9hsr000r565'], ['Filemoon 450p', 'https://filemoon.sx/e/l185ggqb5jae'], ['Lulu 720p', 'https://lulustream.com/e/20p36xowmq99'], ['Lulu 450p', 'https://lulustream.com/e/s9eqvu9x967b'], ['AllViewer 720p', 'https://www.broviewer.net/?id=5230908_000616'], ['Watchvid 720p', 'https://www.watchvid.net/?fid=5230908_000629'], ['Watchvid 450p', 'https://www.watchvid.net/?fid=c5230908_000629'], ['Everyvid 720p', 'https://www.everyvid.net/?fid=5230908_000639'], ['Everyvid 450p', 'https://www.everyvid.net/?fid=c5230908_000639'], ['Supervid6 720p', 'https://www6.supervid.net/2023/09/e06230907_68.html'], ['Supervid6 450p', 'https://www6.supervid.net/2023/09/e06230907_22.html'], ['Filemoon 720p', 'https://filemoon.sx/e/829gk0iid8iy'], ['Filemoon 450p', 'https://filemoon.sx/e/hwetib2ec159'], ['Cloudvideo 720p', 'https://cloudvideo.tv/embed-1bvvu5d1mli1.html'], ['Cloudvideo 450p', 'https://cloudvideo.tv/embed-rlwyurvogn18.html'], ['Lulu 720p', 'https://lulustream.com/e/iw3tplj97n58'], ['Lulu 450p', 'https://lulustream.com/e/4trpmzzn4ppt'], ['AllViewer 720p', 'https://www.broviewer.net/?id=5230907_235721'], ['Watchvid 720p', 'https://www.watchvid.net/?fid=5230907_235701'], ['Watchvid 450p', 'https://www.watchvid.net/?fid=c5230907_235701'], ['Everyvid 720p', 'https://www.everyvid.net/?fid=5230907_235701'], ['Everyvid 450p', 'https://www.everyvid.net/?fid=c5230907_235701'], ['Supervid6 720p', 'https://www6.supervid.net/2023/09/e14230907_7.html'], ['Supervid6 450p', 'https://www6.supervid.net/2023/09/e14230907.html'], ['Filemoon 720p', 'https://filemoon.sx/e/2tvrxbxjef1v'], ['Filemoon 450p', 'https://filemoon.sx/e/pm3okl4ymgw5'], ['Cloudvideo 720p', 'https://cloudvideo.tv/embed-bnujmrowd3sf.html'], ['Cloudvideo 450p', 'https://cloudvideo.tv/embed-umspy7fon0gw.html'], ['Lulu 720p', 'https://lulustream.com/e/qpyopzz50fuc'], ['Lulu 450p', 'https://lulustream.com/e/amfqngy2nk66']]\n",
      "15487 국민사형투표.5회.230907 09.07 2159 [['AllViewer 720p', 'https://www.broviewer.net/?id=5230908_000627'], ['Everyvid 720p', 'https://www.everyvid.net/?fid=5230908_000604'], ['Everyvid 450p', 'https://www.everyvid.net/?fid=c5230908_000604'], ['Supervid6 720p', 'https://www6.supervid.net/2023/09/e08230907_7.html'], ['Supervid6 450p', 'https://www6.supervid.net/2023/09/e08230907.html'], ['Filemoon 720p', 'https://filemoon.sx/e/p9hsr000r565'], ['Filemoon 450p', 'https://filemoon.sx/e/l185ggqb5jae'], ['Lulu 720p', 'https://lulustream.com/e/20p36xowmq99'], ['Lulu 450p', 'https://lulustream.com/e/s9eqvu9x967b'], ['AllViewer 720p', 'https://www.broviewer.net/?id=5230908_000616'], ['Watchvid 720p', 'https://www.watchvid.net/?fid=5230908_000629'], ['Watchvid 450p', 'https://www.watchvid.net/?fid=c5230908_000629'], ['Everyvid 720p', 'https://www.everyvid.net/?fid=5230908_000639'], ['Everyvid 450p', 'https://www.everyvid.net/?fid=c5230908_000639'], ['Supervid6 720p', 'https://www6.supervid.net/2023/09/e06230907_68.html'], ['Supervid6 450p', 'https://www6.supervid.net/2023/09/e06230907_22.html'], ['Filemoon 720p', 'https://filemoon.sx/e/829gk0iid8iy'], ['Filemoon 450p', 'https://filemoon.sx/e/hwetib2ec159'], ['Cloudvideo 720p', 'https://cloudvideo.tv/embed-1bvvu5d1mli1.html'], ['Cloudvideo 450p', 'https://cloudvideo.tv/embed-rlwyurvogn18.html'], ['Lulu 720p', 'https://lulustream.com/e/iw3tplj97n58'], ['Lulu 450p', 'https://lulustream.com/e/4trpmzzn4ppt'], ['AllViewer 720p', 'https://www.broviewer.net/?id=5230907_235721'], ['Watchvid 720p', 'https://www.watchvid.net/?fid=5230907_235701'], ['Watchvid 450p', 'https://www.watchvid.net/?fid=c5230907_235701'], ['Everyvid 720p', 'https://www.everyvid.net/?fid=5230907_235701'], ['Everyvid 450p', 'https://www.everyvid.net/?fid=c5230907_235701'], ['Supervid6 720p', 'https://www6.supervid.net/2023/09/e14230907_7.html'], ['Supervid6 450p', 'https://www6.supervid.net/2023/09/e14230907.html'], ['Filemoon 720p', 'https://filemoon.sx/e/2tvrxbxjef1v'], ['Filemoon 450p', 'https://filemoon.sx/e/pm3okl4ymgw5'], ['Cloudvideo 720p', 'https://cloudvideo.tv/embed-bnujmrowd3sf.html'], ['Cloudvideo 450p', 'https://cloudvideo.tv/embed-umspy7fon0gw.html'], ['Lulu 720p', 'https://lulustream.com/e/qpyopzz50fuc'], ['Lulu 450p', 'https://lulustream.com/e/amfqngy2nk66']]\n"
     ]
    },
    {
     "ename": "StaleElementReferenceException",
     "evalue": "Message: stale element reference: stale element not found\n  (Session info: chrome=116.0.5845.180)\n",
     "output_type": "error",
     "traceback": [
      "\u001b[1;31m---------------------------------------------------------------------------\u001b[0m",
      "\u001b[1;31mStaleElementReferenceException\u001b[0m            Traceback (most recent call last)",
      "Cell \u001b[1;32mIn[232], line 27\u001b[0m\n\u001b[0;32m     23\u001b[0m \u001b[38;5;28;01mexcept\u001b[39;00m: \n\u001b[0;32m     24\u001b[0m     views \u001b[38;5;241m=\u001b[39m \u001b[38;5;28mstr\u001b[39m()\n\u001b[1;32m---> 27\u001b[0m drama\u001b[38;5;241m.\u001b[39mclick()\n\u001b[0;32m     28\u001b[0m time\u001b[38;5;241m.\u001b[39msleep(\u001b[38;5;241m2\u001b[39m)\n\u001b[0;32m     31\u001b[0m \u001b[38;5;66;03m#상세 페이지 채널명, 링크 가져오기 \u001b[39;00m\n",
      "File \u001b[1;32m~\\anaconda3\\Lib\\site-packages\\selenium\\webdriver\\remote\\webelement.py:80\u001b[0m, in \u001b[0;36mWebElement.click\u001b[1;34m(self)\u001b[0m\n\u001b[0;32m     78\u001b[0m \u001b[38;5;28;01mdef\u001b[39;00m \u001b[38;5;21mclick\u001b[39m(\u001b[38;5;28mself\u001b[39m):\n\u001b[0;32m     79\u001b[0m \u001b[38;5;250m    \u001b[39m\u001b[38;5;124;03m\"\"\"Clicks the element.\"\"\"\u001b[39;00m\n\u001b[1;32m---> 80\u001b[0m     \u001b[38;5;28mself\u001b[39m\u001b[38;5;241m.\u001b[39m_execute(Command\u001b[38;5;241m.\u001b[39mCLICK_ELEMENT)\n",
      "File \u001b[1;32m~\\anaconda3\\Lib\\site-packages\\selenium\\webdriver\\remote\\webelement.py:633\u001b[0m, in \u001b[0;36mWebElement._execute\u001b[1;34m(self, command, params)\u001b[0m\n\u001b[0;32m    631\u001b[0m     params \u001b[38;5;241m=\u001b[39m {}\n\u001b[0;32m    632\u001b[0m params[\u001b[38;5;124m'\u001b[39m\u001b[38;5;124mid\u001b[39m\u001b[38;5;124m'\u001b[39m] \u001b[38;5;241m=\u001b[39m \u001b[38;5;28mself\u001b[39m\u001b[38;5;241m.\u001b[39m_id\n\u001b[1;32m--> 633\u001b[0m \u001b[38;5;28;01mreturn\u001b[39;00m \u001b[38;5;28mself\u001b[39m\u001b[38;5;241m.\u001b[39m_parent\u001b[38;5;241m.\u001b[39mexecute(command, params)\n",
      "File \u001b[1;32m~\\anaconda3\\Lib\\site-packages\\selenium\\webdriver\\remote\\webdriver.py:321\u001b[0m, in \u001b[0;36mWebDriver.execute\u001b[1;34m(self, driver_command, params)\u001b[0m\n\u001b[0;32m    319\u001b[0m response \u001b[38;5;241m=\u001b[39m \u001b[38;5;28mself\u001b[39m\u001b[38;5;241m.\u001b[39mcommand_executor\u001b[38;5;241m.\u001b[39mexecute(driver_command, params)\n\u001b[0;32m    320\u001b[0m \u001b[38;5;28;01mif\u001b[39;00m response:\n\u001b[1;32m--> 321\u001b[0m     \u001b[38;5;28mself\u001b[39m\u001b[38;5;241m.\u001b[39merror_handler\u001b[38;5;241m.\u001b[39mcheck_response(response)\n\u001b[0;32m    322\u001b[0m     response[\u001b[38;5;124m'\u001b[39m\u001b[38;5;124mvalue\u001b[39m\u001b[38;5;124m'\u001b[39m] \u001b[38;5;241m=\u001b[39m \u001b[38;5;28mself\u001b[39m\u001b[38;5;241m.\u001b[39m_unwrap_value(\n\u001b[0;32m    323\u001b[0m         response\u001b[38;5;241m.\u001b[39mget(\u001b[38;5;124m'\u001b[39m\u001b[38;5;124mvalue\u001b[39m\u001b[38;5;124m'\u001b[39m, \u001b[38;5;28;01mNone\u001b[39;00m))\n\u001b[0;32m    324\u001b[0m     \u001b[38;5;28;01mreturn\u001b[39;00m response\n",
      "File \u001b[1;32m~\\anaconda3\\Lib\\site-packages\\selenium\\webdriver\\remote\\errorhandler.py:242\u001b[0m, in \u001b[0;36mErrorHandler.check_response\u001b[1;34m(self, response)\u001b[0m\n\u001b[0;32m    240\u001b[0m         alert_text \u001b[38;5;241m=\u001b[39m value[\u001b[38;5;124m'\u001b[39m\u001b[38;5;124malert\u001b[39m\u001b[38;5;124m'\u001b[39m]\u001b[38;5;241m.\u001b[39mget(\u001b[38;5;124m'\u001b[39m\u001b[38;5;124mtext\u001b[39m\u001b[38;5;124m'\u001b[39m)\n\u001b[0;32m    241\u001b[0m     \u001b[38;5;28;01mraise\u001b[39;00m exception_class(message, screen, stacktrace, alert_text)\n\u001b[1;32m--> 242\u001b[0m \u001b[38;5;28;01mraise\u001b[39;00m exception_class(message, screen, stacktrace)\n",
      "\u001b[1;31mStaleElementReferenceException\u001b[0m: Message: stale element reference: stale element not found\n  (Session info: chrome=116.0.5845.180)\n"
     ]
    }
   ],
   "source": [
    "link_lists = list()\n",
    "click_path = '.list-item'\n",
    "drama_list = browser.find_elements_by_css_selector(click_path)\n",
    "time.sleep(2)\n",
    "\n",
    "for drama in drama_list:\n",
    "    \n",
    "    #게시물 번호, 제목, 게시날짜, 조회수 가져오기\n",
    "    try:\n",
    "        post_number = drama.find_element_by_css_selector('div.wr-num.hidden-xs').text\n",
    "    except: \n",
    "        post_number=str()\n",
    "    try:    \n",
    "        title = drama.find_element_by_css_selector('.item-subject').text\n",
    "    except: \n",
    "        title =str()\n",
    "    try:\n",
    "        date = drama.find_element_by_css_selector('div.wr-date.hidden-xs').text\n",
    "    except: \n",
    "        date = str()\n",
    "    try:\n",
    "        views = drama.find_element_by_css_selector('div.wr-hit.hidden-xs').text\n",
    "    except: \n",
    "        views = str()\n",
    "   \n",
    "          \n",
    "    drama.click()\n",
    "    time.sleep(2)\n",
    "\n",
    "    \n",
    "    #상세 페이지 채널명, 링크 가져오기 \n",
    "    link_name_list = browser.find_elements_by_css_selector('div.view-content > div > a')\n",
    "    for link in link_name_list:\n",
    "        link_name = link.text\n",
    "        link_url = link.get_attribute('href')\n",
    "        link_list= [link_name, link_url]\n",
    "        link_lists.append(link_list)\n",
    "    \n",
    "    print(post_number, title, date, views, link_lists)\n",
    "    \n",
    "    browser.back() #뒤로 가기 \n",
    "    \n",
    "#         # 저장 위한 작업\n",
    "#         df_reviews = pd.DataFrame(data=reviews_list, columns=serviceapp_columns_name)\n",
    "#         data_dict = df_reviews.to_dict(orient='records')\n",
    "#         collection.insert_many(data_dict)\n",
    "        \n",
    "#     print('service_name : {}, review count : {}'.format(service_name, len(reviews_list)))\n",
    "#     browser.back()#리스트로 돌아기기\n",
    "#     time.sleep(3) "
   ]
  },
  {
   "cell_type": "code",
   "execution_count": 241,
   "id": "3ed65cef-3baf-4c52-ab31-3250617aa45b",
   "metadata": {
    "tags": []
   },
   "outputs": [],
   "source": [
    "browser.find_element_by_css_selector('#fboardlist > div.list-page.text-center > ul > li:nth-child(5) > a').click()"
   ]
  },
  {
   "cell_type": "code",
   "execution_count": 321,
   "id": "74449338-e542-4749-858e-eb6be228dd79",
   "metadata": {
    "tags": []
   },
   "outputs": [
    {
     "name": "stdout",
     "output_type": "stream",
     "text": [
      "['15495', '\"이 연애는 불가항력.6회.230907', '10:00', '25', []]\n",
      "['', '', '', '', []]\n",
      "['', '', '', '', []]\n",
      "페이지네이션 실패\n",
      "페이지네이션 실패\n",
      "페이지네이션 실패\n",
      "페이지네이션 실패\n",
      "페이지네이션 실패\n",
      "페이지네이션 실패\n",
      "페이지네이션 실패\n",
      "페이지네이션 실패\n",
      "페이지네이션 실패\n",
      "페이지네이션 실패\n"
     ]
    }
   ],
   "source": [
    "        click_path = '.list-item'\n",
    "        drama_list = browser.find_elements_by_css_selector(click_path)\n",
    "        drama_li = []\n",
    "        for drama in drama_list:\n",
    "            time.sleep(2)\n",
    "            \n",
    "            drama_info = {}\n",
    "            \n",
    "            #게시물 번호, 제목, 게시날짜, 조회수 가져오기\n",
    "            try:\n",
    "                drama_info['post_number'] = drama.find_element_by_css_selector('div.wr-num.hidden-xs').text\n",
    "            except: \n",
    "                drama_info['post_number']=str()\n",
    "            try:    \n",
    "                drama_info['title'] = drama.find_element_by_css_selector('.item-subject').text\n",
    "            except: \n",
    "                drama_info['title'] =str()\n",
    "            try:\n",
    "                drama_info['date'] = drama.find_element_by_css_selector('div.wr-date.hidden-xs').text\n",
    "            except: \n",
    "                drama_info['date'] = str()\n",
    "            try:\n",
    "                drama_info['views'] = drama.find_element_by_css_selector('div.wr-hit.hidden-xs').text\n",
    "            except: \n",
    "                drama_info['views'] = str()\n",
    "    \n",
    "            drama.click()\n",
    "            time.sleep(2)\n",
    "\n",
    "        #상세 페이지 채널명, 링크 가져오기 \n",
    "            link_lists = []\n",
    "            link_name_list = browser.find_elements_by_css_selector('div.view-content > div > a')\n",
    "            for link in link_name_list:\n",
    "                link_name = link.text\n",
    "                link_url = link.get_attribute('href')\n",
    "                link_list= [link_name, link_url]\n",
    "                link_lists.append(link_list)\n",
    "            time.sleep(3)\n",
    "            \n",
    "            drama_info['links'] = link_lists \n",
    "            \n",
    "            drama_li.append(drama_info) \n",
    "            \n",
    "            print(drama_li)\n",
    "            browser.back() #뒤로 가기"
   ]
  },
  {
   "cell_type": "code",
   "execution_count": 277,
   "id": "e230150a-3f08-46d3-abf6-fc97282aa316",
   "metadata": {
    "tags": []
   },
   "outputs": [
    {
     "name": "stdout",
     "output_type": "stream",
     "text": [
      "[{'post_number': '15490', 'title': '준과 준.8회.230907', 'date': '00:00', 'views': '288', 'links': [['AllViewer 720p', 'https://www.broviewer.net/?id=5230908_000627'], ['Everyvid 720p', 'https://www.everyvid.net/?fid=5230908_000604'], ['Everyvid 450p', 'https://www.everyvid.net/?fid=c5230908_000604'], ['Supervid6 720p', 'https://www6.supervid.net/2023/09/e08230907_7.html'], ['Supervid6 450p', 'https://www6.supervid.net/2023/09/e08230907.html'], ['Filemoon 720p', 'https://filemoon.sx/e/p9hsr000r565'], ['Filemoon 450p', 'https://filemoon.sx/e/l185ggqb5jae'], ['Lulu 720p', 'https://lulustream.com/e/20p36xowmq99'], ['Lulu 450p', 'https://lulustream.com/e/s9eqvu9x967b']]}]\n",
      "[{'post_number': '15490', 'title': '준과 준.8회.230907', 'date': '00:00', 'views': '288', 'links': [['AllViewer 720p', 'https://www.broviewer.net/?id=5230908_000627'], ['Everyvid 720p', 'https://www.everyvid.net/?fid=5230908_000604'], ['Everyvid 450p', 'https://www.everyvid.net/?fid=c5230908_000604'], ['Supervid6 720p', 'https://www6.supervid.net/2023/09/e08230907_7.html'], ['Supervid6 450p', 'https://www6.supervid.net/2023/09/e08230907.html'], ['Filemoon 720p', 'https://filemoon.sx/e/p9hsr000r565'], ['Filemoon 450p', 'https://filemoon.sx/e/l185ggqb5jae'], ['Lulu 720p', 'https://lulustream.com/e/20p36xowmq99'], ['Lulu 450p', 'https://lulustream.com/e/s9eqvu9x967b']]}, {'post_number': '15489', 'title': '이 연애는 불가항력.6회.230907 1', 'date': '00:00', 'views': '1317', 'links': [['AllViewer 720p', 'https://www.broviewer.net/?id=5230908_000616'], ['Watchvid 720p', 'https://www.watchvid.net/?fid=5230908_000629'], ['Watchvid 450p', 'https://www.watchvid.net/?fid=c5230908_000629'], ['Everyvid 720p', 'https://www.everyvid.net/?fid=5230908_000639'], ['Everyvid 450p', 'https://www.everyvid.net/?fid=c5230908_000639'], ['Supervid6 720p', 'https://www6.supervid.net/2023/09/e06230907_68.html'], ['Supervid6 450p', 'https://www6.supervid.net/2023/09/e06230907_22.html'], ['Filemoon 720p', 'https://filemoon.sx/e/829gk0iid8iy'], ['Filemoon 450p', 'https://filemoon.sx/e/hwetib2ec159'], ['Cloudvideo 720p', 'https://cloudvideo.tv/embed-1bvvu5d1mli1.html'], ['Cloudvideo 450p', 'https://cloudvideo.tv/embed-rlwyurvogn18.html'], ['Lulu 720p', 'https://lulustream.com/e/iw3tplj97n58'], ['Lulu 450p', 'https://lulustream.com/e/4trpmzzn4ppt']]}]\n",
      "[{'post_number': '15490', 'title': '준과 준.8회.230907', 'date': '00:00', 'views': '288', 'links': [['AllViewer 720p', 'https://www.broviewer.net/?id=5230908_000627'], ['Everyvid 720p', 'https://www.everyvid.net/?fid=5230908_000604'], ['Everyvid 450p', 'https://www.everyvid.net/?fid=c5230908_000604'], ['Supervid6 720p', 'https://www6.supervid.net/2023/09/e08230907_7.html'], ['Supervid6 450p', 'https://www6.supervid.net/2023/09/e08230907.html'], ['Filemoon 720p', 'https://filemoon.sx/e/p9hsr000r565'], ['Filemoon 450p', 'https://filemoon.sx/e/l185ggqb5jae'], ['Lulu 720p', 'https://lulustream.com/e/20p36xowmq99'], ['Lulu 450p', 'https://lulustream.com/e/s9eqvu9x967b']]}, {'post_number': '15489', 'title': '이 연애는 불가항력.6회.230907 1', 'date': '00:00', 'views': '1317', 'links': [['AllViewer 720p', 'https://www.broviewer.net/?id=5230908_000616'], ['Watchvid 720p', 'https://www.watchvid.net/?fid=5230908_000629'], ['Watchvid 450p', 'https://www.watchvid.net/?fid=c5230908_000629'], ['Everyvid 720p', 'https://www.everyvid.net/?fid=5230908_000639'], ['Everyvid 450p', 'https://www.everyvid.net/?fid=c5230908_000639'], ['Supervid6 720p', 'https://www6.supervid.net/2023/09/e06230907_68.html'], ['Supervid6 450p', 'https://www6.supervid.net/2023/09/e06230907_22.html'], ['Filemoon 720p', 'https://filemoon.sx/e/829gk0iid8iy'], ['Filemoon 450p', 'https://filemoon.sx/e/hwetib2ec159'], ['Cloudvideo 720p', 'https://cloudvideo.tv/embed-1bvvu5d1mli1.html'], ['Cloudvideo 450p', 'https://cloudvideo.tv/embed-rlwyurvogn18.html'], ['Lulu 720p', 'https://lulustream.com/e/iw3tplj97n58'], ['Lulu 450p', 'https://lulustream.com/e/4trpmzzn4ppt']]}, {'post_number': '15488', 'title': '오랫동안 당신을 기다렸습니다.14회.230907', 'date': '00:00', 'views': '1837', 'links': [['AllViewer 720p', 'https://www.broviewer.net/?id=5230907_235721'], ['Watchvid 720p', 'https://www.watchvid.net/?fid=5230907_235701'], ['Watchvid 450p', 'https://www.watchvid.net/?fid=c5230907_235701'], ['Everyvid 720p', 'https://www.everyvid.net/?fid=5230907_235701'], ['Everyvid 450p', 'https://www.everyvid.net/?fid=c5230907_235701'], ['Supervid6 720p', 'https://www6.supervid.net/2023/09/e14230907_7.html'], ['Supervid6 450p', 'https://www6.supervid.net/2023/09/e14230907.html'], ['Filemoon 720p', 'https://filemoon.sx/e/2tvrxbxjef1v'], ['Filemoon 450p', 'https://filemoon.sx/e/pm3okl4ymgw5'], ['Cloudvideo 720p', 'https://cloudvideo.tv/embed-bnujmrowd3sf.html'], ['Cloudvideo 450p', 'https://cloudvideo.tv/embed-umspy7fon0gw.html'], ['Lulu 720p', 'https://lulustream.com/e/qpyopzz50fuc'], ['Lulu 450p', 'https://lulustream.com/e/amfqngy2nk66']]}]\n",
      "[{'post_number': '15490', 'title': '준과 준.8회.230907', 'date': '00:00', 'views': '288', 'links': [['AllViewer 720p', 'https://www.broviewer.net/?id=5230908_000627'], ['Everyvid 720p', 'https://www.everyvid.net/?fid=5230908_000604'], ['Everyvid 450p', 'https://www.everyvid.net/?fid=c5230908_000604'], ['Supervid6 720p', 'https://www6.supervid.net/2023/09/e08230907_7.html'], ['Supervid6 450p', 'https://www6.supervid.net/2023/09/e08230907.html'], ['Filemoon 720p', 'https://filemoon.sx/e/p9hsr000r565'], ['Filemoon 450p', 'https://filemoon.sx/e/l185ggqb5jae'], ['Lulu 720p', 'https://lulustream.com/e/20p36xowmq99'], ['Lulu 450p', 'https://lulustream.com/e/s9eqvu9x967b']]}, {'post_number': '15489', 'title': '이 연애는 불가항력.6회.230907 1', 'date': '00:00', 'views': '1317', 'links': [['AllViewer 720p', 'https://www.broviewer.net/?id=5230908_000616'], ['Watchvid 720p', 'https://www.watchvid.net/?fid=5230908_000629'], ['Watchvid 450p', 'https://www.watchvid.net/?fid=c5230908_000629'], ['Everyvid 720p', 'https://www.everyvid.net/?fid=5230908_000639'], ['Everyvid 450p', 'https://www.everyvid.net/?fid=c5230908_000639'], ['Supervid6 720p', 'https://www6.supervid.net/2023/09/e06230907_68.html'], ['Supervid6 450p', 'https://www6.supervid.net/2023/09/e06230907_22.html'], ['Filemoon 720p', 'https://filemoon.sx/e/829gk0iid8iy'], ['Filemoon 450p', 'https://filemoon.sx/e/hwetib2ec159'], ['Cloudvideo 720p', 'https://cloudvideo.tv/embed-1bvvu5d1mli1.html'], ['Cloudvideo 450p', 'https://cloudvideo.tv/embed-rlwyurvogn18.html'], ['Lulu 720p', 'https://lulustream.com/e/iw3tplj97n58'], ['Lulu 450p', 'https://lulustream.com/e/4trpmzzn4ppt']]}, {'post_number': '15488', 'title': '오랫동안 당신을 기다렸습니다.14회.230907', 'date': '00:00', 'views': '1837', 'links': [['AllViewer 720p', 'https://www.broviewer.net/?id=5230907_235721'], ['Watchvid 720p', 'https://www.watchvid.net/?fid=5230907_235701'], ['Watchvid 450p', 'https://www.watchvid.net/?fid=c5230907_235701'], ['Everyvid 720p', 'https://www.everyvid.net/?fid=5230907_235701'], ['Everyvid 450p', 'https://www.everyvid.net/?fid=c5230907_235701'], ['Supervid6 720p', 'https://www6.supervid.net/2023/09/e14230907_7.html'], ['Supervid6 450p', 'https://www6.supervid.net/2023/09/e14230907.html'], ['Filemoon 720p', 'https://filemoon.sx/e/2tvrxbxjef1v'], ['Filemoon 450p', 'https://filemoon.sx/e/pm3okl4ymgw5'], ['Cloudvideo 720p', 'https://cloudvideo.tv/embed-bnujmrowd3sf.html'], ['Cloudvideo 450p', 'https://cloudvideo.tv/embed-umspy7fon0gw.html'], ['Lulu 720p', 'https://lulustream.com/e/qpyopzz50fuc'], ['Lulu 450p', 'https://lulustream.com/e/amfqngy2nk66']]}, {'post_number': '15487', 'title': '국민사형투표.5회.230907', 'date': '09.07', 'views': '2264', 'links': [['AllViewer 720p', 'https://www.broviewer.net/?id=5230907_222307'], ['Watchvid 720p', 'https://www.watchvid.net/?fid=5230907_222239'], ['Watchvid 450p', 'https://www.watchvid.net/?fid=c5230907_222239'], ['Everyvid 720p', 'https://www.everyvid.net/?fid=5230907_222236'], ['Everyvid 450p', 'https://www.everyvid.net/?fid=c5230907_222236'], ['Supervid6 720p', 'https://www6.supervid.net/2023/09/e05230907_7.html'], ['Supervid6 450p', 'https://www6.supervid.net/2023/09/e05230907.html'], ['Filemoon 720p', 'https://filemoon.sx/e/jsd9yg05xe4o'], ['Filemoon 450p', 'https://filemoon.sx/e/lkbczj60ahgo'], ['Cloudvideo 720p', 'https://cloudvideo.tv/embed-58z5wmr7avrm.html'], ['Cloudvideo 450p', 'https://cloudvideo.tv/embed-7mjedvfhrz2m.html'], ['Lulu 720p', 'https://lulustream.com/e/ztdfwecv141f'], ['Lulu 450p', 'https://lulustream.com/e/tdwjt4479zgo']]}]\n",
      "[{'post_number': '15490', 'title': '준과 준.8회.230907', 'date': '00:00', 'views': '288', 'links': [['AllViewer 720p', 'https://www.broviewer.net/?id=5230908_000627'], ['Everyvid 720p', 'https://www.everyvid.net/?fid=5230908_000604'], ['Everyvid 450p', 'https://www.everyvid.net/?fid=c5230908_000604'], ['Supervid6 720p', 'https://www6.supervid.net/2023/09/e08230907_7.html'], ['Supervid6 450p', 'https://www6.supervid.net/2023/09/e08230907.html'], ['Filemoon 720p', 'https://filemoon.sx/e/p9hsr000r565'], ['Filemoon 450p', 'https://filemoon.sx/e/l185ggqb5jae'], ['Lulu 720p', 'https://lulustream.com/e/20p36xowmq99'], ['Lulu 450p', 'https://lulustream.com/e/s9eqvu9x967b']]}, {'post_number': '15489', 'title': '이 연애는 불가항력.6회.230907 1', 'date': '00:00', 'views': '1317', 'links': [['AllViewer 720p', 'https://www.broviewer.net/?id=5230908_000616'], ['Watchvid 720p', 'https://www.watchvid.net/?fid=5230908_000629'], ['Watchvid 450p', 'https://www.watchvid.net/?fid=c5230908_000629'], ['Everyvid 720p', 'https://www.everyvid.net/?fid=5230908_000639'], ['Everyvid 450p', 'https://www.everyvid.net/?fid=c5230908_000639'], ['Supervid6 720p', 'https://www6.supervid.net/2023/09/e06230907_68.html'], ['Supervid6 450p', 'https://www6.supervid.net/2023/09/e06230907_22.html'], ['Filemoon 720p', 'https://filemoon.sx/e/829gk0iid8iy'], ['Filemoon 450p', 'https://filemoon.sx/e/hwetib2ec159'], ['Cloudvideo 720p', 'https://cloudvideo.tv/embed-1bvvu5d1mli1.html'], ['Cloudvideo 450p', 'https://cloudvideo.tv/embed-rlwyurvogn18.html'], ['Lulu 720p', 'https://lulustream.com/e/iw3tplj97n58'], ['Lulu 450p', 'https://lulustream.com/e/4trpmzzn4ppt']]}, {'post_number': '15488', 'title': '오랫동안 당신을 기다렸습니다.14회.230907', 'date': '00:00', 'views': '1837', 'links': [['AllViewer 720p', 'https://www.broviewer.net/?id=5230907_235721'], ['Watchvid 720p', 'https://www.watchvid.net/?fid=5230907_235701'], ['Watchvid 450p', 'https://www.watchvid.net/?fid=c5230907_235701'], ['Everyvid 720p', 'https://www.everyvid.net/?fid=5230907_235701'], ['Everyvid 450p', 'https://www.everyvid.net/?fid=c5230907_235701'], ['Supervid6 720p', 'https://www6.supervid.net/2023/09/e14230907_7.html'], ['Supervid6 450p', 'https://www6.supervid.net/2023/09/e14230907.html'], ['Filemoon 720p', 'https://filemoon.sx/e/2tvrxbxjef1v'], ['Filemoon 450p', 'https://filemoon.sx/e/pm3okl4ymgw5'], ['Cloudvideo 720p', 'https://cloudvideo.tv/embed-bnujmrowd3sf.html'], ['Cloudvideo 450p', 'https://cloudvideo.tv/embed-umspy7fon0gw.html'], ['Lulu 720p', 'https://lulustream.com/e/qpyopzz50fuc'], ['Lulu 450p', 'https://lulustream.com/e/amfqngy2nk66']]}, {'post_number': '15487', 'title': '국민사형투표.5회.230907', 'date': '09.07', 'views': '2264', 'links': [['AllViewer 720p', 'https://www.broviewer.net/?id=5230907_222307'], ['Watchvid 720p', 'https://www.watchvid.net/?fid=5230907_222239'], ['Watchvid 450p', 'https://www.watchvid.net/?fid=c5230907_222239'], ['Everyvid 720p', 'https://www.everyvid.net/?fid=5230907_222236'], ['Everyvid 450p', 'https://www.everyvid.net/?fid=c5230907_222236'], ['Supervid6 720p', 'https://www6.supervid.net/2023/09/e05230907_7.html'], ['Supervid6 450p', 'https://www6.supervid.net/2023/09/e05230907.html'], ['Filemoon 720p', 'https://filemoon.sx/e/jsd9yg05xe4o'], ['Filemoon 450p', 'https://filemoon.sx/e/lkbczj60ahgo'], ['Cloudvideo 720p', 'https://cloudvideo.tv/embed-58z5wmr7avrm.html'], ['Cloudvideo 450p', 'https://cloudvideo.tv/embed-7mjedvfhrz2m.html'], ['Lulu 720p', 'https://lulustream.com/e/ztdfwecv141f'], ['Lulu 450p', 'https://lulustream.com/e/tdwjt4479zgo']]}, {'post_number': '15486', 'title': '금이야 옥이야.115회.230907', 'date': '09.07', 'views': '1089', 'links': [['AllViewer 720p', 'https://www.broviewer.net/?id=5230907_210640'], ['Watchvid 720p', 'https://www.watchvid.net/?fid=5230907_210636'], ['Watchvid 450p', 'https://www.watchvid.net/?fid=c5230907_210636'], ['Everyvid 720p', 'https://www.everyvid.net/?fid=5230907_210635'], ['Everyvid 450p', 'https://www.everyvid.net/?fid=c5230907_210635'], ['Supervid6 720p', 'https://www6.supervid.net/2023/09/e115230907_7.html'], ['Supervid6 450p', 'https://www6.supervid.net/2023/09/e115230907.html'], ['Filemoon 720p', 'https://filemoon.sx/e/2nvx3v8lf0p5'], ['Filemoon 450p', 'https://filemoon.sx/e/r37p683cmf4o'], ['Cloudvideo 720p', 'https://cloudvideo.tv/embed-4yj4mku46egu.html'], ['Cloudvideo 450p', 'https://cloudvideo.tv/embed-wb64h36yzss0.html'], ['Lulu 720p', 'https://lulustream.com/e/72qgyfhncdxe'], ['Lulu 450p', 'https://lulustream.com/e/f5tvu2efhwik']]}]\n",
      "[{'post_number': '15490', 'title': '준과 준.8회.230907', 'date': '00:00', 'views': '288', 'links': [['AllViewer 720p', 'https://www.broviewer.net/?id=5230908_000627'], ['Everyvid 720p', 'https://www.everyvid.net/?fid=5230908_000604'], ['Everyvid 450p', 'https://www.everyvid.net/?fid=c5230908_000604'], ['Supervid6 720p', 'https://www6.supervid.net/2023/09/e08230907_7.html'], ['Supervid6 450p', 'https://www6.supervid.net/2023/09/e08230907.html'], ['Filemoon 720p', 'https://filemoon.sx/e/p9hsr000r565'], ['Filemoon 450p', 'https://filemoon.sx/e/l185ggqb5jae'], ['Lulu 720p', 'https://lulustream.com/e/20p36xowmq99'], ['Lulu 450p', 'https://lulustream.com/e/s9eqvu9x967b']]}, {'post_number': '15489', 'title': '이 연애는 불가항력.6회.230907 1', 'date': '00:00', 'views': '1317', 'links': [['AllViewer 720p', 'https://www.broviewer.net/?id=5230908_000616'], ['Watchvid 720p', 'https://www.watchvid.net/?fid=5230908_000629'], ['Watchvid 450p', 'https://www.watchvid.net/?fid=c5230908_000629'], ['Everyvid 720p', 'https://www.everyvid.net/?fid=5230908_000639'], ['Everyvid 450p', 'https://www.everyvid.net/?fid=c5230908_000639'], ['Supervid6 720p', 'https://www6.supervid.net/2023/09/e06230907_68.html'], ['Supervid6 450p', 'https://www6.supervid.net/2023/09/e06230907_22.html'], ['Filemoon 720p', 'https://filemoon.sx/e/829gk0iid8iy'], ['Filemoon 450p', 'https://filemoon.sx/e/hwetib2ec159'], ['Cloudvideo 720p', 'https://cloudvideo.tv/embed-1bvvu5d1mli1.html'], ['Cloudvideo 450p', 'https://cloudvideo.tv/embed-rlwyurvogn18.html'], ['Lulu 720p', 'https://lulustream.com/e/iw3tplj97n58'], ['Lulu 450p', 'https://lulustream.com/e/4trpmzzn4ppt']]}, {'post_number': '15488', 'title': '오랫동안 당신을 기다렸습니다.14회.230907', 'date': '00:00', 'views': '1837', 'links': [['AllViewer 720p', 'https://www.broviewer.net/?id=5230907_235721'], ['Watchvid 720p', 'https://www.watchvid.net/?fid=5230907_235701'], ['Watchvid 450p', 'https://www.watchvid.net/?fid=c5230907_235701'], ['Everyvid 720p', 'https://www.everyvid.net/?fid=5230907_235701'], ['Everyvid 450p', 'https://www.everyvid.net/?fid=c5230907_235701'], ['Supervid6 720p', 'https://www6.supervid.net/2023/09/e14230907_7.html'], ['Supervid6 450p', 'https://www6.supervid.net/2023/09/e14230907.html'], ['Filemoon 720p', 'https://filemoon.sx/e/2tvrxbxjef1v'], ['Filemoon 450p', 'https://filemoon.sx/e/pm3okl4ymgw5'], ['Cloudvideo 720p', 'https://cloudvideo.tv/embed-bnujmrowd3sf.html'], ['Cloudvideo 450p', 'https://cloudvideo.tv/embed-umspy7fon0gw.html'], ['Lulu 720p', 'https://lulustream.com/e/qpyopzz50fuc'], ['Lulu 450p', 'https://lulustream.com/e/amfqngy2nk66']]}, {'post_number': '15487', 'title': '국민사형투표.5회.230907', 'date': '09.07', 'views': '2264', 'links': [['AllViewer 720p', 'https://www.broviewer.net/?id=5230907_222307'], ['Watchvid 720p', 'https://www.watchvid.net/?fid=5230907_222239'], ['Watchvid 450p', 'https://www.watchvid.net/?fid=c5230907_222239'], ['Everyvid 720p', 'https://www.everyvid.net/?fid=5230907_222236'], ['Everyvid 450p', 'https://www.everyvid.net/?fid=c5230907_222236'], ['Supervid6 720p', 'https://www6.supervid.net/2023/09/e05230907_7.html'], ['Supervid6 450p', 'https://www6.supervid.net/2023/09/e05230907.html'], ['Filemoon 720p', 'https://filemoon.sx/e/jsd9yg05xe4o'], ['Filemoon 450p', 'https://filemoon.sx/e/lkbczj60ahgo'], ['Cloudvideo 720p', 'https://cloudvideo.tv/embed-58z5wmr7avrm.html'], ['Cloudvideo 450p', 'https://cloudvideo.tv/embed-7mjedvfhrz2m.html'], ['Lulu 720p', 'https://lulustream.com/e/ztdfwecv141f'], ['Lulu 450p', 'https://lulustream.com/e/tdwjt4479zgo']]}, {'post_number': '15486', 'title': '금이야 옥이야.115회.230907', 'date': '09.07', 'views': '1089', 'links': [['AllViewer 720p', 'https://www.broviewer.net/?id=5230907_210640'], ['Watchvid 720p', 'https://www.watchvid.net/?fid=5230907_210636'], ['Watchvid 450p', 'https://www.watchvid.net/?fid=c5230907_210636'], ['Everyvid 720p', 'https://www.everyvid.net/?fid=5230907_210635'], ['Everyvid 450p', 'https://www.everyvid.net/?fid=c5230907_210635'], ['Supervid6 720p', 'https://www6.supervid.net/2023/09/e115230907_7.html'], ['Supervid6 450p', 'https://www6.supervid.net/2023/09/e115230907.html'], ['Filemoon 720p', 'https://filemoon.sx/e/2nvx3v8lf0p5'], ['Filemoon 450p', 'https://filemoon.sx/e/r37p683cmf4o'], ['Cloudvideo 720p', 'https://cloudvideo.tv/embed-4yj4mku46egu.html'], ['Cloudvideo 450p', 'https://cloudvideo.tv/embed-wb64h36yzss0.html'], ['Lulu 720p', 'https://lulustream.com/e/72qgyfhncdxe'], ['Lulu 450p', 'https://lulustream.com/e/f5tvu2efhwik']]}, {'post_number': '15485', 'title': '우아한 제국.23회.230907', 'date': '09.07', 'views': '701', 'links': [['AllViewer 720p', 'https://www.broviewer.net/?id=5230907_203101'], ['Watchvid 720p', 'https://www.watchvid.net/?fid=5230907_203110'], ['Watchvid 450p', 'https://www.watchvid.net/?fid=c5230907_203110'], ['Everyvid 720p', 'https://www.everyvid.net/?fid=5230907_203109'], ['Everyvid 450p', 'https://www.everyvid.net/?fid=c5230907_203109'], ['Supervid6 720p', 'https://www6.supervid.net/2023/09/e23230907_7.html'], ['Supervid6 450p', 'https://www6.supervid.net/2023/09/e23230907.html'], ['Filemoon 720p', 'https://filemoon.sx/e/6fcfvo1swn6d'], ['Filemoon 450p', 'https://filemoon.sx/e/yleibzu1bj08'], ['Cloudvideo 720p', 'https://cloudvideo.tv/embed-8tt86euni4qj.html'], ['Cloudvideo 450p', 'https://cloudvideo.tv/embed-2y4ptaux79ev.html'], ['Lulu 720p', 'https://lulustream.com/e/anfa6f6qt6fu'], ['Lulu 450p', 'https://lulustream.com/e/o1bgttoa0pnz']]}]\n",
      "[{'post_number': '15490', 'title': '준과 준.8회.230907', 'date': '00:00', 'views': '288', 'links': [['AllViewer 720p', 'https://www.broviewer.net/?id=5230908_000627'], ['Everyvid 720p', 'https://www.everyvid.net/?fid=5230908_000604'], ['Everyvid 450p', 'https://www.everyvid.net/?fid=c5230908_000604'], ['Supervid6 720p', 'https://www6.supervid.net/2023/09/e08230907_7.html'], ['Supervid6 450p', 'https://www6.supervid.net/2023/09/e08230907.html'], ['Filemoon 720p', 'https://filemoon.sx/e/p9hsr000r565'], ['Filemoon 450p', 'https://filemoon.sx/e/l185ggqb5jae'], ['Lulu 720p', 'https://lulustream.com/e/20p36xowmq99'], ['Lulu 450p', 'https://lulustream.com/e/s9eqvu9x967b']]}, {'post_number': '15489', 'title': '이 연애는 불가항력.6회.230907 1', 'date': '00:00', 'views': '1317', 'links': [['AllViewer 720p', 'https://www.broviewer.net/?id=5230908_000616'], ['Watchvid 720p', 'https://www.watchvid.net/?fid=5230908_000629'], ['Watchvid 450p', 'https://www.watchvid.net/?fid=c5230908_000629'], ['Everyvid 720p', 'https://www.everyvid.net/?fid=5230908_000639'], ['Everyvid 450p', 'https://www.everyvid.net/?fid=c5230908_000639'], ['Supervid6 720p', 'https://www6.supervid.net/2023/09/e06230907_68.html'], ['Supervid6 450p', 'https://www6.supervid.net/2023/09/e06230907_22.html'], ['Filemoon 720p', 'https://filemoon.sx/e/829gk0iid8iy'], ['Filemoon 450p', 'https://filemoon.sx/e/hwetib2ec159'], ['Cloudvideo 720p', 'https://cloudvideo.tv/embed-1bvvu5d1mli1.html'], ['Cloudvideo 450p', 'https://cloudvideo.tv/embed-rlwyurvogn18.html'], ['Lulu 720p', 'https://lulustream.com/e/iw3tplj97n58'], ['Lulu 450p', 'https://lulustream.com/e/4trpmzzn4ppt']]}, {'post_number': '15488', 'title': '오랫동안 당신을 기다렸습니다.14회.230907', 'date': '00:00', 'views': '1837', 'links': [['AllViewer 720p', 'https://www.broviewer.net/?id=5230907_235721'], ['Watchvid 720p', 'https://www.watchvid.net/?fid=5230907_235701'], ['Watchvid 450p', 'https://www.watchvid.net/?fid=c5230907_235701'], ['Everyvid 720p', 'https://www.everyvid.net/?fid=5230907_235701'], ['Everyvid 450p', 'https://www.everyvid.net/?fid=c5230907_235701'], ['Supervid6 720p', 'https://www6.supervid.net/2023/09/e14230907_7.html'], ['Supervid6 450p', 'https://www6.supervid.net/2023/09/e14230907.html'], ['Filemoon 720p', 'https://filemoon.sx/e/2tvrxbxjef1v'], ['Filemoon 450p', 'https://filemoon.sx/e/pm3okl4ymgw5'], ['Cloudvideo 720p', 'https://cloudvideo.tv/embed-bnujmrowd3sf.html'], ['Cloudvideo 450p', 'https://cloudvideo.tv/embed-umspy7fon0gw.html'], ['Lulu 720p', 'https://lulustream.com/e/qpyopzz50fuc'], ['Lulu 450p', 'https://lulustream.com/e/amfqngy2nk66']]}, {'post_number': '15487', 'title': '국민사형투표.5회.230907', 'date': '09.07', 'views': '2264', 'links': [['AllViewer 720p', 'https://www.broviewer.net/?id=5230907_222307'], ['Watchvid 720p', 'https://www.watchvid.net/?fid=5230907_222239'], ['Watchvid 450p', 'https://www.watchvid.net/?fid=c5230907_222239'], ['Everyvid 720p', 'https://www.everyvid.net/?fid=5230907_222236'], ['Everyvid 450p', 'https://www.everyvid.net/?fid=c5230907_222236'], ['Supervid6 720p', 'https://www6.supervid.net/2023/09/e05230907_7.html'], ['Supervid6 450p', 'https://www6.supervid.net/2023/09/e05230907.html'], ['Filemoon 720p', 'https://filemoon.sx/e/jsd9yg05xe4o'], ['Filemoon 450p', 'https://filemoon.sx/e/lkbczj60ahgo'], ['Cloudvideo 720p', 'https://cloudvideo.tv/embed-58z5wmr7avrm.html'], ['Cloudvideo 450p', 'https://cloudvideo.tv/embed-7mjedvfhrz2m.html'], ['Lulu 720p', 'https://lulustream.com/e/ztdfwecv141f'], ['Lulu 450p', 'https://lulustream.com/e/tdwjt4479zgo']]}, {'post_number': '15486', 'title': '금이야 옥이야.115회.230907', 'date': '09.07', 'views': '1089', 'links': [['AllViewer 720p', 'https://www.broviewer.net/?id=5230907_210640'], ['Watchvid 720p', 'https://www.watchvid.net/?fid=5230907_210636'], ['Watchvid 450p', 'https://www.watchvid.net/?fid=c5230907_210636'], ['Everyvid 720p', 'https://www.everyvid.net/?fid=5230907_210635'], ['Everyvid 450p', 'https://www.everyvid.net/?fid=c5230907_210635'], ['Supervid6 720p', 'https://www6.supervid.net/2023/09/e115230907_7.html'], ['Supervid6 450p', 'https://www6.supervid.net/2023/09/e115230907.html'], ['Filemoon 720p', 'https://filemoon.sx/e/2nvx3v8lf0p5'], ['Filemoon 450p', 'https://filemoon.sx/e/r37p683cmf4o'], ['Cloudvideo 720p', 'https://cloudvideo.tv/embed-4yj4mku46egu.html'], ['Cloudvideo 450p', 'https://cloudvideo.tv/embed-wb64h36yzss0.html'], ['Lulu 720p', 'https://lulustream.com/e/72qgyfhncdxe'], ['Lulu 450p', 'https://lulustream.com/e/f5tvu2efhwik']]}, {'post_number': '15485', 'title': '우아한 제국.23회.230907', 'date': '09.07', 'views': '701', 'links': [['AllViewer 720p', 'https://www.broviewer.net/?id=5230907_203101'], ['Watchvid 720p', 'https://www.watchvid.net/?fid=5230907_203110'], ['Watchvid 450p', 'https://www.watchvid.net/?fid=c5230907_203110'], ['Everyvid 720p', 'https://www.everyvid.net/?fid=5230907_203109'], ['Everyvid 450p', 'https://www.everyvid.net/?fid=c5230907_203109'], ['Supervid6 720p', 'https://www6.supervid.net/2023/09/e23230907_7.html'], ['Supervid6 450p', 'https://www6.supervid.net/2023/09/e23230907.html'], ['Filemoon 720p', 'https://filemoon.sx/e/6fcfvo1swn6d'], ['Filemoon 450p', 'https://filemoon.sx/e/yleibzu1bj08'], ['Cloudvideo 720p', 'https://cloudvideo.tv/embed-8tt86euni4qj.html'], ['Cloudvideo 450p', 'https://cloudvideo.tv/embed-2y4ptaux79ev.html'], ['Lulu 720p', 'https://lulustream.com/e/anfa6f6qt6fu'], ['Lulu 450p', 'https://lulustream.com/e/o1bgttoa0pnz']]}, {'post_number': '15484', 'title': '하늘의 인연.101회.230907', 'date': '09.07', 'views': '1008', 'links': [['AllViewer 720p', 'https://www.broviewer.net/?id=5230907_194951'], ['Watchvid 720p', 'https://www.watchvid.net/?fid=5230907_194948'], ['Watchvid 450p', 'https://www.watchvid.net/?fid=c5230907_194948'], ['Everyvid 720p', 'https://www.everyvid.net/?fid=5230907_194948'], ['Everyvid 450p', 'https://www.everyvid.net/?fid=c5230907_194948'], ['Supervid6 720p', 'https://www6.supervid.net/2023/09/e101230907_7.html'], ['Supervid6 450p', 'https://www6.supervid.net/2023/09/e101230907.html'], ['Filemoon 720p', 'https://filemoon.sx/e/dk1tm10r35gg'], ['Filemoon 450p', 'https://filemoon.sx/e/sy4q001nbc0o'], ['Cloudvideo 720p', 'https://cloudvideo.tv/embed-2t36pshx8aua.html'], ['Cloudvideo 450p', 'https://cloudvideo.tv/embed-9pntla24xlp8.html'], ['Lulu 720p', 'https://lulustream.com/e/8swpyh9hc2bj'], ['Lulu 450p', 'https://lulustream.com/e/70h4zh9exxj7']]}]\n",
      "[{'post_number': '15490', 'title': '준과 준.8회.230907', 'date': '00:00', 'views': '288', 'links': [['AllViewer 720p', 'https://www.broviewer.net/?id=5230908_000627'], ['Everyvid 720p', 'https://www.everyvid.net/?fid=5230908_000604'], ['Everyvid 450p', 'https://www.everyvid.net/?fid=c5230908_000604'], ['Supervid6 720p', 'https://www6.supervid.net/2023/09/e08230907_7.html'], ['Supervid6 450p', 'https://www6.supervid.net/2023/09/e08230907.html'], ['Filemoon 720p', 'https://filemoon.sx/e/p9hsr000r565'], ['Filemoon 450p', 'https://filemoon.sx/e/l185ggqb5jae'], ['Lulu 720p', 'https://lulustream.com/e/20p36xowmq99'], ['Lulu 450p', 'https://lulustream.com/e/s9eqvu9x967b']]}, {'post_number': '15489', 'title': '이 연애는 불가항력.6회.230907 1', 'date': '00:00', 'views': '1317', 'links': [['AllViewer 720p', 'https://www.broviewer.net/?id=5230908_000616'], ['Watchvid 720p', 'https://www.watchvid.net/?fid=5230908_000629'], ['Watchvid 450p', 'https://www.watchvid.net/?fid=c5230908_000629'], ['Everyvid 720p', 'https://www.everyvid.net/?fid=5230908_000639'], ['Everyvid 450p', 'https://www.everyvid.net/?fid=c5230908_000639'], ['Supervid6 720p', 'https://www6.supervid.net/2023/09/e06230907_68.html'], ['Supervid6 450p', 'https://www6.supervid.net/2023/09/e06230907_22.html'], ['Filemoon 720p', 'https://filemoon.sx/e/829gk0iid8iy'], ['Filemoon 450p', 'https://filemoon.sx/e/hwetib2ec159'], ['Cloudvideo 720p', 'https://cloudvideo.tv/embed-1bvvu5d1mli1.html'], ['Cloudvideo 450p', 'https://cloudvideo.tv/embed-rlwyurvogn18.html'], ['Lulu 720p', 'https://lulustream.com/e/iw3tplj97n58'], ['Lulu 450p', 'https://lulustream.com/e/4trpmzzn4ppt']]}, {'post_number': '15488', 'title': '오랫동안 당신을 기다렸습니다.14회.230907', 'date': '00:00', 'views': '1837', 'links': [['AllViewer 720p', 'https://www.broviewer.net/?id=5230907_235721'], ['Watchvid 720p', 'https://www.watchvid.net/?fid=5230907_235701'], ['Watchvid 450p', 'https://www.watchvid.net/?fid=c5230907_235701'], ['Everyvid 720p', 'https://www.everyvid.net/?fid=5230907_235701'], ['Everyvid 450p', 'https://www.everyvid.net/?fid=c5230907_235701'], ['Supervid6 720p', 'https://www6.supervid.net/2023/09/e14230907_7.html'], ['Supervid6 450p', 'https://www6.supervid.net/2023/09/e14230907.html'], ['Filemoon 720p', 'https://filemoon.sx/e/2tvrxbxjef1v'], ['Filemoon 450p', 'https://filemoon.sx/e/pm3okl4ymgw5'], ['Cloudvideo 720p', 'https://cloudvideo.tv/embed-bnujmrowd3sf.html'], ['Cloudvideo 450p', 'https://cloudvideo.tv/embed-umspy7fon0gw.html'], ['Lulu 720p', 'https://lulustream.com/e/qpyopzz50fuc'], ['Lulu 450p', 'https://lulustream.com/e/amfqngy2nk66']]}, {'post_number': '15487', 'title': '국민사형투표.5회.230907', 'date': '09.07', 'views': '2264', 'links': [['AllViewer 720p', 'https://www.broviewer.net/?id=5230907_222307'], ['Watchvid 720p', 'https://www.watchvid.net/?fid=5230907_222239'], ['Watchvid 450p', 'https://www.watchvid.net/?fid=c5230907_222239'], ['Everyvid 720p', 'https://www.everyvid.net/?fid=5230907_222236'], ['Everyvid 450p', 'https://www.everyvid.net/?fid=c5230907_222236'], ['Supervid6 720p', 'https://www6.supervid.net/2023/09/e05230907_7.html'], ['Supervid6 450p', 'https://www6.supervid.net/2023/09/e05230907.html'], ['Filemoon 720p', 'https://filemoon.sx/e/jsd9yg05xe4o'], ['Filemoon 450p', 'https://filemoon.sx/e/lkbczj60ahgo'], ['Cloudvideo 720p', 'https://cloudvideo.tv/embed-58z5wmr7avrm.html'], ['Cloudvideo 450p', 'https://cloudvideo.tv/embed-7mjedvfhrz2m.html'], ['Lulu 720p', 'https://lulustream.com/e/ztdfwecv141f'], ['Lulu 450p', 'https://lulustream.com/e/tdwjt4479zgo']]}, {'post_number': '15486', 'title': '금이야 옥이야.115회.230907', 'date': '09.07', 'views': '1089', 'links': [['AllViewer 720p', 'https://www.broviewer.net/?id=5230907_210640'], ['Watchvid 720p', 'https://www.watchvid.net/?fid=5230907_210636'], ['Watchvid 450p', 'https://www.watchvid.net/?fid=c5230907_210636'], ['Everyvid 720p', 'https://www.everyvid.net/?fid=5230907_210635'], ['Everyvid 450p', 'https://www.everyvid.net/?fid=c5230907_210635'], ['Supervid6 720p', 'https://www6.supervid.net/2023/09/e115230907_7.html'], ['Supervid6 450p', 'https://www6.supervid.net/2023/09/e115230907.html'], ['Filemoon 720p', 'https://filemoon.sx/e/2nvx3v8lf0p5'], ['Filemoon 450p', 'https://filemoon.sx/e/r37p683cmf4o'], ['Cloudvideo 720p', 'https://cloudvideo.tv/embed-4yj4mku46egu.html'], ['Cloudvideo 450p', 'https://cloudvideo.tv/embed-wb64h36yzss0.html'], ['Lulu 720p', 'https://lulustream.com/e/72qgyfhncdxe'], ['Lulu 450p', 'https://lulustream.com/e/f5tvu2efhwik']]}, {'post_number': '15485', 'title': '우아한 제국.23회.230907', 'date': '09.07', 'views': '701', 'links': [['AllViewer 720p', 'https://www.broviewer.net/?id=5230907_203101'], ['Watchvid 720p', 'https://www.watchvid.net/?fid=5230907_203110'], ['Watchvid 450p', 'https://www.watchvid.net/?fid=c5230907_203110'], ['Everyvid 720p', 'https://www.everyvid.net/?fid=5230907_203109'], ['Everyvid 450p', 'https://www.everyvid.net/?fid=c5230907_203109'], ['Supervid6 720p', 'https://www6.supervid.net/2023/09/e23230907_7.html'], ['Supervid6 450p', 'https://www6.supervid.net/2023/09/e23230907.html'], ['Filemoon 720p', 'https://filemoon.sx/e/6fcfvo1swn6d'], ['Filemoon 450p', 'https://filemoon.sx/e/yleibzu1bj08'], ['Cloudvideo 720p', 'https://cloudvideo.tv/embed-8tt86euni4qj.html'], ['Cloudvideo 450p', 'https://cloudvideo.tv/embed-2y4ptaux79ev.html'], ['Lulu 720p', 'https://lulustream.com/e/anfa6f6qt6fu'], ['Lulu 450p', 'https://lulustream.com/e/o1bgttoa0pnz']]}, {'post_number': '15484', 'title': '하늘의 인연.101회.230907', 'date': '09.07', 'views': '1008', 'links': [['AllViewer 720p', 'https://www.broviewer.net/?id=5230907_194951'], ['Watchvid 720p', 'https://www.watchvid.net/?fid=5230907_194948'], ['Watchvid 450p', 'https://www.watchvid.net/?fid=c5230907_194948'], ['Everyvid 720p', 'https://www.everyvid.net/?fid=5230907_194948'], ['Everyvid 450p', 'https://www.everyvid.net/?fid=c5230907_194948'], ['Supervid6 720p', 'https://www6.supervid.net/2023/09/e101230907_7.html'], ['Supervid6 450p', 'https://www6.supervid.net/2023/09/e101230907.html'], ['Filemoon 720p', 'https://filemoon.sx/e/dk1tm10r35gg'], ['Filemoon 450p', 'https://filemoon.sx/e/sy4q001nbc0o'], ['Cloudvideo 720p', 'https://cloudvideo.tv/embed-2t36pshx8aua.html'], ['Cloudvideo 450p', 'https://cloudvideo.tv/embed-9pntla24xlp8.html'], ['Lulu 720p', 'https://lulustream.com/e/8swpyh9hc2bj'], ['Lulu 450p', 'https://lulustream.com/e/70h4zh9exxj7']]}, {'post_number': '15483', 'title': '\"하늘의 인연.101회.230907', 'date': '09.07', 'views': '360', 'links': [['LINK-1', 'https://n02.newsdaum.com/bbs/board.php?bo_table=k05&wr_id=14188']]}]\n",
      "[{'post_number': '15490', 'title': '준과 준.8회.230907', 'date': '00:00', 'views': '288', 'links': [['AllViewer 720p', 'https://www.broviewer.net/?id=5230908_000627'], ['Everyvid 720p', 'https://www.everyvid.net/?fid=5230908_000604'], ['Everyvid 450p', 'https://www.everyvid.net/?fid=c5230908_000604'], ['Supervid6 720p', 'https://www6.supervid.net/2023/09/e08230907_7.html'], ['Supervid6 450p', 'https://www6.supervid.net/2023/09/e08230907.html'], ['Filemoon 720p', 'https://filemoon.sx/e/p9hsr000r565'], ['Filemoon 450p', 'https://filemoon.sx/e/l185ggqb5jae'], ['Lulu 720p', 'https://lulustream.com/e/20p36xowmq99'], ['Lulu 450p', 'https://lulustream.com/e/s9eqvu9x967b']]}, {'post_number': '15489', 'title': '이 연애는 불가항력.6회.230907 1', 'date': '00:00', 'views': '1317', 'links': [['AllViewer 720p', 'https://www.broviewer.net/?id=5230908_000616'], ['Watchvid 720p', 'https://www.watchvid.net/?fid=5230908_000629'], ['Watchvid 450p', 'https://www.watchvid.net/?fid=c5230908_000629'], ['Everyvid 720p', 'https://www.everyvid.net/?fid=5230908_000639'], ['Everyvid 450p', 'https://www.everyvid.net/?fid=c5230908_000639'], ['Supervid6 720p', 'https://www6.supervid.net/2023/09/e06230907_68.html'], ['Supervid6 450p', 'https://www6.supervid.net/2023/09/e06230907_22.html'], ['Filemoon 720p', 'https://filemoon.sx/e/829gk0iid8iy'], ['Filemoon 450p', 'https://filemoon.sx/e/hwetib2ec159'], ['Cloudvideo 720p', 'https://cloudvideo.tv/embed-1bvvu5d1mli1.html'], ['Cloudvideo 450p', 'https://cloudvideo.tv/embed-rlwyurvogn18.html'], ['Lulu 720p', 'https://lulustream.com/e/iw3tplj97n58'], ['Lulu 450p', 'https://lulustream.com/e/4trpmzzn4ppt']]}, {'post_number': '15488', 'title': '오랫동안 당신을 기다렸습니다.14회.230907', 'date': '00:00', 'views': '1837', 'links': [['AllViewer 720p', 'https://www.broviewer.net/?id=5230907_235721'], ['Watchvid 720p', 'https://www.watchvid.net/?fid=5230907_235701'], ['Watchvid 450p', 'https://www.watchvid.net/?fid=c5230907_235701'], ['Everyvid 720p', 'https://www.everyvid.net/?fid=5230907_235701'], ['Everyvid 450p', 'https://www.everyvid.net/?fid=c5230907_235701'], ['Supervid6 720p', 'https://www6.supervid.net/2023/09/e14230907_7.html'], ['Supervid6 450p', 'https://www6.supervid.net/2023/09/e14230907.html'], ['Filemoon 720p', 'https://filemoon.sx/e/2tvrxbxjef1v'], ['Filemoon 450p', 'https://filemoon.sx/e/pm3okl4ymgw5'], ['Cloudvideo 720p', 'https://cloudvideo.tv/embed-bnujmrowd3sf.html'], ['Cloudvideo 450p', 'https://cloudvideo.tv/embed-umspy7fon0gw.html'], ['Lulu 720p', 'https://lulustream.com/e/qpyopzz50fuc'], ['Lulu 450p', 'https://lulustream.com/e/amfqngy2nk66']]}, {'post_number': '15487', 'title': '국민사형투표.5회.230907', 'date': '09.07', 'views': '2264', 'links': [['AllViewer 720p', 'https://www.broviewer.net/?id=5230907_222307'], ['Watchvid 720p', 'https://www.watchvid.net/?fid=5230907_222239'], ['Watchvid 450p', 'https://www.watchvid.net/?fid=c5230907_222239'], ['Everyvid 720p', 'https://www.everyvid.net/?fid=5230907_222236'], ['Everyvid 450p', 'https://www.everyvid.net/?fid=c5230907_222236'], ['Supervid6 720p', 'https://www6.supervid.net/2023/09/e05230907_7.html'], ['Supervid6 450p', 'https://www6.supervid.net/2023/09/e05230907.html'], ['Filemoon 720p', 'https://filemoon.sx/e/jsd9yg05xe4o'], ['Filemoon 450p', 'https://filemoon.sx/e/lkbczj60ahgo'], ['Cloudvideo 720p', 'https://cloudvideo.tv/embed-58z5wmr7avrm.html'], ['Cloudvideo 450p', 'https://cloudvideo.tv/embed-7mjedvfhrz2m.html'], ['Lulu 720p', 'https://lulustream.com/e/ztdfwecv141f'], ['Lulu 450p', 'https://lulustream.com/e/tdwjt4479zgo']]}, {'post_number': '15486', 'title': '금이야 옥이야.115회.230907', 'date': '09.07', 'views': '1089', 'links': [['AllViewer 720p', 'https://www.broviewer.net/?id=5230907_210640'], ['Watchvid 720p', 'https://www.watchvid.net/?fid=5230907_210636'], ['Watchvid 450p', 'https://www.watchvid.net/?fid=c5230907_210636'], ['Everyvid 720p', 'https://www.everyvid.net/?fid=5230907_210635'], ['Everyvid 450p', 'https://www.everyvid.net/?fid=c5230907_210635'], ['Supervid6 720p', 'https://www6.supervid.net/2023/09/e115230907_7.html'], ['Supervid6 450p', 'https://www6.supervid.net/2023/09/e115230907.html'], ['Filemoon 720p', 'https://filemoon.sx/e/2nvx3v8lf0p5'], ['Filemoon 450p', 'https://filemoon.sx/e/r37p683cmf4o'], ['Cloudvideo 720p', 'https://cloudvideo.tv/embed-4yj4mku46egu.html'], ['Cloudvideo 450p', 'https://cloudvideo.tv/embed-wb64h36yzss0.html'], ['Lulu 720p', 'https://lulustream.com/e/72qgyfhncdxe'], ['Lulu 450p', 'https://lulustream.com/e/f5tvu2efhwik']]}, {'post_number': '15485', 'title': '우아한 제국.23회.230907', 'date': '09.07', 'views': '701', 'links': [['AllViewer 720p', 'https://www.broviewer.net/?id=5230907_203101'], ['Watchvid 720p', 'https://www.watchvid.net/?fid=5230907_203110'], ['Watchvid 450p', 'https://www.watchvid.net/?fid=c5230907_203110'], ['Everyvid 720p', 'https://www.everyvid.net/?fid=5230907_203109'], ['Everyvid 450p', 'https://www.everyvid.net/?fid=c5230907_203109'], ['Supervid6 720p', 'https://www6.supervid.net/2023/09/e23230907_7.html'], ['Supervid6 450p', 'https://www6.supervid.net/2023/09/e23230907.html'], ['Filemoon 720p', 'https://filemoon.sx/e/6fcfvo1swn6d'], ['Filemoon 450p', 'https://filemoon.sx/e/yleibzu1bj08'], ['Cloudvideo 720p', 'https://cloudvideo.tv/embed-8tt86euni4qj.html'], ['Cloudvideo 450p', 'https://cloudvideo.tv/embed-2y4ptaux79ev.html'], ['Lulu 720p', 'https://lulustream.com/e/anfa6f6qt6fu'], ['Lulu 450p', 'https://lulustream.com/e/o1bgttoa0pnz']]}, {'post_number': '15484', 'title': '하늘의 인연.101회.230907', 'date': '09.07', 'views': '1008', 'links': [['AllViewer 720p', 'https://www.broviewer.net/?id=5230907_194951'], ['Watchvid 720p', 'https://www.watchvid.net/?fid=5230907_194948'], ['Watchvid 450p', 'https://www.watchvid.net/?fid=c5230907_194948'], ['Everyvid 720p', 'https://www.everyvid.net/?fid=5230907_194948'], ['Everyvid 450p', 'https://www.everyvid.net/?fid=c5230907_194948'], ['Supervid6 720p', 'https://www6.supervid.net/2023/09/e101230907_7.html'], ['Supervid6 450p', 'https://www6.supervid.net/2023/09/e101230907.html'], ['Filemoon 720p', 'https://filemoon.sx/e/dk1tm10r35gg'], ['Filemoon 450p', 'https://filemoon.sx/e/sy4q001nbc0o'], ['Cloudvideo 720p', 'https://cloudvideo.tv/embed-2t36pshx8aua.html'], ['Cloudvideo 450p', 'https://cloudvideo.tv/embed-9pntla24xlp8.html'], ['Lulu 720p', 'https://lulustream.com/e/8swpyh9hc2bj'], ['Lulu 450p', 'https://lulustream.com/e/70h4zh9exxj7']]}, {'post_number': '15483', 'title': '\"하늘의 인연.101회.230907', 'date': '09.07', 'views': '360', 'links': [['LINK-1', 'https://n02.newsdaum.com/bbs/board.php?bo_table=k05&wr_id=14188']]}, {'post_number': '15482', 'title': '\"오랫동안 당신을 기다렸습니다.13회.230906', 'date': '09.07', 'views': '609', 'links': [['LINK-1', 'https://n02.newsdaum.com/bbs/board.php?bo_table=k05&wr_id=14187']]}]\n",
      "[{'post_number': '15490', 'title': '준과 준.8회.230907', 'date': '00:00', 'views': '288', 'links': [['AllViewer 720p', 'https://www.broviewer.net/?id=5230908_000627'], ['Everyvid 720p', 'https://www.everyvid.net/?fid=5230908_000604'], ['Everyvid 450p', 'https://www.everyvid.net/?fid=c5230908_000604'], ['Supervid6 720p', 'https://www6.supervid.net/2023/09/e08230907_7.html'], ['Supervid6 450p', 'https://www6.supervid.net/2023/09/e08230907.html'], ['Filemoon 720p', 'https://filemoon.sx/e/p9hsr000r565'], ['Filemoon 450p', 'https://filemoon.sx/e/l185ggqb5jae'], ['Lulu 720p', 'https://lulustream.com/e/20p36xowmq99'], ['Lulu 450p', 'https://lulustream.com/e/s9eqvu9x967b']]}, {'post_number': '15489', 'title': '이 연애는 불가항력.6회.230907 1', 'date': '00:00', 'views': '1317', 'links': [['AllViewer 720p', 'https://www.broviewer.net/?id=5230908_000616'], ['Watchvid 720p', 'https://www.watchvid.net/?fid=5230908_000629'], ['Watchvid 450p', 'https://www.watchvid.net/?fid=c5230908_000629'], ['Everyvid 720p', 'https://www.everyvid.net/?fid=5230908_000639'], ['Everyvid 450p', 'https://www.everyvid.net/?fid=c5230908_000639'], ['Supervid6 720p', 'https://www6.supervid.net/2023/09/e06230907_68.html'], ['Supervid6 450p', 'https://www6.supervid.net/2023/09/e06230907_22.html'], ['Filemoon 720p', 'https://filemoon.sx/e/829gk0iid8iy'], ['Filemoon 450p', 'https://filemoon.sx/e/hwetib2ec159'], ['Cloudvideo 720p', 'https://cloudvideo.tv/embed-1bvvu5d1mli1.html'], ['Cloudvideo 450p', 'https://cloudvideo.tv/embed-rlwyurvogn18.html'], ['Lulu 720p', 'https://lulustream.com/e/iw3tplj97n58'], ['Lulu 450p', 'https://lulustream.com/e/4trpmzzn4ppt']]}, {'post_number': '15488', 'title': '오랫동안 당신을 기다렸습니다.14회.230907', 'date': '00:00', 'views': '1837', 'links': [['AllViewer 720p', 'https://www.broviewer.net/?id=5230907_235721'], ['Watchvid 720p', 'https://www.watchvid.net/?fid=5230907_235701'], ['Watchvid 450p', 'https://www.watchvid.net/?fid=c5230907_235701'], ['Everyvid 720p', 'https://www.everyvid.net/?fid=5230907_235701'], ['Everyvid 450p', 'https://www.everyvid.net/?fid=c5230907_235701'], ['Supervid6 720p', 'https://www6.supervid.net/2023/09/e14230907_7.html'], ['Supervid6 450p', 'https://www6.supervid.net/2023/09/e14230907.html'], ['Filemoon 720p', 'https://filemoon.sx/e/2tvrxbxjef1v'], ['Filemoon 450p', 'https://filemoon.sx/e/pm3okl4ymgw5'], ['Cloudvideo 720p', 'https://cloudvideo.tv/embed-bnujmrowd3sf.html'], ['Cloudvideo 450p', 'https://cloudvideo.tv/embed-umspy7fon0gw.html'], ['Lulu 720p', 'https://lulustream.com/e/qpyopzz50fuc'], ['Lulu 450p', 'https://lulustream.com/e/amfqngy2nk66']]}, {'post_number': '15487', 'title': '국민사형투표.5회.230907', 'date': '09.07', 'views': '2264', 'links': [['AllViewer 720p', 'https://www.broviewer.net/?id=5230907_222307'], ['Watchvid 720p', 'https://www.watchvid.net/?fid=5230907_222239'], ['Watchvid 450p', 'https://www.watchvid.net/?fid=c5230907_222239'], ['Everyvid 720p', 'https://www.everyvid.net/?fid=5230907_222236'], ['Everyvid 450p', 'https://www.everyvid.net/?fid=c5230907_222236'], ['Supervid6 720p', 'https://www6.supervid.net/2023/09/e05230907_7.html'], ['Supervid6 450p', 'https://www6.supervid.net/2023/09/e05230907.html'], ['Filemoon 720p', 'https://filemoon.sx/e/jsd9yg05xe4o'], ['Filemoon 450p', 'https://filemoon.sx/e/lkbczj60ahgo'], ['Cloudvideo 720p', 'https://cloudvideo.tv/embed-58z5wmr7avrm.html'], ['Cloudvideo 450p', 'https://cloudvideo.tv/embed-7mjedvfhrz2m.html'], ['Lulu 720p', 'https://lulustream.com/e/ztdfwecv141f'], ['Lulu 450p', 'https://lulustream.com/e/tdwjt4479zgo']]}, {'post_number': '15486', 'title': '금이야 옥이야.115회.230907', 'date': '09.07', 'views': '1089', 'links': [['AllViewer 720p', 'https://www.broviewer.net/?id=5230907_210640'], ['Watchvid 720p', 'https://www.watchvid.net/?fid=5230907_210636'], ['Watchvid 450p', 'https://www.watchvid.net/?fid=c5230907_210636'], ['Everyvid 720p', 'https://www.everyvid.net/?fid=5230907_210635'], ['Everyvid 450p', 'https://www.everyvid.net/?fid=c5230907_210635'], ['Supervid6 720p', 'https://www6.supervid.net/2023/09/e115230907_7.html'], ['Supervid6 450p', 'https://www6.supervid.net/2023/09/e115230907.html'], ['Filemoon 720p', 'https://filemoon.sx/e/2nvx3v8lf0p5'], ['Filemoon 450p', 'https://filemoon.sx/e/r37p683cmf4o'], ['Cloudvideo 720p', 'https://cloudvideo.tv/embed-4yj4mku46egu.html'], ['Cloudvideo 450p', 'https://cloudvideo.tv/embed-wb64h36yzss0.html'], ['Lulu 720p', 'https://lulustream.com/e/72qgyfhncdxe'], ['Lulu 450p', 'https://lulustream.com/e/f5tvu2efhwik']]}, {'post_number': '15485', 'title': '우아한 제국.23회.230907', 'date': '09.07', 'views': '701', 'links': [['AllViewer 720p', 'https://www.broviewer.net/?id=5230907_203101'], ['Watchvid 720p', 'https://www.watchvid.net/?fid=5230907_203110'], ['Watchvid 450p', 'https://www.watchvid.net/?fid=c5230907_203110'], ['Everyvid 720p', 'https://www.everyvid.net/?fid=5230907_203109'], ['Everyvid 450p', 'https://www.everyvid.net/?fid=c5230907_203109'], ['Supervid6 720p', 'https://www6.supervid.net/2023/09/e23230907_7.html'], ['Supervid6 450p', 'https://www6.supervid.net/2023/09/e23230907.html'], ['Filemoon 720p', 'https://filemoon.sx/e/6fcfvo1swn6d'], ['Filemoon 450p', 'https://filemoon.sx/e/yleibzu1bj08'], ['Cloudvideo 720p', 'https://cloudvideo.tv/embed-8tt86euni4qj.html'], ['Cloudvideo 450p', 'https://cloudvideo.tv/embed-2y4ptaux79ev.html'], ['Lulu 720p', 'https://lulustream.com/e/anfa6f6qt6fu'], ['Lulu 450p', 'https://lulustream.com/e/o1bgttoa0pnz']]}, {'post_number': '15484', 'title': '하늘의 인연.101회.230907', 'date': '09.07', 'views': '1008', 'links': [['AllViewer 720p', 'https://www.broviewer.net/?id=5230907_194951'], ['Watchvid 720p', 'https://www.watchvid.net/?fid=5230907_194948'], ['Watchvid 450p', 'https://www.watchvid.net/?fid=c5230907_194948'], ['Everyvid 720p', 'https://www.everyvid.net/?fid=5230907_194948'], ['Everyvid 450p', 'https://www.everyvid.net/?fid=c5230907_194948'], ['Supervid6 720p', 'https://www6.supervid.net/2023/09/e101230907_7.html'], ['Supervid6 450p', 'https://www6.supervid.net/2023/09/e101230907.html'], ['Filemoon 720p', 'https://filemoon.sx/e/dk1tm10r35gg'], ['Filemoon 450p', 'https://filemoon.sx/e/sy4q001nbc0o'], ['Cloudvideo 720p', 'https://cloudvideo.tv/embed-2t36pshx8aua.html'], ['Cloudvideo 450p', 'https://cloudvideo.tv/embed-9pntla24xlp8.html'], ['Lulu 720p', 'https://lulustream.com/e/8swpyh9hc2bj'], ['Lulu 450p', 'https://lulustream.com/e/70h4zh9exxj7']]}, {'post_number': '15483', 'title': '\"하늘의 인연.101회.230907', 'date': '09.07', 'views': '360', 'links': [['LINK-1', 'https://n02.newsdaum.com/bbs/board.php?bo_table=k05&wr_id=14188']]}, {'post_number': '15482', 'title': '\"오랫동안 당신을 기다렸습니다.13회.230906', 'date': '09.07', 'views': '609', 'links': [['LINK-1', 'https://n02.newsdaum.com/bbs/board.php?bo_table=k05&wr_id=14187']]}, {'post_number': '15481', 'title': '\"이 연애는 불가항력.5회.230906', 'date': '09.07', 'views': '469', 'links': [['LINK-1', 'https://n02.newsdaum.com/bbs/board.php?bo_table=k05&wr_id=14186']]}]\n"
     ]
    },
    {
     "ename": "NoSuchWindowException",
     "evalue": "Message: no such window: target window already closed\nfrom unknown error: web view not found\n  (Session info: chrome=116.0.5845.180)\n",
     "output_type": "error",
     "traceback": [
      "\u001b[1;31m---------------------------------------------------------------------------\u001b[0m",
      "\u001b[1;31mNoSuchWindowException\u001b[0m                     Traceback (most recent call last)",
      "Cell \u001b[1;32mIn[277], line 45\u001b[0m\n\u001b[0;32m     42\u001b[0m drama_li\u001b[38;5;241m.\u001b[39mappend(drama_info) \n\u001b[0;32m     44\u001b[0m \u001b[38;5;28mprint\u001b[39m(drama_li)\n\u001b[1;32m---> 45\u001b[0m browser\u001b[38;5;241m.\u001b[39mback()\n",
      "File \u001b[1;32m~\\anaconda3\\Lib\\site-packages\\selenium\\webdriver\\remote\\webdriver.py:813\u001b[0m, in \u001b[0;36mWebDriver.back\u001b[1;34m(self)\u001b[0m\n\u001b[0;32m    806\u001b[0m \u001b[38;5;28;01mdef\u001b[39;00m \u001b[38;5;21mback\u001b[39m(\u001b[38;5;28mself\u001b[39m):\n\u001b[0;32m    807\u001b[0m \u001b[38;5;250m    \u001b[39m\u001b[38;5;124;03m\"\"\"\u001b[39;00m\n\u001b[0;32m    808\u001b[0m \u001b[38;5;124;03m    Goes one step backward in the browser history.\u001b[39;00m\n\u001b[0;32m    809\u001b[0m \n\u001b[0;32m    810\u001b[0m \u001b[38;5;124;03m    :Usage:\u001b[39;00m\n\u001b[0;32m    811\u001b[0m \u001b[38;5;124;03m        driver.back()\u001b[39;00m\n\u001b[0;32m    812\u001b[0m \u001b[38;5;124;03m    \"\"\"\u001b[39;00m\n\u001b[1;32m--> 813\u001b[0m     \u001b[38;5;28mself\u001b[39m\u001b[38;5;241m.\u001b[39mexecute(Command\u001b[38;5;241m.\u001b[39mGO_BACK)\n",
      "File \u001b[1;32m~\\anaconda3\\Lib\\site-packages\\selenium\\webdriver\\remote\\webdriver.py:321\u001b[0m, in \u001b[0;36mWebDriver.execute\u001b[1;34m(self, driver_command, params)\u001b[0m\n\u001b[0;32m    319\u001b[0m response \u001b[38;5;241m=\u001b[39m \u001b[38;5;28mself\u001b[39m\u001b[38;5;241m.\u001b[39mcommand_executor\u001b[38;5;241m.\u001b[39mexecute(driver_command, params)\n\u001b[0;32m    320\u001b[0m \u001b[38;5;28;01mif\u001b[39;00m response:\n\u001b[1;32m--> 321\u001b[0m     \u001b[38;5;28mself\u001b[39m\u001b[38;5;241m.\u001b[39merror_handler\u001b[38;5;241m.\u001b[39mcheck_response(response)\n\u001b[0;32m    322\u001b[0m     response[\u001b[38;5;124m'\u001b[39m\u001b[38;5;124mvalue\u001b[39m\u001b[38;5;124m'\u001b[39m] \u001b[38;5;241m=\u001b[39m \u001b[38;5;28mself\u001b[39m\u001b[38;5;241m.\u001b[39m_unwrap_value(\n\u001b[0;32m    323\u001b[0m         response\u001b[38;5;241m.\u001b[39mget(\u001b[38;5;124m'\u001b[39m\u001b[38;5;124mvalue\u001b[39m\u001b[38;5;124m'\u001b[39m, \u001b[38;5;28;01mNone\u001b[39;00m))\n\u001b[0;32m    324\u001b[0m     \u001b[38;5;28;01mreturn\u001b[39;00m response\n",
      "File \u001b[1;32m~\\anaconda3\\Lib\\site-packages\\selenium\\webdriver\\remote\\errorhandler.py:242\u001b[0m, in \u001b[0;36mErrorHandler.check_response\u001b[1;34m(self, response)\u001b[0m\n\u001b[0;32m    240\u001b[0m         alert_text \u001b[38;5;241m=\u001b[39m value[\u001b[38;5;124m'\u001b[39m\u001b[38;5;124malert\u001b[39m\u001b[38;5;124m'\u001b[39m]\u001b[38;5;241m.\u001b[39mget(\u001b[38;5;124m'\u001b[39m\u001b[38;5;124mtext\u001b[39m\u001b[38;5;124m'\u001b[39m)\n\u001b[0;32m    241\u001b[0m     \u001b[38;5;28;01mraise\u001b[39;00m exception_class(message, screen, stacktrace, alert_text)\n\u001b[1;32m--> 242\u001b[0m \u001b[38;5;28;01mraise\u001b[39;00m exception_class(message, screen, stacktrace)\n",
      "\u001b[1;31mNoSuchWindowException\u001b[0m: Message: no such window: target window already closed\nfrom unknown error: web view not found\n  (Session info: chrome=116.0.5845.180)\n"
     ]
    }
   ],
   "source": [
    "        click_path = '.list-item'\n",
    "        drama_list = browser.find_elements_by_css_selector(click_path)\n",
    "        drama_li = []\n",
    "        for drama in drama_list:\n",
    "            time.sleep(2)\n",
    "            \n",
    "            drama_info = {}\n",
    "            \n",
    "            #게시물 번호, 제목, 게시날짜, 조회수 가져오기\n",
    "            try:\n",
    "                drama_info['post_number'] = drama.find_element_by_css_selector('div.wr-num.hidden-xs').text\n",
    "            except: \n",
    "                drama_info['post_number']=str()\n",
    "            try:    \n",
    "                drama_info['title'] = drama.find_element_by_css_selector('.item-subject').text\n",
    "            except: \n",
    "                drama_info['title'] =str()\n",
    "            try:\n",
    "                drama_info['date'] = drama.find_element_by_css_selector('div.wr-date.hidden-xs').text\n",
    "            except: \n",
    "                drama_info['date'] = str()\n",
    "            try:\n",
    "                drama_info['views'] = drama.find_element_by_css_selector('div.wr-hit.hidden-xs').text\n",
    "            except: \n",
    "                drama_info['views'] = str()\n",
    "    \n",
    "            drama.click()\n",
    "            time.sleep(2)\n",
    "\n",
    "        #상세 페이지 채널명, 링크 가져오기 \n",
    "            link_lists = []\n",
    "            link_name_list = browser.find_elements_by_css_selector('div.view-content > div > a')\n",
    "            for link in link_name_list:\n",
    "                link_name = link.text\n",
    "                link_url = link.get_attribute('href')\n",
    "                link_list= [link_name, link_url]\n",
    "                link_lists.append(link_list)\n",
    "            time.sleep(3)\n",
    "            \n",
    "            drama_info['links'] = link_lists \n",
    "            \n",
    "            drama_li.append(drama_info) \n",
    "            \n",
    "            print(drama_li)\n",
    "            browser.back() #뒤로 가기"
   ]
  },
  {
   "cell_type": "code",
   "execution_count": 326,
   "id": "e71c31e7-06e1-4b0a-98c5-74092c8c7600",
   "metadata": {
    "tags": []
   },
   "outputs": [
    {
     "name": "stdout",
     "output_type": "stream",
     "text": [
      "[{'post_number': '15495', 'title': '\"이 연애는 불가항력.6회.230907', 'date': '10:00', 'views': '31', 'links': [['LINK-1', 'https://n02.newsdaum.com/bbs/board.php?bo_table=k05&wr_id=14193']]}]\n",
      "[{'post_number': '15495', 'title': '\"이 연애는 불가항력.6회.230907', 'date': '10:00', 'views': '31', 'links': [['LINK-1', 'https://n02.newsdaum.com/bbs/board.php?bo_table=k05&wr_id=14193']]}, {'post_number': '15494', 'title': '\"오랫동안 당신을 기다렸습니다.14회.230907', 'date': '10:00', 'views': '60', 'links': [['LINK-1', 'https://n02.newsdaum.com/bbs/board.php?bo_table=k05&wr_id=14192']]}]\n",
      "[{'post_number': '15495', 'title': '\"이 연애는 불가항력.6회.230907', 'date': '10:00', 'views': '31', 'links': [['LINK-1', 'https://n02.newsdaum.com/bbs/board.php?bo_table=k05&wr_id=14193']]}, {'post_number': '15494', 'title': '\"오랫동안 당신을 기다렸습니다.14회.230907', 'date': '10:00', 'views': '60', 'links': [['LINK-1', 'https://n02.newsdaum.com/bbs/board.php?bo_table=k05&wr_id=14192']]}, {'post_number': '15493', 'title': '\"국민사형투표.5회.230907', 'date': '10:00', 'views': '64', 'links': [['LINK-1', 'https://n02.newsdaum.com/bbs/board.php?bo_table=k05&wr_id=14191']]}]\n",
      "[{'post_number': '15495', 'title': '\"이 연애는 불가항력.6회.230907', 'date': '10:00', 'views': '31', 'links': [['LINK-1', 'https://n02.newsdaum.com/bbs/board.php?bo_table=k05&wr_id=14193']]}, {'post_number': '15494', 'title': '\"오랫동안 당신을 기다렸습니다.14회.230907', 'date': '10:00', 'views': '60', 'links': [['LINK-1', 'https://n02.newsdaum.com/bbs/board.php?bo_table=k05&wr_id=14192']]}, {'post_number': '15493', 'title': '\"국민사형투표.5회.230907', 'date': '10:00', 'views': '64', 'links': [['LINK-1', 'https://n02.newsdaum.com/bbs/board.php?bo_table=k05&wr_id=14191']]}, {'post_number': '15492', 'title': '\"금이야 옥이야.115회.230907', 'date': '10:00', 'views': '14', 'links': [['LINK-1', 'https://n02.newsdaum.com/bbs/board.php?bo_table=k05&wr_id=14190']]}]\n",
      "[{'post_number': '15495', 'title': '\"이 연애는 불가항력.6회.230907', 'date': '10:00', 'views': '31', 'links': [['LINK-1', 'https://n02.newsdaum.com/bbs/board.php?bo_table=k05&wr_id=14193']]}, {'post_number': '15494', 'title': '\"오랫동안 당신을 기다렸습니다.14회.230907', 'date': '10:00', 'views': '60', 'links': [['LINK-1', 'https://n02.newsdaum.com/bbs/board.php?bo_table=k05&wr_id=14192']]}, {'post_number': '15493', 'title': '\"국민사형투표.5회.230907', 'date': '10:00', 'views': '64', 'links': [['LINK-1', 'https://n02.newsdaum.com/bbs/board.php?bo_table=k05&wr_id=14191']]}, {'post_number': '15492', 'title': '\"금이야 옥이야.115회.230907', 'date': '10:00', 'views': '14', 'links': [['LINK-1', 'https://n02.newsdaum.com/bbs/board.php?bo_table=k05&wr_id=14190']]}, {'post_number': '15491', 'title': '\"우아한 제국.23회.230907', 'date': '10:00', 'views': '13', 'links': [['LINK-1', 'https://n02.newsdaum.com/bbs/board.php?bo_table=k05&wr_id=14189']]}]\n",
      "[{'post_number': '15495', 'title': '\"이 연애는 불가항력.6회.230907', 'date': '10:00', 'views': '31', 'links': [['LINK-1', 'https://n02.newsdaum.com/bbs/board.php?bo_table=k05&wr_id=14193']]}, {'post_number': '15494', 'title': '\"오랫동안 당신을 기다렸습니다.14회.230907', 'date': '10:00', 'views': '60', 'links': [['LINK-1', 'https://n02.newsdaum.com/bbs/board.php?bo_table=k05&wr_id=14192']]}, {'post_number': '15493', 'title': '\"국민사형투표.5회.230907', 'date': '10:00', 'views': '64', 'links': [['LINK-1', 'https://n02.newsdaum.com/bbs/board.php?bo_table=k05&wr_id=14191']]}, {'post_number': '15492', 'title': '\"금이야 옥이야.115회.230907', 'date': '10:00', 'views': '14', 'links': [['LINK-1', 'https://n02.newsdaum.com/bbs/board.php?bo_table=k05&wr_id=14190']]}, {'post_number': '15491', 'title': '\"우아한 제국.23회.230907', 'date': '10:00', 'views': '13', 'links': [['LINK-1', 'https://n02.newsdaum.com/bbs/board.php?bo_table=k05&wr_id=14189']]}, {'post_number': '15490', 'title': '준과 준.8회.230907', 'date': '00:00', 'views': '305', 'links': [['AllViewer 720p', 'https://www.broviewer.net/?id=5230908_000627'], ['Everyvid 720p', 'https://www.everyvid.net/?fid=5230908_000604'], ['Everyvid 450p', 'https://www.everyvid.net/?fid=c5230908_000604'], ['Supervid6 720p', 'https://www6.supervid.net/2023/09/e08230907_7.html'], ['Supervid6 450p', 'https://www6.supervid.net/2023/09/e08230907.html'], ['Filemoon 720p', 'https://filemoon.sx/e/p9hsr000r565'], ['Filemoon 450p', 'https://filemoon.sx/e/l185ggqb5jae'], ['Lulu 720p', 'https://lulustream.com/e/20p36xowmq99'], ['Lulu 450p', 'https://lulustream.com/e/s9eqvu9x967b']]}]\n",
      "[{'post_number': '15495', 'title': '\"이 연애는 불가항력.6회.230907', 'date': '10:00', 'views': '31', 'links': [['LINK-1', 'https://n02.newsdaum.com/bbs/board.php?bo_table=k05&wr_id=14193']]}, {'post_number': '15494', 'title': '\"오랫동안 당신을 기다렸습니다.14회.230907', 'date': '10:00', 'views': '60', 'links': [['LINK-1', 'https://n02.newsdaum.com/bbs/board.php?bo_table=k05&wr_id=14192']]}, {'post_number': '15493', 'title': '\"국민사형투표.5회.230907', 'date': '10:00', 'views': '64', 'links': [['LINK-1', 'https://n02.newsdaum.com/bbs/board.php?bo_table=k05&wr_id=14191']]}, {'post_number': '15492', 'title': '\"금이야 옥이야.115회.230907', 'date': '10:00', 'views': '14', 'links': [['LINK-1', 'https://n02.newsdaum.com/bbs/board.php?bo_table=k05&wr_id=14190']]}, {'post_number': '15491', 'title': '\"우아한 제국.23회.230907', 'date': '10:00', 'views': '13', 'links': [['LINK-1', 'https://n02.newsdaum.com/bbs/board.php?bo_table=k05&wr_id=14189']]}, {'post_number': '15490', 'title': '준과 준.8회.230907', 'date': '00:00', 'views': '305', 'links': [['AllViewer 720p', 'https://www.broviewer.net/?id=5230908_000627'], ['Everyvid 720p', 'https://www.everyvid.net/?fid=5230908_000604'], ['Everyvid 450p', 'https://www.everyvid.net/?fid=c5230908_000604'], ['Supervid6 720p', 'https://www6.supervid.net/2023/09/e08230907_7.html'], ['Supervid6 450p', 'https://www6.supervid.net/2023/09/e08230907.html'], ['Filemoon 720p', 'https://filemoon.sx/e/p9hsr000r565'], ['Filemoon 450p', 'https://filemoon.sx/e/l185ggqb5jae'], ['Lulu 720p', 'https://lulustream.com/e/20p36xowmq99'], ['Lulu 450p', 'https://lulustream.com/e/s9eqvu9x967b']]}, {'post_number': '15489', 'title': '이 연애는 불가항력.6회.230907 1', 'date': '00:00', 'views': '1383', 'links': [['AllViewer 720p', 'https://www.broviewer.net/?id=5230908_000616'], ['Watchvid 720p', 'https://www.watchvid.net/?fid=5230908_000629'], ['Watchvid 450p', 'https://www.watchvid.net/?fid=c5230908_000629'], ['Everyvid 720p', 'https://www.everyvid.net/?fid=5230908_000639'], ['Everyvid 450p', 'https://www.everyvid.net/?fid=c5230908_000639'], ['Supervid6 720p', 'https://www6.supervid.net/2023/09/e06230907_68.html'], ['Supervid6 450p', 'https://www6.supervid.net/2023/09/e06230907_22.html'], ['Filemoon 720p', 'https://filemoon.sx/e/829gk0iid8iy'], ['Filemoon 450p', 'https://filemoon.sx/e/hwetib2ec159'], ['Cloudvideo 720p', 'https://cloudvideo.tv/embed-1bvvu5d1mli1.html'], ['Cloudvideo 450p', 'https://cloudvideo.tv/embed-rlwyurvogn18.html'], ['Lulu 720p', 'https://lulustream.com/e/iw3tplj97n58'], ['Lulu 450p', 'https://lulustream.com/e/4trpmzzn4ppt']]}]\n",
      "[{'post_number': '15495', 'title': '\"이 연애는 불가항력.6회.230907', 'date': '10:00', 'views': '31', 'links': [['LINK-1', 'https://n02.newsdaum.com/bbs/board.php?bo_table=k05&wr_id=14193']]}, {'post_number': '15494', 'title': '\"오랫동안 당신을 기다렸습니다.14회.230907', 'date': '10:00', 'views': '60', 'links': [['LINK-1', 'https://n02.newsdaum.com/bbs/board.php?bo_table=k05&wr_id=14192']]}, {'post_number': '15493', 'title': '\"국민사형투표.5회.230907', 'date': '10:00', 'views': '64', 'links': [['LINK-1', 'https://n02.newsdaum.com/bbs/board.php?bo_table=k05&wr_id=14191']]}, {'post_number': '15492', 'title': '\"금이야 옥이야.115회.230907', 'date': '10:00', 'views': '14', 'links': [['LINK-1', 'https://n02.newsdaum.com/bbs/board.php?bo_table=k05&wr_id=14190']]}, {'post_number': '15491', 'title': '\"우아한 제국.23회.230907', 'date': '10:00', 'views': '13', 'links': [['LINK-1', 'https://n02.newsdaum.com/bbs/board.php?bo_table=k05&wr_id=14189']]}, {'post_number': '15490', 'title': '준과 준.8회.230907', 'date': '00:00', 'views': '305', 'links': [['AllViewer 720p', 'https://www.broviewer.net/?id=5230908_000627'], ['Everyvid 720p', 'https://www.everyvid.net/?fid=5230908_000604'], ['Everyvid 450p', 'https://www.everyvid.net/?fid=c5230908_000604'], ['Supervid6 720p', 'https://www6.supervid.net/2023/09/e08230907_7.html'], ['Supervid6 450p', 'https://www6.supervid.net/2023/09/e08230907.html'], ['Filemoon 720p', 'https://filemoon.sx/e/p9hsr000r565'], ['Filemoon 450p', 'https://filemoon.sx/e/l185ggqb5jae'], ['Lulu 720p', 'https://lulustream.com/e/20p36xowmq99'], ['Lulu 450p', 'https://lulustream.com/e/s9eqvu9x967b']]}, {'post_number': '15489', 'title': '이 연애는 불가항력.6회.230907 1', 'date': '00:00', 'views': '1383', 'links': [['AllViewer 720p', 'https://www.broviewer.net/?id=5230908_000616'], ['Watchvid 720p', 'https://www.watchvid.net/?fid=5230908_000629'], ['Watchvid 450p', 'https://www.watchvid.net/?fid=c5230908_000629'], ['Everyvid 720p', 'https://www.everyvid.net/?fid=5230908_000639'], ['Everyvid 450p', 'https://www.everyvid.net/?fid=c5230908_000639'], ['Supervid6 720p', 'https://www6.supervid.net/2023/09/e06230907_68.html'], ['Supervid6 450p', 'https://www6.supervid.net/2023/09/e06230907_22.html'], ['Filemoon 720p', 'https://filemoon.sx/e/829gk0iid8iy'], ['Filemoon 450p', 'https://filemoon.sx/e/hwetib2ec159'], ['Cloudvideo 720p', 'https://cloudvideo.tv/embed-1bvvu5d1mli1.html'], ['Cloudvideo 450p', 'https://cloudvideo.tv/embed-rlwyurvogn18.html'], ['Lulu 720p', 'https://lulustream.com/e/iw3tplj97n58'], ['Lulu 450p', 'https://lulustream.com/e/4trpmzzn4ppt']]}, {'post_number': '15488', 'title': '오랫동안 당신을 기다렸습니다.14회.230907', 'date': '00:00', 'views': '1920', 'links': [['AllViewer 720p', 'https://www.broviewer.net/?id=5230907_235721'], ['Watchvid 720p', 'https://www.watchvid.net/?fid=5230907_235701'], ['Watchvid 450p', 'https://www.watchvid.net/?fid=c5230907_235701'], ['Everyvid 720p', 'https://www.everyvid.net/?fid=5230907_235701'], ['Everyvid 450p', 'https://www.everyvid.net/?fid=c5230907_235701'], ['Supervid6 720p', 'https://www6.supervid.net/2023/09/e14230907_7.html'], ['Supervid6 450p', 'https://www6.supervid.net/2023/09/e14230907.html'], ['Filemoon 720p', 'https://filemoon.sx/e/2tvrxbxjef1v'], ['Filemoon 450p', 'https://filemoon.sx/e/pm3okl4ymgw5'], ['Cloudvideo 720p', 'https://cloudvideo.tv/embed-bnujmrowd3sf.html'], ['Cloudvideo 450p', 'https://cloudvideo.tv/embed-umspy7fon0gw.html'], ['Lulu 720p', 'https://lulustream.com/e/qpyopzz50fuc'], ['Lulu 450p', 'https://lulustream.com/e/amfqngy2nk66']]}]\n",
      "[{'post_number': '15495', 'title': '\"이 연애는 불가항력.6회.230907', 'date': '10:00', 'views': '31', 'links': [['LINK-1', 'https://n02.newsdaum.com/bbs/board.php?bo_table=k05&wr_id=14193']]}, {'post_number': '15494', 'title': '\"오랫동안 당신을 기다렸습니다.14회.230907', 'date': '10:00', 'views': '60', 'links': [['LINK-1', 'https://n02.newsdaum.com/bbs/board.php?bo_table=k05&wr_id=14192']]}, {'post_number': '15493', 'title': '\"국민사형투표.5회.230907', 'date': '10:00', 'views': '64', 'links': [['LINK-1', 'https://n02.newsdaum.com/bbs/board.php?bo_table=k05&wr_id=14191']]}, {'post_number': '15492', 'title': '\"금이야 옥이야.115회.230907', 'date': '10:00', 'views': '14', 'links': [['LINK-1', 'https://n02.newsdaum.com/bbs/board.php?bo_table=k05&wr_id=14190']]}, {'post_number': '15491', 'title': '\"우아한 제국.23회.230907', 'date': '10:00', 'views': '13', 'links': [['LINK-1', 'https://n02.newsdaum.com/bbs/board.php?bo_table=k05&wr_id=14189']]}, {'post_number': '15490', 'title': '준과 준.8회.230907', 'date': '00:00', 'views': '305', 'links': [['AllViewer 720p', 'https://www.broviewer.net/?id=5230908_000627'], ['Everyvid 720p', 'https://www.everyvid.net/?fid=5230908_000604'], ['Everyvid 450p', 'https://www.everyvid.net/?fid=c5230908_000604'], ['Supervid6 720p', 'https://www6.supervid.net/2023/09/e08230907_7.html'], ['Supervid6 450p', 'https://www6.supervid.net/2023/09/e08230907.html'], ['Filemoon 720p', 'https://filemoon.sx/e/p9hsr000r565'], ['Filemoon 450p', 'https://filemoon.sx/e/l185ggqb5jae'], ['Lulu 720p', 'https://lulustream.com/e/20p36xowmq99'], ['Lulu 450p', 'https://lulustream.com/e/s9eqvu9x967b']]}, {'post_number': '15489', 'title': '이 연애는 불가항력.6회.230907 1', 'date': '00:00', 'views': '1383', 'links': [['AllViewer 720p', 'https://www.broviewer.net/?id=5230908_000616'], ['Watchvid 720p', 'https://www.watchvid.net/?fid=5230908_000629'], ['Watchvid 450p', 'https://www.watchvid.net/?fid=c5230908_000629'], ['Everyvid 720p', 'https://www.everyvid.net/?fid=5230908_000639'], ['Everyvid 450p', 'https://www.everyvid.net/?fid=c5230908_000639'], ['Supervid6 720p', 'https://www6.supervid.net/2023/09/e06230907_68.html'], ['Supervid6 450p', 'https://www6.supervid.net/2023/09/e06230907_22.html'], ['Filemoon 720p', 'https://filemoon.sx/e/829gk0iid8iy'], ['Filemoon 450p', 'https://filemoon.sx/e/hwetib2ec159'], ['Cloudvideo 720p', 'https://cloudvideo.tv/embed-1bvvu5d1mli1.html'], ['Cloudvideo 450p', 'https://cloudvideo.tv/embed-rlwyurvogn18.html'], ['Lulu 720p', 'https://lulustream.com/e/iw3tplj97n58'], ['Lulu 450p', 'https://lulustream.com/e/4trpmzzn4ppt']]}, {'post_number': '15488', 'title': '오랫동안 당신을 기다렸습니다.14회.230907', 'date': '00:00', 'views': '1920', 'links': [['AllViewer 720p', 'https://www.broviewer.net/?id=5230907_235721'], ['Watchvid 720p', 'https://www.watchvid.net/?fid=5230907_235701'], ['Watchvid 450p', 'https://www.watchvid.net/?fid=c5230907_235701'], ['Everyvid 720p', 'https://www.everyvid.net/?fid=5230907_235701'], ['Everyvid 450p', 'https://www.everyvid.net/?fid=c5230907_235701'], ['Supervid6 720p', 'https://www6.supervid.net/2023/09/e14230907_7.html'], ['Supervid6 450p', 'https://www6.supervid.net/2023/09/e14230907.html'], ['Filemoon 720p', 'https://filemoon.sx/e/2tvrxbxjef1v'], ['Filemoon 450p', 'https://filemoon.sx/e/pm3okl4ymgw5'], ['Cloudvideo 720p', 'https://cloudvideo.tv/embed-bnujmrowd3sf.html'], ['Cloudvideo 450p', 'https://cloudvideo.tv/embed-umspy7fon0gw.html'], ['Lulu 720p', 'https://lulustream.com/e/qpyopzz50fuc'], ['Lulu 450p', 'https://lulustream.com/e/amfqngy2nk66']]}, {'post_number': '15487', 'title': '국민사형투표.5회.230907', 'date': '09.07', 'views': '2357', 'links': [['AllViewer 720p', 'https://www.broviewer.net/?id=5230907_222307'], ['Watchvid 720p', 'https://www.watchvid.net/?fid=5230907_222239'], ['Watchvid 450p', 'https://www.watchvid.net/?fid=c5230907_222239'], ['Everyvid 720p', 'https://www.everyvid.net/?fid=5230907_222236'], ['Everyvid 450p', 'https://www.everyvid.net/?fid=c5230907_222236'], ['Supervid6 720p', 'https://www6.supervid.net/2023/09/e05230907_7.html'], ['Supervid6 450p', 'https://www6.supervid.net/2023/09/e05230907.html'], ['Filemoon 720p', 'https://filemoon.sx/e/jsd9yg05xe4o'], ['Filemoon 450p', 'https://filemoon.sx/e/lkbczj60ahgo'], ['Cloudvideo 720p', 'https://cloudvideo.tv/embed-58z5wmr7avrm.html'], ['Cloudvideo 450p', 'https://cloudvideo.tv/embed-7mjedvfhrz2m.html'], ['Lulu 720p', 'https://lulustream.com/e/ztdfwecv141f'], ['Lulu 450p', 'https://lulustream.com/e/tdwjt4479zgo']]}]\n",
      "페이지네이션 실패\n",
      "페이지네이션 실패\n",
      "페이지네이션 실패\n",
      "페이지네이션 실패\n",
      "페이지네이션 실패\n",
      "페이지네이션 실패\n",
      "페이지네이션 실패\n",
      "페이지네이션 실패\n",
      "페이지네이션 실패\n",
      "페이지네이션 실패\n"
     ]
    }
   ],
   "source": [
    "client = mg.MongoClient(host='mongodb://localhost:27017')\n",
    "database = client['study_data_analytics']\n",
    "collection = database['koreanz_xyz_quest']   \n",
    "\n",
    "for page_number in range(2, 12):\n",
    "    element_path = '#fboardlist > div.list-page.text-center > ul > li:nth-child({}) > a'.format(page_number)\n",
    "    try: \n",
    "        pagination = browser.find_element_by_css_selector(element_path)\n",
    "        pagination.click()\n",
    "        time.sleep(3)\n",
    "        click_path = '.list-item'\n",
    "        drama_list = browser.find_elements_by_css_selector(click_path)\n",
    "        drama_li = []\n",
    "        for drama in drama_list:\n",
    "            time.sleep(2)\n",
    "            \n",
    "            drama_info = {}\n",
    "            \n",
    "            #게시물 번호, 제목, 게시날짜, 조회수 가져오기\n",
    "            try:\n",
    "                drama_info['post_number'] = drama.find_element_by_css_selector('div.wr-num.hidden-xs').text\n",
    "            except: \n",
    "                drama_info['post_number']=str()\n",
    "            try:    \n",
    "                drama_info['title'] = drama.find_element_by_css_selector('.item-subject').text\n",
    "            except: \n",
    "                drama_info['title'] =str()\n",
    "            try:\n",
    "                drama_info['date'] = drama.find_element_by_css_selector('div.wr-date.hidden-xs').text\n",
    "            except: \n",
    "                drama_info['date'] = str()\n",
    "            try:\n",
    "                drama_info['views'] = drama.find_element_by_css_selector('div.wr-hit.hidden-xs').text\n",
    "            except: \n",
    "                drama_info['views'] = str()\n",
    "    \n",
    "            drama.click()\n",
    "            time.sleep(2)\n",
    "\n",
    "            #상세 페이지 채널명, 링크 가져오기 \n",
    "            link_lists = []\n",
    "            link_name_list = browser.find_elements_by_css_selector('div.view-content > div > a')\n",
    "            for link in link_name_list:\n",
    "                link_name = link.text\n",
    "                link_url = link.get_attribute('href')\n",
    "                link_list= [link_name, link_url]\n",
    "                link_lists.append(link_list)\n",
    "            time.sleep(3)\n",
    "            \n",
    "            drama_info['links'] = link_lists \n",
    "            \n",
    "            drama_li.append(drama_info) \n",
    "            \n",
    "            print(drama_li)\n",
    "            browser.back() #뒤로 가기\n",
    "            \n",
    "            df_drama = pd.DataFrame(drama_li)\n",
    "            data_dict = df_drama.to_dict(orient='records')\n",
    "            collection.insert_many(data_dict)\n",
    "        \n",
    "    except : \n",
    "        print(\"페이지네이션 실패\")"
   ]
  },
  {
   "cell_type": "code",
   "execution_count": null,
   "id": "156dd194-a3df-49aa-b115-8e7f68b005e1",
   "metadata": {
    "tags": []
   },
   "outputs": [],
   "source": [
    "#     link_lists = list()\n",
    "#     click_path = '.list-item'\n",
    "#     drama_list = browser.find_elements_by_css_selector(click_path)\n",
    "#     time.sleep(2)\n",
    "    \n",
    "#     #게시물 번호, 제목, 게시날짜, 조회수 가져오기\n",
    "#     try:\n",
    "#         post_number = drama.find_element_by_css_selector('div.wr-num.hidden-xs').text\n",
    "#     except: \n",
    "#         post_number=str()\n",
    "#     try:    \n",
    "#         title = drama.find_element_by_css_selector('.item-subject').text\n",
    "#     except: \n",
    "#         title =str()\n",
    "#     try:\n",
    "#         date = drama.find_element_by_css_selector('div.wr-date.hidden-xs').text\n",
    "#     except: \n",
    "#         date = str()\n",
    "#     try:\n",
    "#         views = drama.find_element_by_css_selector('div.wr-hit.hidden-xs').text\n",
    "#     except: \n",
    "#         views = str()\n",
    "       \n",
    "#     drama.click()\n",
    "#     time.sleep(2)\n",
    "\n",
    "    \n",
    "#     #상세 페이지 채널명, 링크 가져오기 \n",
    "#     link_name_list = browser.find_elements_by_css_selector('div.view-content > div > a')\n",
    "#     for link in link_name_list:\n",
    "#         link_name = link.text\n",
    "#         link_url = link.get_attribute('href')\n",
    "#         link_list= [link_name, link_url]\n",
    "#         link_lists.append(link_list)\n",
    "    \n",
    "#     print(post_number, title, date, views, link_lists)\n",
    "    \n",
    "    browser.back() #뒤로 가기 \n",
    "    \n",
    "#         # 저장 위한 작업\n",
    "#         df_reviews = pd.DataFrame(data=reviews_list, columns=serviceapp_columns_name)\n",
    "#         data_dict = df_reviews.to_dict(orient='records')\n",
    "#         collection.insert_many(data_dict)\n",
    "        \n",
    "#     print('service_name : {}, review count : {}'.format(service_name, len(reviews_list)))\n",
    "#     browser.back()#리스트로 돌아기기\n",
    "#     time.sleep(3) "
   ]
  }
 ],
 "metadata": {
  "kernelspec": {
   "display_name": "Python 3 (ipykernel)",
   "language": "python",
   "name": "python3"
  },
  "language_info": {
   "codemirror_mode": {
    "name": "ipython",
    "version": 3
   },
   "file_extension": ".py",
   "mimetype": "text/x-python",
   "name": "python",
   "nbconvert_exporter": "python",
   "pygments_lexer": "ipython3",
   "version": "3.11.3"
  }
 },
 "nbformat": 4,
 "nbformat_minor": 5
}
