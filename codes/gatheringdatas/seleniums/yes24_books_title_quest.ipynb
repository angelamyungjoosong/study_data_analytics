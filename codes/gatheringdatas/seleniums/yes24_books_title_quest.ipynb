{
 "cells": [
  {
   "cell_type": "markdown",
   "id": "222bedcc-086b-49f9-ade0-e479b886a565",
   "metadata": {},
   "source": [
    "#### 퀘스트 \n",
    "- 도서목록 제목만 스크래핑\n",
    "- csv로 저장 "
   ]
  },
  {
   "cell_type": "code",
   "execution_count": 30,
   "id": "c65a7700-babf-4622-9770-9445c024b05a",
   "metadata": {
    "tags": []
   },
   "outputs": [],
   "source": [
    "from selenium import webdriver\n",
    "import pandas as pd"
   ]
  },
  {
   "cell_type": "code",
   "execution_count": 31,
   "id": "daa8d08e-401b-49a5-98fe-329761fe2702",
   "metadata": {
    "tags": []
   },
   "outputs": [],
   "source": [
    "browser = webdriver.Chrome(executable_path='../../../../chromedriver.exe')"
   ]
  },
  {
   "cell_type": "code",
   "execution_count": 32,
   "id": "cc77d624-148c-4c75-9fde-6794f3fda283",
   "metadata": {
    "tags": []
   },
   "outputs": [],
   "source": [
    "browser.get('https://brunch.co.kr/keyword/%EC%B1%85%EB%A6%AC%EB%B7%B0')"
   ]
  },
  {
   "cell_type": "markdown",
   "id": "32a17f07-80e3-4e83-be69-c026320dbb7c",
   "metadata": {
    "tags": []
   },
   "source": [
    "### 여러 element 가져오기"
   ]
  },
  {
   "cell_type": "code",
   "execution_count": 33,
   "id": "5c86b4b3-018f-416b-afce-0de167df24ee",
   "metadata": {
    "tags": []
   },
   "outputs": [
    {
     "data": {
      "text/plain": [
       "(list, selenium.webdriver.remote.webelement.WebElement)"
      ]
     },
     "execution_count": 33,
     "metadata": {},
     "output_type": "execute_result"
    }
   ],
   "source": [
    "element_path = '.tit_sub'\n",
    "elements = browser.find_elements_by_css_selector(element_path)\n",
    "type(elements), type(elements[0])\n",
    "#.mnemitem_goods_tit 클래스 있는거 모두 찾기 "
   ]
  },
  {
   "cell_type": "code",
   "execution_count": 34,
   "id": "3886d924-5ad9-43c7-8546-8b44b90ab7d7",
   "metadata": {
    "tags": []
   },
   "outputs": [
    {
     "name": "stdout",
     "output_type": "stream",
     "text": [
      "러일전쟁 - 와다 하루키(한길사) ●●●●●●●●◐○\n",
      "『우리 대화는 밤새도록 끝이 없지』- 허휘수, 서솔, 상상 출판\n",
      "『불안할 땐 뇌과학』- 캐서린 피트먼, 엘리자베스 칼. 현대지성\n",
      "그림책 리뷰\n",
      "동해선에서 읽은 책 61\n"
     ]
    }
   ],
   "source": [
    "textlist=[]\n",
    "for webelement in elements:\n",
    "    print(webelement.text)\n",
    "    textlist.append(webelement.text)"
   ]
  },
  {
   "cell_type": "code",
   "execution_count": 35,
   "id": "d9bb3a62-1cdc-4c6b-b41f-ae6c7d8aee0a",
   "metadata": {
    "tags": []
   },
   "outputs": [],
   "source": [
    "df_BOOK = pd.DataFrame(textlist)"
   ]
  },
  {
   "cell_type": "code",
   "execution_count": 36,
   "id": "c31269ec-1657-400c-90a4-4bb123f708f0",
   "metadata": {
    "tags": []
   },
   "outputs": [],
   "source": [
    "df_BOOK.to_csv('./yes24_books_title.csv')"
   ]
  },
  {
   "cell_type": "code",
   "execution_count": null,
   "id": "be9ecd41-1a7d-48a3-8efd-128b1574e917",
   "metadata": {},
   "outputs": [],
   "source": []
  }
 ],
 "metadata": {
  "kernelspec": {
   "display_name": "Python 3 (ipykernel)",
   "language": "python",
   "name": "python3"
  },
  "language_info": {
   "codemirror_mode": {
    "name": "ipython",
    "version": 3
   },
   "file_extension": ".py",
   "mimetype": "text/x-python",
   "name": "python",
   "nbconvert_exporter": "python",
   "pygments_lexer": "ipython3",
   "version": "3.11.3"
  }
 },
 "nbformat": 4,
 "nbformat_minor": 5
}
