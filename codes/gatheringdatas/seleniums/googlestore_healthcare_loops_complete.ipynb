{
 "cells": [
  {
   "cell_type": "code",
   "execution_count": 46,
   "id": "08b17640-e41b-4e6d-9d5e-b7814b1becb2",
   "metadata": {
    "tags": []
   },
   "outputs": [],
   "source": [
    "from selenium import webdriver\n",
    "import time"
   ]
  },
  {
   "cell_type": "code",
   "execution_count": 47,
   "id": "ade13be7-9cea-4132-9ecd-7fd1405ffab5",
   "metadata": {
    "tags": []
   },
   "outputs": [],
   "source": [
    "# open chrome browser\n",
    "# 하나의 브라우저\n",
    "browser = webdriver.Chrome(executable_path='../../../../chromedriver.exe')\n",
    "# 웹드라이버랑 연결해서 브라우저가 됨 "
   ]
  },
  {
   "cell_type": "code",
   "execution_count": 48,
   "id": "818c0827-82d1-4269-ab18-30d5433aed36",
   "metadata": {
    "tags": []
   },
   "outputs": [],
   "source": [
    "# url in address window\n",
    "browser.get('https://play.google.com/store/search?q=%ED%97%AC%EC%8A%A4%EC%BC%80%EC%96%B4%EC%95%B1&c=apps&hl=ko-KR')"
   ]
  },
  {
   "cell_type": "code",
   "execution_count": 34,
   "id": "110b3a1c-cfe5-4d48-ab93-1af2a434e1c2",
   "metadata": {
    "tags": []
   },
   "outputs": [],
   "source": [
    "browser.implicitly_wait(10)"
   ]
  },
  {
   "cell_type": "markdown",
   "id": "70729817-abe3-4876-a54b-62119c16867f",
   "metadata": {
    "tags": []
   },
   "source": [
    "## 서비스 리스트 가져오기 "
   ]
  },
  {
   "cell_type": "code",
   "execution_count": 35,
   "id": "9e56eb93-2ee3-44dc-a7b8-370276d06b79",
   "metadata": {
    "tags": []
   },
   "outputs": [],
   "source": [
    "# click_path ='section > div > div > div > div'\n",
    "# company_list = browser.find_elements_by_css_selector(click_path)\n",
    "# len(company_list)"
   ]
  },
  {
   "cell_type": "markdown",
   "id": "82fa353f-6c88-4c17-a158-119b04447e05",
   "metadata": {},
   "source": [
    "## 특정 서비스 클릭하기 "
   ]
  },
  {
   "cell_type": "code",
   "execution_count": 36,
   "id": "013a1fb9-947d-49b4-bb64-478974f57ce7",
   "metadata": {
    "tags": []
   },
   "outputs": [],
   "source": [
    "# company_list[0].click()#확인 실사용\n",
    "# browser.back()"
   ]
  },
  {
   "cell_type": "code",
   "execution_count": 37,
   "id": "e9f1344f-1651-4060-934d-1958de0257ea",
   "metadata": {
    "tags": []
   },
   "outputs": [],
   "source": [
    "# browser.implicitly_wait(10)"
   ]
  },
  {
   "cell_type": "code",
   "execution_count": 38,
   "id": "8aa6efd3-8e40-4bab-9366-dc9e44badfee",
   "metadata": {
    "tags": []
   },
   "outputs": [],
   "source": [
    "# for company in company_list:\n",
    "#     company.click()\n",
    "#     time.sleep(2)\n",
    "#     browser.back()#리스트로 돌아기기\n",
    "#     time.sleep(2)"
   ]
  },
  {
   "cell_type": "markdown",
   "id": "925a4cf2-81be-4b85-8009-c8e7a36ebe77",
   "metadata": {},
   "source": [
    "## 제품 정보\n",
    "- 서비스명 tag: div > h1 > span\n",
    "- 만든 회사명 tag: div.Il7kR > div > div > div > a > span\n",
    "- 앱 정보 tag: div:nth-child(1) > c-wiz:nth-child(2) > div > section > div\n"
   ]
  },
  {
   "cell_type": "code",
   "execution_count": 39,
   "id": "e8b5257a-bc1e-4350-b642-ad6c2347fd58",
   "metadata": {
    "tags": []
   },
   "outputs": [],
   "source": [
    "# service_name = browser.find_element_by_css_selector('div > h1 > span').text\n",
    "# company_name = browser.find_element_by_css_selector('div.Il7kR > div > div > div > a > span').text\n",
    "# app_information = browser.find_element_by_css_selector('div:nth-child(1) > c-wiz:nth-child(2) > div > section > div').text\n",
    "\n",
    "# [service_name, company_name, app_information]"
   ]
  },
  {
   "cell_type": "markdown",
   "id": "03eff2fc-cf1b-466b-9bde-0e7ff32eee26",
   "metadata": {},
   "source": [
    "### 리뷰 모두 보기 \n",
    "- click tag: div:nth-child(5) > div > div > button > span"
   ]
  },
  {
   "cell_type": "code",
   "execution_count": 40,
   "id": "dd26c914-49f5-4fb3-8c68-0a192ad691eb",
   "metadata": {
    "tags": []
   },
   "outputs": [],
   "source": [
    "# browser.implicitly_wait(10)"
   ]
  },
  {
   "cell_type": "code",
   "execution_count": 41,
   "id": "35141802-9c0f-4d89-bb05-446338a010cd",
   "metadata": {},
   "outputs": [],
   "source": [
    "# #댓글 팝업 띄우기\n",
    "# browser.find_element_by_xpath('//*/div/div/button/*[contains(text(), \"리뷰\")]').click()"
   ]
  },
  {
   "cell_type": "markdown",
   "id": "b6ade107-58c8-4a12-a1da-36db52cf1c57",
   "metadata": {},
   "source": [
    "### 리뷰 내용 가져오기\n",
    "- 리뷰 묶음 tag: div.fysCi > div > div:nth-child(2) > div\n",
    "- 리뷰 내용 tag: div.h3YV2d\n",
    "- 리뷰 날짜 tag: header > div.Jx4nYe > span\n",
    "- 별첨 tag: header > div.Jx4nYe > div\n",
    "- (특정 묶음 안이니까 공통 tag 사용)\n"
   ]
  },
  {
   "cell_type": "code",
   "execution_count": 42,
   "id": "252f049c-bd32-41d6-8d03-20100a48a322",
   "metadata": {},
   "outputs": [],
   "source": [
    "#  #회사 서비스에 대한 전체 리뷰 가져오기 \n",
    "# reviews_bundle = browser.find_elements_by_css_selector('div.fysCi > div > div:nth-child(2) > div')\n",
    "# len(reviews_bundle)"
   ]
  },
  {
   "cell_type": "code",
   "execution_count": 43,
   "id": "53d93492-04eb-47ce-9729-be94b24332c6",
   "metadata": {
    "jupyter": {
     "source_hidden": true
    },
    "tags": []
   },
   "outputs": [],
   "source": [
    "# reviews_list = list()\n",
    "#     for review_bundle in reviews_bundle:  \n",
    "#         content = review_bundle.find_element_by_css_selector('div.h3YV2d').text\n",
    "#         date = review_bundle.find_element_by_css_selector('header > div.Jx4nYe > span').text\n",
    "#         stars = review_bundle.find_element_by_css_selector('header > div.Jx4nYe > div').get_attribute('aria-label')\n",
    "#         review_list = [service_name, content, date, stars]\n",
    "#         reviews_list.append(review_list) #리뷰에 대한 모든 것(특정 회사 서비스에 대한)"
   ]
  },
  {
   "cell_type": "code",
   "execution_count": 44,
   "id": "8cc53878-76cf-46e0-866c-6ef7223100c2",
   "metadata": {
    "tags": []
   },
   "outputs": [],
   "source": [
    "import pandas as pd \n",
    "import pymongo as mg "
   ]
  },
  {
   "cell_type": "code",
   "execution_count": 45,
   "id": "e8b33384-8420-470d-b800-293c2a96118c",
   "metadata": {
    "tags": []
   },
   "outputs": [
    {
     "name": "stdout",
     "output_type": "stream",
     "text": [
      "current reviews_bundle count : 40\n",
      "current reviews_bundle count : 80\n",
      "current reviews_bundle count : 120\n",
      "Done 120\n",
      "service_name : Samsung Health(삼성 헬스), review count : 120\n",
      "current reviews_bundle count : 40\n",
      "current reviews_bundle count : 80\n",
      "current reviews_bundle count : 120\n",
      "current reviews_bundle count : 160\n",
      "current reviews_bundle count : 200\n",
      "current reviews_bundle count : 240\n",
      "current reviews_bundle count : 248\n",
      "current reviews_bundle count : 248\n",
      "current reviews_bundle count : 248\n",
      "current reviews_bundle count : 248\n",
      "current reviews_bundle count : 248\n",
      "Done 248\n",
      "service_name : NH헬스케어, review count : 248\n",
      "Done 17\n",
      "service_name : 케어헬스, review count : 17\n",
      "Done 7\n",
      "service_name : 기업용 디지털 헬스케어 삼성화재 애니핏 프로(PRO), review count : 7\n",
      "Done 40\n",
      "service_name : 애니핏 플러스 나에게 핏한 건강관리, review count : 40\n",
      "Done 2\n",
      "service_name : SK VIEW 헬스케어, review count : 2\n",
      "Done 14\n",
      "service_name : , review count : 14\n",
      "Done 1\n",
      "service_name : 헬스케어 건강관리서비스, review count : 1\n",
      "Done 24\n",
      "service_name : PT쌤 - 운동 헬스 체중관리 체력테스트 홈트 기록, review count : 24\n",
      "Done 40\n",
      "service_name : 플릭 - 운동일지, 운동기록, 운동일기, 운동루틴, review count : 40\n",
      "current reviews_bundle count : 40\n",
      "current reviews_bundle count : 71\n",
      "current reviews_bundle count : 71\n",
      "Done 71\n",
      "service_name : Health4U, review count : 71\n",
      "Done 40\n",
      "service_name : , review count : 40\n",
      "current reviews_bundle count : 40\n",
      "current reviews_bundle count : 80\n",
      "current reviews_bundle count : 94\n",
      "current reviews_bundle count : 94\n",
      "current reviews_bundle count : 94\n",
      "current reviews_bundle count : 94\n",
      "Done 94\n",
      "service_name : 현대해상 메디케어, review count : 94\n",
      "current reviews_bundle count : 25\n",
      "current reviews_bundle count : 25\n",
      "Done 25\n",
      "service_name : 삼성생명 S-헬스케어, review count : 25\n",
      "current reviews_bundle count : 40\n",
      "current reviews_bundle count : 40\n",
      "current reviews_bundle count : 80\n",
      "current reviews_bundle count : 120\n",
      "current reviews_bundle count : 160\n",
      "current reviews_bundle count : 189\n",
      "current reviews_bundle count : 189\n",
      "current reviews_bundle count : 189\n",
      "current reviews_bundle count : 189\n",
      "current reviews_bundle count : 189\n",
      "current reviews_bundle count : 189\n",
      "current reviews_bundle count : 189\n",
      "current reviews_bundle count : 189\n",
      "current reviews_bundle count : 189\n",
      "current reviews_bundle count : 189\n",
      "current reviews_bundle count : 189\n",
      "current reviews_bundle count : 189\n",
      "current reviews_bundle count : 189\n",
      "current reviews_bundle count : 189\n",
      "current reviews_bundle count : 189\n",
      "current reviews_bundle count : 189\n",
      "current reviews_bundle count : 189\n",
      "current reviews_bundle count : 189\n",
      "current reviews_bundle count : 189\n",
      "Done 189\n",
      "service_name : 운동닥터 - 헬스장 PT, 필라테스 찾기 필수 앱, review count : 189\n",
      "current reviews_bundle count : 28\n",
      "Done 28\n",
      "service_name : 케어포미, review count : 28\n",
      "Done 40\n",
      "service_name : 헬스 플랫폼, review count : 40\n",
      "current reviews_bundle count : 40\n",
      "current reviews_bundle count : 80\n",
      "current reviews_bundle count : 97\n",
      "Done 97\n",
      "service_name : 온닥터, review count : 97\n",
      "current reviews_bundle count : 40\n",
      "current reviews_bundle count : 80\n",
      "current reviews_bundle count : 120\n",
      "current reviews_bundle count : 160\n",
      "current reviews_bundle count : 200\n",
      "current reviews_bundle count : 213\n",
      "current reviews_bundle count : 213\n",
      "Done 213\n",
      "service_name : , review count : 213\n",
      "current reviews_bundle count : 35\n",
      "Done 35\n",
      "service_name : 빅케어, review count : 35\n",
      "Done 40\n",
      "service_name : 채움건강, review count : 40\n",
      "current reviews_bundle count : 40\n",
      "current reviews_bundle count : 80\n",
      "current reviews_bundle count : 120\n",
      "current reviews_bundle count : 141\n",
      "current reviews_bundle count : 141\n",
      "Done 141\n",
      "service_name : 오케어, review count : 141\n",
      "Done 40\n",
      "service_name : , review count : 40\n"
     ]
    },
    {
     "ename": "IndexError",
     "evalue": "list index out of range",
     "output_type": "error",
     "traceback": [
      "\u001b[1;31m---------------------------------------------------------------------------\u001b[0m",
      "\u001b[1;31mIndexError\u001b[0m                                Traceback (most recent call last)",
      "Cell \u001b[1;32mIn[45], line 38\u001b[0m\n\u001b[0;32m     35\u001b[0m result_list \u001b[38;5;241m=\u001b[39m re\u001b[38;5;241m.\u001b[39mfindall(\u001b[38;5;124mr\u001b[39m\u001b[38;5;124m'\u001b[39m\u001b[38;5;124m\\\u001b[39m\u001b[38;5;124md+\u001b[39m\u001b[38;5;124m'\u001b[39m, review_total_count_text) \n\u001b[0;32m     36\u001b[0m \u001b[38;5;66;03m#print(result_list[0], int(result_list[0]))\u001b[39;00m\n\u001b[1;32m---> 38\u001b[0m review_total_count \u001b[38;5;241m=\u001b[39m \u001b[38;5;28mint\u001b[39m(result_list[\u001b[38;5;241m0\u001b[39m])\n\u001b[0;32m     40\u001b[0m \u001b[38;5;66;03m#[service_name, company_name, app_information]\u001b[39;00m\n\u001b[0;32m     41\u001b[0m \n\u001b[0;32m     42\u001b[0m \n\u001b[0;32m     43\u001b[0m \u001b[38;5;66;03m#댓글 팝업 띄우기(해당 리뷰 없을 시 대비한 방어 코드 작성 필요)\u001b[39;00m\n\u001b[0;32m     44\u001b[0m review_flag \u001b[38;5;241m=\u001b[39m \u001b[38;5;28;01mTrue\u001b[39;00m\n",
      "\u001b[1;31mIndexError\u001b[0m: list index out of range"
     ]
    }
   ],
   "source": [
    "client = mg.MongoClient(host='mongodb://localhost:27017')\n",
    "database = client['study_data_analytics']\n",
    "collection = database['googlestore_healthcare']\n",
    "\n",
    "## 서비스 앱에 대한 리스트 \n",
    "click_path ='section > div > div > div > div'\n",
    "company_list = browser.find_elements_by_css_selector(click_path)\n",
    "len(company_list)\n",
    "\n",
    "\n",
    "for company in company_list:\n",
    "    company.click()\n",
    "    time.sleep(2)\n",
    "    \n",
    "    #서비스 앱에 대한 정보 가져오기\n",
    "    try:\n",
    "        service_name = browser.find_element_by_css_selector('div > h1 > span').text\n",
    "    except: \n",
    "        service_name=str()\n",
    "    try:    \n",
    "        company_name = browser.find_element_by_css_selector('div.Il7kR > div > div > div > a > span').text\n",
    "    except: \n",
    "        service_name=str()\n",
    "    try:\n",
    "        app_information = browser.find_element_by_css_selector('div:nth-child(1) > c-wiz:nth-child(2) > div > section > div').text\n",
    "    except: \n",
    "        service_name=str()\n",
    "        \n",
    "        \n",
    "    #### 리뷰 총 갯수 가져오기\n",
    "    ## 리뷰 총 개수 tag: div:nth-child(1) > div.g1rdde\n",
    "    review_total_count_text = browser.find_element_by_css_selector('div:nth-child(1) > div.g1rdde').text\n",
    "        \n",
    "    import re #regular expression function\n",
    "    result_list = re.findall(r'\\d+', review_total_count_text) \n",
    "    #print(result_list[0], int(result_list[0]))\n",
    "\n",
    "    review_total_count = int(result_list[0])\n",
    "        \n",
    "    #[service_name, company_name, app_information]\n",
    "    \n",
    "    \n",
    "    #댓글 팝업 띄우기(해당 리뷰 없을 시 대비한 방어 코드 작성 필요)\n",
    "    review_flag = True\n",
    "    try: \n",
    "        browser.find_element_by_xpath('//*/div/div/button/*[contains(text(), \"리뷰\")]').click()\n",
    "    except: \n",
    "        review_flag = False \n",
    "        \n",
    "    #회사 서비스에 대한 전체 리뷰 가져오기 \n",
    "    serviceapp_columns_name = ['service_name', 'content', 'date', 'stars']\n",
    "    reviews_list = list()\n",
    "    if review_flag :\n",
    "        \n",
    "        #팝업 띄우기 \n",
    "        reviews_bundle = browser.find_elements_by_css_selector('div.fysCi > div > div:nth-child(2) > div')\n",
    "        len(reviews_bundle)\n",
    "        \n",
    "        #팝업 속 댓글 전체 표시 \n",
    "        review_standard_count_per = 40\n",
    "\n",
    "        loop_count_int = int(review_total_count / review_standard_count_per)\n",
    "        for count in range(1, loop_count_int+1) :\n",
    "            try :\n",
    "                reviews_bundle = browser.find_elements_by_css_selector('div.fysCi > div > div:nth-child(2) > div')\n",
    "                print('current reviews_bundle count : {}'.format(len(reviews_bundle)))\n",
    "                reviews_bundle[len(reviews_bundle)-1].click()\n",
    "                time.sleep(3)\n",
    "            except :\n",
    "                print('pass')\n",
    "                pass\n",
    "        print('Done', len(reviews_bundle))\n",
    "        \n",
    "        #팝업 댓글 수집\n",
    "        for review_bundle in reviews_bundle:  \n",
    "            content = review_bundle.find_element_by_css_selector('div.h3YV2d').text\n",
    "            date = review_bundle.find_element_by_css_selector('header > div.Jx4nYe > span').text\n",
    "            stars = review_bundle.find_element_by_css_selector('header > div.Jx4nYe > div').get_attribute('aria-label')\n",
    "            review_list = [service_name, content, date, stars]\n",
    "            reviews_list.append(review_list) #리뷰에 대한 모든 것(특정 회사 서비스에 대한)\n",
    "        \n",
    "        browser.back()#팝업 닫기 \n",
    "        \n",
    "        # 저장 위한 작업\n",
    "        df_reviews = pd.DataFrame(data=reviews_list, columns=serviceapp_columns_name)\n",
    "        data_dict = df_reviews.to_dict(orient='records')\n",
    "        collection.insert_many(data_dict)\n",
    "        \n",
    "    print('service_name : {}, review count : {}'.format(service_name, len(reviews_list)))\n",
    "    browser.back()#리스트로 돌아기기\n",
    "    time.sleep(3) \n",
    "print('Done')"
   ]
  },
  {
   "cell_type": "code",
   "execution_count": null,
   "id": "3b049471-ae29-4d0b-811e-b9ebc34d3bbe",
   "metadata": {},
   "outputs": [],
   "source": [
    "reviews_list"
   ]
  },
  {
   "cell_type": "code",
   "execution_count": null,
   "id": "ae735e6a-51fe-4a06-9810-cc5cc3f9bb36",
   "metadata": {
    "tags": []
   },
   "outputs": [],
   "source": [
    "# browser.back()\n",
    "#팝업 닫기"
   ]
  },
  {
   "cell_type": "code",
   "execution_count": null,
   "id": "cbe249ea-44e4-4422-b8ac-359546fe95a3",
   "metadata": {
    "tags": []
   },
   "outputs": [],
   "source": [
    "# browser.back()\n",
    "#리스트로 돌아가기"
   ]
  }
 ],
 "metadata": {
  "kernelspec": {
   "display_name": "Python 3 (ipykernel)",
   "language": "python",
   "name": "python3"
  },
  "language_info": {
   "codemirror_mode": {
    "name": "ipython",
    "version": 3
   },
   "file_extension": ".py",
   "mimetype": "text/x-python",
   "name": "python",
   "nbconvert_exporter": "python",
   "pygments_lexer": "ipython3",
   "version": "3.11.3"
  }
 },
 "nbformat": 4,
 "nbformat_minor": 5
}
