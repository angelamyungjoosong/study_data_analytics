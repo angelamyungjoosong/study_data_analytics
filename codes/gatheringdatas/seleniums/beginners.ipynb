{
 "cells": [
  {
   "cell_type": "code",
   "execution_count": 21,
   "id": "0dd896e5-7b15-4ecf-9679-b4a8f804cf8c",
   "metadata": {
    "tags": []
   },
   "outputs": [],
   "source": [
    "from selenium import webdriver"
   ]
  },
  {
   "cell_type": "code",
   "execution_count": 22,
   "id": "d2ac4265-90d6-4b97-a0e9-a10ef2b17503",
   "metadata": {
    "tags": []
   },
   "outputs": [],
   "source": [
    "# open chrome browser\n",
    "# 하나의 브라우저\n",
    "browser = webdriver.Chrome(executable_path='../../../../chromedriver.exe')\n",
    "# 웹드라이버랑 연결해서 브라우저가 됨 "
   ]
  },
  {
   "cell_type": "code",
   "execution_count": 23,
   "id": "ae89fea9-2056-496d-975d-7715ea212783",
   "metadata": {
    "tags": []
   },
   "outputs": [],
   "source": [
    "# url in address window\n",
    "browser.get('https://www.w3schools.com/')"
   ]
  },
  {
   "cell_type": "code",
   "execution_count": 24,
   "id": "c9430129-32f0-45e3-a1c8-ba9c1da71032",
   "metadata": {
    "tags": []
   },
   "outputs": [
    {
     "data": {
      "text/plain": [
       "True"
      ]
     },
     "execution_count": 24,
     "metadata": {},
     "output_type": "execute_result"
    }
   ],
   "source": [
    "browser.save_screenshot('./beginners.png')\n",
    "# 스크린샷 찍어서 저장"
   ]
  },
  {
   "cell_type": "markdown",
   "id": "8c2a1a31-7daf-4096-b66e-762418d5ab89",
   "metadata": {},
   "source": [
    "##  마우스 스크롤 기능 구현 "
   ]
  },
  {
   "cell_type": "code",
   "execution_count": 27,
   "id": "f986d80a-df37-4e87-a1fa-71dae7e47aa6",
   "metadata": {
    "tags": []
   },
   "outputs": [],
   "source": [
    "from selenium.webdriver.common.keys import Keys\n",
    "# page down\n",
    "browser.find_element_by_css_selector('body').send_keys(Keys.PAGE_DOWN)\n",
    "\n",
    "# html에서 사용자에게 보여지는 것은 body 부분 \n",
    "# 스크롤링을 브라우저 기준 \n",
    "# 키보드의 키 조합 사용 가능 "
   ]
  },
  {
   "cell_type": "code",
   "execution_count": 28,
   "id": "91616d57-6213-4cf1-a8b8-c78056f5357c",
   "metadata": {
    "tags": []
   },
   "outputs": [],
   "source": [
    "# page up\n",
    "from selenium.webdriver.common.keys import Keys\n",
    "browser.find_element_by_css_selector('body').send_keys(Keys.PAGE_UP)"
   ]
  },
  {
   "cell_type": "code",
   "execution_count": 29,
   "id": "8bd19ec8-0050-476c-85f8-9ede325a2356",
   "metadata": {
    "tags": []
   },
   "outputs": [
    {
     "data": {
      "text/plain": [
       "(749, 17677)"
      ]
     },
     "execution_count": 29,
     "metadata": {},
     "output_type": "execute_result"
    }
   ],
   "source": [
    "# 화면 끝까지 이동\n",
    "\n",
    "# 화면의 페이지를 알아야 함 \n",
    "# window.innerHeight = 749\n",
    "# document.body.scrollHeight = 17677\n",
    "# 자바 활용해서 콘솔에서 값 받아오는 방식 \n",
    "\n",
    "screen_height = browser.execute_script('return window.innerHeight')\n",
    "document_height = browser.execute_script('return document.body.scrollHeight')\n",
    "\n",
    "screen_height, document_height"
   ]
  },
  {
   "cell_type": "code",
   "execution_count": 31,
   "id": "2b1ca88b-5b5a-4f76-ac9c-c1ca0afe0db2",
   "metadata": {
    "tags": []
   },
   "outputs": [
    {
     "name": "stdout",
     "output_type": "stream",
     "text": [
      "2059 17677\n",
      "2714 17677\n",
      "3369 17677\n",
      "4024 17677\n",
      "4679 17677\n",
      "5334 17677\n",
      "5989 17677\n",
      "6644 17677\n",
      "7299 17677\n",
      "7954 17677\n",
      "8609 17677\n",
      "9264 17677\n",
      "9919 17677\n",
      "10574 17677\n",
      "11229 17677\n",
      "11884 17677\n",
      "12539 17677\n",
      "13194 17677\n",
      "13849 17677\n",
      "14504 17677\n",
      "15159 17677\n",
      "15814 17677\n",
      "16469 17677\n",
      "17124 17677\n",
      "17779 17677\n"
     ]
    }
   ],
   "source": [
    "#해당 사이즈 전까지 동작 \n",
    "import time\n",
    "while True:\n",
    "    browser.find_element_by_css_selector('body').send_keys(Keys.PAGE_DOWN)\n",
    "    time.sleep(1)\n",
    "    \n",
    "    #window.pageYOffset 화면에서 얼마나 내렸는지 \n",
    "    current_scroll_position = browser.execute_script('return window.pageYOffset + {0}'.format(screen_height))\n",
    "    \n",
    "    print(current_scroll_position, document_height)\n",
    "    if current_scroll_position >= document_height:\n",
    "        break"
   ]
  },
  {
   "cell_type": "code",
   "execution_count": 19,
   "id": "c40ad509-b36d-49c3-8c89-d1c794dc56af",
   "metadata": {
    "tags": []
   },
   "outputs": [],
   "source": [
    "browser.quit()"
   ]
  },
  {
   "cell_type": "code",
   "execution_count": null,
   "id": "13e99112-0d38-440b-b1a5-2428fb14713b",
   "metadata": {},
   "outputs": [],
   "source": []
  }
 ],
 "metadata": {
  "kernelspec": {
   "display_name": "Python 3 (ipykernel)",
   "language": "python",
   "name": "python3"
  },
  "language_info": {
   "codemirror_mode": {
    "name": "ipython",
    "version": 3
   },
   "file_extension": ".py",
   "mimetype": "text/x-python",
   "name": "python",
   "nbconvert_exporter": "python",
   "pygments_lexer": "ipython3",
   "version": "3.11.3"
  }
 },
 "nbformat": 4,
 "nbformat_minor": 5
}
