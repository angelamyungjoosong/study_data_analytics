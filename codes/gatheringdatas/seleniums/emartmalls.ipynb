{
 "cells": [
  {
   "cell_type": "code",
   "execution_count": 18,
   "id": "0dd896e5-7b15-4ecf-9679-b4a8f804cf8c",
   "metadata": {
    "tags": []
   },
   "outputs": [],
   "source": [
    "from selenium import webdriver"
   ]
  },
  {
   "cell_type": "code",
   "execution_count": 19,
   "id": "d2ac4265-90d6-4b97-a0e9-a10ef2b17503",
   "metadata": {
    "tags": []
   },
   "outputs": [],
   "source": [
    "# open chrome browser\n",
    "# 하나의 브라우저\n",
    "browser = webdriver.Chrome(executable_path='../../../../chromedriver.exe')\n",
    "# 웹드라이버랑 연결해서 브라우저가 됨 "
   ]
  },
  {
   "cell_type": "code",
   "execution_count": 20,
   "id": "ae89fea9-2056-496d-975d-7715ea212783",
   "metadata": {
    "tags": []
   },
   "outputs": [],
   "source": [
    "# url in address window\n",
    "browser.get('https://emart.ssg.com/disp/category.ssg?dispCtgId=6000214033')\n",
    "# browser에 담겨진 상태 "
   ]
  },
  {
   "cell_type": "markdown",
   "id": "b96bbb2c-5d69-4f44-a224-3a266cbcf6e4",
   "metadata": {},
   "source": [
    "### 하나의 element 가져오기 "
   ]
  },
  {
   "cell_type": "code",
   "execution_count": 25,
   "id": "6a7eb550-a6ad-4b85-b0e4-321c9fdb0f1d",
   "metadata": {
    "tags": []
   },
   "outputs": [
    {
     "data": {
      "text/plain": [
       "selenium.webdriver.remote.webelement.WebElement"
      ]
     },
     "execution_count": 25,
     "metadata": {},
     "output_type": "execute_result"
    }
   ],
   "source": [
    "# 해당 웹사이트에서 copy selector \n",
    "element_path = '#swiper-wrapper-bff2e3a575c9ed63 > li.mnemitem_grid_item.swiper-slide.swiper-slide-active > div > div > div.mnemitem_detailbx > div.mnemitem_tx_thmb > a > div.mnemitem_tit > span.mnemitem_goods_tit'\n",
    "element = browser.find_element_by_css_selector(element_path) #단수 찾기\n",
    "type(element) \n",
    "# <span class=\"mnemitem_goods_tit\">몰리스 쉬야응가 1회용 패드 L 50매</span>\n",
    "# 태그에 담긴 하나의 클래스 selenium.webdriver.remote.webelement.WebElement"
   ]
  },
  {
   "cell_type": "code",
   "execution_count": 22,
   "id": "cd3db212-f50b-4f16-8593-6fa2a1d7285d",
   "metadata": {
    "tags": []
   },
   "outputs": [
    {
     "data": {
      "text/plain": [
       "'몰리스 쉬야응가 1회용 패드 L 50매'"
      ]
     },
     "execution_count": 22,
     "metadata": {},
     "output_type": "execute_result"
    }
   ],
   "source": [
    "element.text\n",
    "#글자 가져오기"
   ]
  },
  {
   "cell_type": "code",
   "execution_count": 23,
   "id": "f5d45588-f107-47ed-ae70-ec07b30598da",
   "metadata": {
    "tags": []
   },
   "outputs": [
    {
     "data": {
      "text/plain": [
       "'mnemitem_goods_tit'"
      ]
     },
     "execution_count": 23,
     "metadata": {},
     "output_type": "execute_result"
    }
   ],
   "source": [
    "#테그의 class 이름 가져오기\n",
    "element.get_attribute('class')"
   ]
  },
  {
   "cell_type": "markdown",
   "id": "a52c8ee6-08ea-437f-a2a2-29f4c43b8875",
   "metadata": {},
   "source": [
    "### 여러 element 가져오기"
   ]
  },
  {
   "cell_type": "code",
   "execution_count": 27,
   "id": "75ea86d8-a2e0-4b44-89de-6a18dec1f328",
   "metadata": {
    "tags": []
   },
   "outputs": [
    {
     "data": {
      "text/plain": [
       "(list, selenium.webdriver.remote.webelement.WebElement)"
      ]
     },
     "execution_count": 27,
     "metadata": {},
     "output_type": "execute_result"
    }
   ],
   "source": [
    "element_path = '.mnemitem_goods_tit'\n",
    "elements = browser.find_elements_by_css_selector(element_path)\n",
    "type(elements), type(elements[0])\n",
    "#.mnemitem_goods_tit 클래스 있는거 모두 찾기 "
   ]
  },
  {
   "cell_type": "code",
   "execution_count": 28,
   "id": "cb908982-98eb-4e06-878e-583d3400e3c1",
   "metadata": {
    "tags": []
   },
   "outputs": [
    {
     "name": "stdout",
     "output_type": "stream",
     "text": [
      "몰리스 쉬야응가 1회용 패드 L 50매\n",
      "몰리스 쉬야응가 1회용 패드 L 50매\n",
      "몰리스 쉬야응가 1회용 패드 M 100매\n",
      "몰리스 쉬야응가 1회용 패드 M 100매\n",
      "\n",
      "\n",
      "\n",
      "\n",
      "\n",
      "\n",
      "\n",
      "\n",
      "\n",
      "\n",
      "\n",
      "\n",
      "\n",
      "\n",
      "\n",
      "\n",
      "반려견패드(중)40*50cm*100매\n",
      "반려견패드(대)60*70cm*45매\n",
      "순살듬뿍 오리말이스틱 30P (300g)\n",
      "순살듬뿍 치킨말이스틱 30P (300g)\n",
      "건강한간식 순살듬뿍 고구마 오리말이 300g\n",
      "건강한간식 순살듬뿍 고구마 치킨말이 300g\n",
      "몰리스픽 반려견 패드 L 45매\n",
      "몰리스픽 반려견 패드 M 100매\n",
      "건강한간식 순살듬뿍 안심오리 300g\n",
      "반려견 사료 10kg\n",
      "몰리스 화이트 스틱껌 소프트치킨 400g\n",
      "몰리스 미끄러지지 않는 패드 M 80매\n",
      "몰리스 쉬야응가 1회용 패드 M 100매\n",
      "템테이션 맛있는 닭고기맛 75g\n",
      "템테이션 고소한 참치맛 75g\n",
      "치킨 슬라이스 1kg\n",
      "몰리스 미니 닭가슴살과 연어\n",
      "포켄스 덴탈스틱 후레시 칼슘 S 작은별 220g\n",
      "몰리스 3~4회용 패드 L 35매\n",
      "자연소재 양고기육포&쌀 460g\n",
      "템테이션 풍부한 해산물 맛75g\n",
      "건강한간식 순살듬뿍 안심치킨 300g\n",
      "츄잉스틱 플레인요거트 250g\n",
      "템테이션 믹스업 참치 연어 새우맛 75g\n",
      "국민가격 DTC 치킨고구마 져키 1kg\n",
      "[몰리스]프로발란스 어덜트 8kg\n",
      "몰리스미니참치와도미\n",
      "[포켄스] 덴티 페어리(소)\n",
      "국민 두부 고양이 모래(오리지널)\n",
      "챠오 츄루 참치 4개입\n",
      "밥이보약 Dog 튼튼한 관절 8kg (네오2 유통기한 23.10.17)\n",
      "몰리스 닭가슴살과흰살생선\n",
      "포켄스 덴티페어리 M 75g\n",
      "포켄스 덴탈스틱 후레시 블루베리 S 작은별 220g\n",
      "몰리스픽 전연령 반려묘사료 15KG\n",
      "맥시 비프져키 800g\n",
      "슈퍼츄 터키츄 본S 10개입\n",
      "템테이션 연어맛 75g\n",
      "[시저] 연어와 감자 (100g*3개)\n",
      "Think your Dog Teeth 소고기우유껌 15P\n",
      "(이마트가 직접 수입한) 딱 한번 반려견 패드 M 200매\n",
      "순살간식 오리고기 순살 300g\n",
      "자연소재 소고기육포스틱 180g\n",
      "챠오 츄르 닭가슴살 4개입\n",
      "보양대첩 쿨링 30g캔 *8입\n",
      "몰리스 미끄러지지 않는 패드 L 35매\n",
      "몰리스 쉬야응가 1회용 패드 XL 40매\n",
      "몰리스미니참치와게맛살\n",
      "Natural 밀크스틱27P(80g)\n",
      "[시저 Cesar] 비프 사료 100g*3\n",
      "몰리스 치즈 화이트스틱껌 치킨 270g\n",
      "원더푸드 반려견 고구마말랭이 간식 1kg\n",
      "몰리스 크런치홀릭 연어 60g\n",
      "캣차우 컴플리트 전연령용 6kg\n",
      "챠오 츄르 가다랑어 4개입\n",
      "몰리스픽 전연령 반려묘사료 5KG\n",
      "몰리스 3~4회용 패드 M 80매\n",
      "칠면조힘줄 스트립 85g\n",
      "포켄스 덴탈스틱 후레시 오메가3 S 작은별 220g\n",
      "반려묘사료 10kg\n",
      "템테이션 부드러운 우유맛 75g\n",
      "몰리스 크런치홀릭 닭고기 60g\n",
      "[시저 Cesar] 쇠고기와 참치 사료 100g*3팩\n",
      "[몰리스]프로발란스 피부관리와 모질강화 전연령 6kg\n",
      "츄잉스틱 딸기요거트 250g\n",
      "몰리스 쉬야응가 1회용 패드 L 50매\n",
      "포켄스 덴티페어리 SS 150g\n",
      "츄르비 닭가슴살&구운가다랑어 4개입\n",
      "[시저 Cesar] 비프 앤 치즈 사료 (100g*3)\n",
      "뉴트리나 건강백서 건강한 관절 2kg\n",
      "[쉬바] 참치 흰 살과 도미와 그레이비 소스 85g\n",
      "국민 두부 고양이 모래(녹차)\n",
      "내츄럴랩 건강한치즈 애견간식 요거트 스틱 100g\n",
      "몰리스 냄새잡는 패드 L 35매\n",
      "쉬바 참치와 연어 70g\n",
      "가 직접 수입한 치킨 화이트본 S 13개입\n",
      "헌터본 연어 16P 240g\n",
      "슈퍼츄 터키츄 링S 1개입\n",
      "챠오 츄르 참치/해물믹스맛 20개입\n",
      "템테이션 헤어볼 컨트롤 60g\n"
     ]
    }
   ],
   "source": [
    "for webelement in elements:\n",
    "    print(webelement.text)"
   ]
  },
  {
   "cell_type": "code",
   "execution_count": 15,
   "id": "c40ad509-b36d-49c3-8c89-d1c794dc56af",
   "metadata": {
    "tags": []
   },
   "outputs": [],
   "source": [
    "browser.quit()"
   ]
  }
 ],
 "metadata": {
  "kernelspec": {
   "display_name": "Python 3 (ipykernel)",
   "language": "python",
   "name": "python3"
  },
  "language_info": {
   "codemirror_mode": {
    "name": "ipython",
    "version": 3
   },
   "file_extension": ".py",
   "mimetype": "text/x-python",
   "name": "python",
   "nbconvert_exporter": "python",
   "pygments_lexer": "ipython3",
   "version": "3.11.3"
  }
 },
 "nbformat": 4,
 "nbformat_minor": 5
}
