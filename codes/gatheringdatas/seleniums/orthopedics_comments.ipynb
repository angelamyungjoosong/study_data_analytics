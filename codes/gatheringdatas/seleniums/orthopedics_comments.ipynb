{
 "cells": [
  {
   "cell_type": "markdown",
   "id": "7bf41634-ae26-4184-b592-2039367262de",
   "metadata": {
    "tags": []
   },
   "source": [
    "## 모커리 한방병원 치료후기(주로 척추 관련 치료 받은 환자들)\n",
    "- https://www.mokhuri.com/07_community/community01_04.php"
   ]
  },
  {
   "cell_type": "code",
   "execution_count": 13,
   "id": "75d0c883-9250-4c10-ac7a-01e56994903f",
   "metadata": {
    "tags": []
   },
   "outputs": [],
   "source": [
    "from selenium import webdriver\n",
    "import time\n",
    "import pandas as pd \n",
    "import pymongo as mg "
   ]
  },
  {
   "cell_type": "code",
   "execution_count": 14,
   "id": "5e8d6859-daff-4f26-9979-cc4838cdb918",
   "metadata": {
    "tags": []
   },
   "outputs": [],
   "source": [
    "browser = webdriver.Chrome(executable_path='../../../../chromedriver.exe')"
   ]
  },
  {
   "cell_type": "code",
   "execution_count": 15,
   "id": "994f7660-c912-4230-9ce5-2c645e6a52a0",
   "metadata": {
    "tags": []
   },
   "outputs": [],
   "source": [
    "browser.get('https://www.mokhuri.com/07_community/community01_04.php')"
   ]
  },
  {
   "cell_type": "markdown",
   "id": "c7cc5956-9949-41f3-9cff-23ea05eb90b1",
   "metadata": {},
   "source": [
    "### 로그인 "
   ]
  },
  {
   "cell_type": "code",
   "execution_count": 18,
   "id": "16e9ec4b-a29a-4fc6-8af0-ee3f8042a39d",
   "metadata": {
    "tags": []
   },
   "outputs": [],
   "source": [
    "# 로그인 버튼 클릭 \n",
    "# tag: document > ul > li:nth-child(8) > a\n",
    "browser.find_element_by_css_selector('#document > ul > li:nth-child(8) > a').click()\n",
    "browser.implicitly_wait(10)"
   ]
  },
  {
   "cell_type": "code",
   "execution_count": null,
   "id": "cef07a53-12e9-4b5b-a47a-6b2c7f5615fc",
   "metadata": {},
   "outputs": [],
   "source": [
    "# 로그인 \n",
    "# username tag: #id\n",
    "# password tag: #pw\n",
    "# submit button tag: div.bbs-member-btn-wp > input\n",
    "browser.get('https://www.jobplanet.co.kr/users/sign_in?_nav=gb')\n",
    "browser.find_element_by_css_selector('#user_email').send_keys('angelaforever122@gmail.com')\n",
    "browser.find_element_by_css_selector('#user_password').send_keys('***')\n",
    "browser.find_element_by_css_selector('fieldset > button').click()"
   ]
  }
 ],
 "metadata": {
  "kernelspec": {
   "display_name": "Python 3 (ipykernel)",
   "language": "python",
   "name": "python3"
  },
  "language_info": {
   "codemirror_mode": {
    "name": "ipython",
    "version": 3
   },
   "file_extension": ".py",
   "mimetype": "text/x-python",
   "name": "python",
   "nbconvert_exporter": "python",
   "pygments_lexer": "ipython3",
   "version": "3.11.3"
  }
 },
 "nbformat": 4,
 "nbformat_minor": 5
}
