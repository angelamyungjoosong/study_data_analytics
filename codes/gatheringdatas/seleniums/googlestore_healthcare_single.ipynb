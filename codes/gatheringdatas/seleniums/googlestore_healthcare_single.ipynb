{
 "cells": [
  {
   "cell_type": "code",
   "execution_count": 31,
   "id": "08b17640-e41b-4e6d-9d5e-b7814b1becb2",
   "metadata": {
    "tags": []
   },
   "outputs": [],
   "source": [
    "from selenium import webdriver"
   ]
  },
  {
   "cell_type": "code",
   "execution_count": 32,
   "id": "ade13be7-9cea-4132-9ecd-7fd1405ffab5",
   "metadata": {
    "tags": []
   },
   "outputs": [],
   "source": [
    "# open chrome browser\n",
    "# 하나의 브라우저\n",
    "browser = webdriver.Chrome(executable_path='../../../../chromedriver.exe')\n",
    "# 웹드라이버랑 연결해서 브라우저가 됨 "
   ]
  },
  {
   "cell_type": "code",
   "execution_count": 33,
   "id": "818c0827-82d1-4269-ab18-30d5433aed36",
   "metadata": {
    "tags": []
   },
   "outputs": [],
   "source": [
    "# url in address window\n",
    "browser.get('https://play.google.com/store/search?q=%ED%97%AC%EC%8A%A4%EC%BC%80%EC%96%B4%EC%95%B1&c=apps&hl=ko-KR')"
   ]
  },
  {
   "cell_type": "code",
   "execution_count": 34,
   "id": "110b3a1c-cfe5-4d48-ab93-1af2a434e1c2",
   "metadata": {
    "tags": []
   },
   "outputs": [],
   "source": [
    "browser.implicitly_wait(10)"
   ]
  },
  {
   "cell_type": "markdown",
   "id": "70729817-abe3-4876-a54b-62119c16867f",
   "metadata": {},
   "source": [
    "## 제품 클릭 \n",
    "- section > div > div > div > div:nth-child(2) > div > div > div"
   ]
  },
  {
   "cell_type": "code",
   "execution_count": 35,
   "id": "9e56eb93-2ee3-44dc-a7b8-370276d06b79",
   "metadata": {
    "tags": []
   },
   "outputs": [],
   "source": [
    "click_path ='section > div > div > div > div:nth-child(2) > div > div > div'\n",
    "browser.find_element_by_css_selector(click_path).click()"
   ]
  },
  {
   "cell_type": "markdown",
   "id": "925a4cf2-81be-4b85-8009-c8e7a36ebe77",
   "metadata": {},
   "source": [
    "## 제품 정보\n",
    "- 서비스명 tag: div > h1 > span\n",
    "- 만든 회사명 tag: div.Il7kR > div > div > div > a > span\n",
    "- 앱 정보 tag: div:nth-child(1) > c-wiz:nth-child(2) > div > section > div\n"
   ]
  },
  {
   "cell_type": "code",
   "execution_count": 36,
   "id": "e8b5257a-bc1e-4350-b642-ad6c2347fd58",
   "metadata": {
    "tags": []
   },
   "outputs": [
    {
     "data": {
      "text/plain": [
       "['NH헬스케어',\n",
       " 'NH농협생명',\n",
       " '한국인의 건강관리 NH 헬스케어!\\n\\n지인들과 재밌고 건강하게 즐기는 NH헬스케어만의 새로운 걷기 방법 – 걷기 배틀\\n걷기 목표 달성시 지급되는 포인트로 완성하는 온라인 텃밭 – 랜선 텃밭 가꾸기\\n\\n즐겁고 과학적인 당신만을 위한 건강 솔루션 NH 헬스케어!\\n업데이트 날짜\\n2023. 7. 21.\\n건강/운동']"
      ]
     },
     "execution_count": 36,
     "metadata": {},
     "output_type": "execute_result"
    }
   ],
   "source": [
    "service_name = browser.find_element_by_css_selector('div > h1 > span').text\n",
    "company_name = browser.find_element_by_css_selector('div.Il7kR > div > div > div > a > span').text\n",
    "app_information = browser.find_element_by_css_selector('div:nth-child(1) > c-wiz:nth-child(2) > div > section > div').text\n",
    "\n",
    "[service_name, company_name, app_information]"
   ]
  },
  {
   "cell_type": "code",
   "execution_count": 46,
   "id": "723e3c76-87f2-4fa8-a6c1-bbffcad1c8c9",
   "metadata": {
    "tags": []
   },
   "outputs": [
    {
     "data": {
      "text/plain": [
       "'리뷰 473개'"
      ]
     },
     "execution_count": 46,
     "metadata": {},
     "output_type": "execute_result"
    }
   ],
   "source": [
    "#### 리뷰 총 갯수 가져오기\n",
    "## 리뷰 총 개수 tag: div:nth-child(1) > div.g1rdde\n",
    "review_total_count_text = browser.find_element_by_css_selector('div:nth-child(1) > div.g1rdde').text\n",
    "review_total_count_text"
   ]
  },
  {
   "cell_type": "code",
   "execution_count": 48,
   "id": "218e1934-daa8-4bce-a6d1-3ac8a37adfb1",
   "metadata": {
    "tags": []
   },
   "outputs": [
    {
     "name": "stdout",
     "output_type": "stream",
     "text": [
      "473 473\n"
     ]
    },
    {
     "data": {
      "text/plain": [
       "(473, int)"
      ]
     },
     "execution_count": 48,
     "metadata": {},
     "output_type": "execute_result"
    }
   ],
   "source": [
    "import re #regular expression function\n",
    "result_list = re.findall(r'\\d+', review_total_count_text) \n",
    "print(result_list[0], int(result_list[0]))\n",
    "\n",
    "review_total_count = int(result_list[0])# 리뷰 총 갯수\n",
    "review_total_count, type(review_total_count)"
   ]
  },
  {
   "cell_type": "markdown",
   "id": "03eff2fc-cf1b-466b-9bde-0e7ff32eee26",
   "metadata": {},
   "source": [
    "### 리뷰 모두 보기 \n",
    "- click tag: div:nth-child(5) > div > div > button > span"
   ]
  },
  {
   "cell_type": "code",
   "execution_count": 37,
   "id": "dd26c914-49f5-4fb3-8c68-0a192ad691eb",
   "metadata": {
    "tags": []
   },
   "outputs": [],
   "source": [
    "import time \n",
    "time.sleep(2)"
   ]
  },
  {
   "cell_type": "code",
   "execution_count": 38,
   "id": "612cdd36-f8de-4e95-b52c-8bde777dbb8e",
   "metadata": {
    "tags": []
   },
   "outputs": [],
   "source": [
    "browser.find_element_by_xpath('//*/div/div/button/*[contains(text(), \"리뷰\")]').click()"
   ]
  },
  {
   "cell_type": "markdown",
   "id": "b6ade107-58c8-4a12-a1da-36db52cf1c57",
   "metadata": {},
   "source": [
    "### 리뷰 내용 가져오기\n",
    "- 리뷰 묶음 tag: div.fysCi > div > div:nth-child(2) > div\n",
    "- 리뷰 내용 tag: div.h3YV2d\n",
    "- 리뷰 날짜 tag: header > div.Jx4nYe > span\n",
    "- 별첨 tag: header > div.Jx4nYe > div\n",
    "- (특정 묶음 안이니까 공통 tag 사용)\n"
   ]
  },
  {
   "cell_type": "code",
   "execution_count": 39,
   "id": "ff1427da-ce24-496e-8915-a8f8927b6ab4",
   "metadata": {
    "tags": []
   },
   "outputs": [
    {
     "data": {
      "text/plain": [
       "40"
      ]
     },
     "execution_count": 39,
     "metadata": {},
     "output_type": "execute_result"
    }
   ],
   "source": [
    "reviews_bundle = browser.find_elements_by_css_selector('div.fysCi > div > div:nth-child(2) > div')\n",
    "len(reviews_bundle)"
   ]
  },
  {
   "cell_type": "code",
   "execution_count": 40,
   "id": "e8b33384-8420-470d-b800-293c2a96118c",
   "metadata": {
    "tags": []
   },
   "outputs": [],
   "source": [
    "content = reviews_bundle[0].find_element_by_css_selector('div.h3YV2d').text\n",
    "date = reviews_bundle[0].find_element_by_css_selector('header > div.Jx4nYe > span').text\n",
    "stars = reviews_bundle[0].find_element_by_css_selector('header > div.Jx4nYe > div').get_attribute('aria-label')"
   ]
  },
  {
   "cell_type": "code",
   "execution_count": 44,
   "id": "218d70b0-d247-4874-b04d-4c7a28e0190c",
   "metadata": {
    "tags": []
   },
   "outputs": [
    {
     "data": {
      "text/plain": [
       "['안녕하세요. 그동안 헬스케어 앱을 잘 사용중에 있었는데요, 그전에는 앱을 클릭하면 자동 로그인이되어 걸음수도 확인하고 포인트도 받고 그랬는데요. 오늘 갑자기 회원가입 및 로그인 화면이 뜨더니 로그인이 아예 안되면서 자꾸 에러가 나네요. 기존 회원인데, 새로 회원가입할수도 없구요ㅜㅜ 어떻게 해야하는지 알려주시면 감사하겠습니다.',\n",
       " '2023년 7월 21일',\n",
       " '별표 5개 만점에 4개를 받았습니다.']"
      ]
     },
     "execution_count": 44,
     "metadata": {},
     "output_type": "execute_result"
    }
   ],
   "source": [
    "[content, date, stars]"
   ]
  },
  {
   "cell_type": "markdown",
   "id": "340abca3-f93e-4bb6-90b4-79bb097135e7",
   "metadata": {},
   "source": [
    "### 추가 댓글 가져오기 (연습)\n",
    "- 마지막 내용을 클릭\n",
    "- 마지막 화면까지 스크롤링(우리는 이 방식을 채택) "
   ]
  },
  {
   "cell_type": "code",
   "execution_count": 45,
   "id": "5e24738c-456f-4abf-a5a5-7db28d2301e1",
   "metadata": {
    "collapsed": true,
    "jupyter": {
     "outputs_hidden": true
    },
    "tags": []
   },
   "outputs": [
    {
     "ename": "StaleElementReferenceException",
     "evalue": "Message: stale element reference: stale element not found\n  (Session info: chrome=116.0.5845.180)\n",
     "output_type": "error",
     "traceback": [
      "\u001b[1;31m---------------------------------------------------------------------------\u001b[0m",
      "\u001b[1;31mStaleElementReferenceException\u001b[0m            Traceback (most recent call last)",
      "Cell \u001b[1;32mIn[45], line 1\u001b[0m\n\u001b[1;32m----> 1\u001b[0m reviews_bundle[\u001b[38;5;241m39\u001b[39m]\u001b[38;5;241m.\u001b[39mclick()\n",
      "File \u001b[1;32m~\\anaconda3\\Lib\\site-packages\\selenium\\webdriver\\remote\\webelement.py:80\u001b[0m, in \u001b[0;36mWebElement.click\u001b[1;34m(self)\u001b[0m\n\u001b[0;32m     78\u001b[0m \u001b[38;5;28;01mdef\u001b[39;00m \u001b[38;5;21mclick\u001b[39m(\u001b[38;5;28mself\u001b[39m):\n\u001b[0;32m     79\u001b[0m \u001b[38;5;250m    \u001b[39m\u001b[38;5;124;03m\"\"\"Clicks the element.\"\"\"\u001b[39;00m\n\u001b[1;32m---> 80\u001b[0m     \u001b[38;5;28mself\u001b[39m\u001b[38;5;241m.\u001b[39m_execute(Command\u001b[38;5;241m.\u001b[39mCLICK_ELEMENT)\n",
      "File \u001b[1;32m~\\anaconda3\\Lib\\site-packages\\selenium\\webdriver\\remote\\webelement.py:633\u001b[0m, in \u001b[0;36mWebElement._execute\u001b[1;34m(self, command, params)\u001b[0m\n\u001b[0;32m    631\u001b[0m     params \u001b[38;5;241m=\u001b[39m {}\n\u001b[0;32m    632\u001b[0m params[\u001b[38;5;124m'\u001b[39m\u001b[38;5;124mid\u001b[39m\u001b[38;5;124m'\u001b[39m] \u001b[38;5;241m=\u001b[39m \u001b[38;5;28mself\u001b[39m\u001b[38;5;241m.\u001b[39m_id\n\u001b[1;32m--> 633\u001b[0m \u001b[38;5;28;01mreturn\u001b[39;00m \u001b[38;5;28mself\u001b[39m\u001b[38;5;241m.\u001b[39m_parent\u001b[38;5;241m.\u001b[39mexecute(command, params)\n",
      "File \u001b[1;32m~\\anaconda3\\Lib\\site-packages\\selenium\\webdriver\\remote\\webdriver.py:321\u001b[0m, in \u001b[0;36mWebDriver.execute\u001b[1;34m(self, driver_command, params)\u001b[0m\n\u001b[0;32m    319\u001b[0m response \u001b[38;5;241m=\u001b[39m \u001b[38;5;28mself\u001b[39m\u001b[38;5;241m.\u001b[39mcommand_executor\u001b[38;5;241m.\u001b[39mexecute(driver_command, params)\n\u001b[0;32m    320\u001b[0m \u001b[38;5;28;01mif\u001b[39;00m response:\n\u001b[1;32m--> 321\u001b[0m     \u001b[38;5;28mself\u001b[39m\u001b[38;5;241m.\u001b[39merror_handler\u001b[38;5;241m.\u001b[39mcheck_response(response)\n\u001b[0;32m    322\u001b[0m     response[\u001b[38;5;124m'\u001b[39m\u001b[38;5;124mvalue\u001b[39m\u001b[38;5;124m'\u001b[39m] \u001b[38;5;241m=\u001b[39m \u001b[38;5;28mself\u001b[39m\u001b[38;5;241m.\u001b[39m_unwrap_value(\n\u001b[0;32m    323\u001b[0m         response\u001b[38;5;241m.\u001b[39mget(\u001b[38;5;124m'\u001b[39m\u001b[38;5;124mvalue\u001b[39m\u001b[38;5;124m'\u001b[39m, \u001b[38;5;28;01mNone\u001b[39;00m))\n\u001b[0;32m    324\u001b[0m     \u001b[38;5;28;01mreturn\u001b[39;00m response\n",
      "File \u001b[1;32m~\\anaconda3\\Lib\\site-packages\\selenium\\webdriver\\remote\\errorhandler.py:242\u001b[0m, in \u001b[0;36mErrorHandler.check_response\u001b[1;34m(self, response)\u001b[0m\n\u001b[0;32m    240\u001b[0m         alert_text \u001b[38;5;241m=\u001b[39m value[\u001b[38;5;124m'\u001b[39m\u001b[38;5;124malert\u001b[39m\u001b[38;5;124m'\u001b[39m]\u001b[38;5;241m.\u001b[39mget(\u001b[38;5;124m'\u001b[39m\u001b[38;5;124mtext\u001b[39m\u001b[38;5;124m'\u001b[39m)\n\u001b[0;32m    241\u001b[0m     \u001b[38;5;28;01mraise\u001b[39;00m exception_class(message, screen, stacktrace, alert_text)\n\u001b[1;32m--> 242\u001b[0m \u001b[38;5;28;01mraise\u001b[39;00m exception_class(message, screen, stacktrace)\n",
      "\u001b[1;31mStaleElementReferenceException\u001b[0m: Message: stale element reference: stale element not found\n  (Session info: chrome=116.0.5845.180)\n"
     ]
    }
   ],
   "source": [
    "reviews_bundle[39].click()\n",
    "#40번째 댓글 내용 클릭 "
   ]
  },
  {
   "cell_type": "code",
   "execution_count": 42,
   "id": "4d80712b-c4b8-4a50-a3a5-d8113bca0b94",
   "metadata": {
    "tags": []
   },
   "outputs": [
    {
     "data": {
      "text/plain": [
       "80"
      ]
     },
     "execution_count": 42,
     "metadata": {},
     "output_type": "execute_result"
    }
   ],
   "source": [
    "reviews_bundle = browser.find_elements_by_css_selector('div.fysCi > div > div:nth-child(2) > div')\n",
    "len(reviews_bundle)"
   ]
  },
  {
   "cell_type": "code",
   "execution_count": 43,
   "id": "3f866a93-6f6a-4ece-99fb-2b7492b24c6a",
   "metadata": {
    "tags": []
   },
   "outputs": [
    {
     "data": {
      "text/plain": [
       "[<selenium.webdriver.remote.webelement.WebElement (session=\"618207aa3df8f16229ed25c7515f33cd\", element=\"6251F4D8E6384A53ABDB62388F6218EB_element_93\")>,\n",
       " <selenium.webdriver.remote.webelement.WebElement (session=\"618207aa3df8f16229ed25c7515f33cd\", element=\"6251F4D8E6384A53ABDB62388F6218EB_element_94\")>,\n",
       " <selenium.webdriver.remote.webelement.WebElement (session=\"618207aa3df8f16229ed25c7515f33cd\", element=\"6251F4D8E6384A53ABDB62388F6218EB_element_95\")>,\n",
       " <selenium.webdriver.remote.webelement.WebElement (session=\"618207aa3df8f16229ed25c7515f33cd\", element=\"6251F4D8E6384A53ABDB62388F6218EB_element_96\")>,\n",
       " <selenium.webdriver.remote.webelement.WebElement (session=\"618207aa3df8f16229ed25c7515f33cd\", element=\"6251F4D8E6384A53ABDB62388F6218EB_element_97\")>,\n",
       " <selenium.webdriver.remote.webelement.WebElement (session=\"618207aa3df8f16229ed25c7515f33cd\", element=\"6251F4D8E6384A53ABDB62388F6218EB_element_98\")>,\n",
       " <selenium.webdriver.remote.webelement.WebElement (session=\"618207aa3df8f16229ed25c7515f33cd\", element=\"6251F4D8E6384A53ABDB62388F6218EB_element_99\")>,\n",
       " <selenium.webdriver.remote.webelement.WebElement (session=\"618207aa3df8f16229ed25c7515f33cd\", element=\"6251F4D8E6384A53ABDB62388F6218EB_element_100\")>,\n",
       " <selenium.webdriver.remote.webelement.WebElement (session=\"618207aa3df8f16229ed25c7515f33cd\", element=\"6251F4D8E6384A53ABDB62388F6218EB_element_101\")>,\n",
       " <selenium.webdriver.remote.webelement.WebElement (session=\"618207aa3df8f16229ed25c7515f33cd\", element=\"6251F4D8E6384A53ABDB62388F6218EB_element_102\")>,\n",
       " <selenium.webdriver.remote.webelement.WebElement (session=\"618207aa3df8f16229ed25c7515f33cd\", element=\"6251F4D8E6384A53ABDB62388F6218EB_element_103\")>,\n",
       " <selenium.webdriver.remote.webelement.WebElement (session=\"618207aa3df8f16229ed25c7515f33cd\", element=\"6251F4D8E6384A53ABDB62388F6218EB_element_104\")>,\n",
       " <selenium.webdriver.remote.webelement.WebElement (session=\"618207aa3df8f16229ed25c7515f33cd\", element=\"6251F4D8E6384A53ABDB62388F6218EB_element_105\")>,\n",
       " <selenium.webdriver.remote.webelement.WebElement (session=\"618207aa3df8f16229ed25c7515f33cd\", element=\"6251F4D8E6384A53ABDB62388F6218EB_element_106\")>,\n",
       " <selenium.webdriver.remote.webelement.WebElement (session=\"618207aa3df8f16229ed25c7515f33cd\", element=\"6251F4D8E6384A53ABDB62388F6218EB_element_107\")>,\n",
       " <selenium.webdriver.remote.webelement.WebElement (session=\"618207aa3df8f16229ed25c7515f33cd\", element=\"6251F4D8E6384A53ABDB62388F6218EB_element_108\")>,\n",
       " <selenium.webdriver.remote.webelement.WebElement (session=\"618207aa3df8f16229ed25c7515f33cd\", element=\"6251F4D8E6384A53ABDB62388F6218EB_element_109\")>,\n",
       " <selenium.webdriver.remote.webelement.WebElement (session=\"618207aa3df8f16229ed25c7515f33cd\", element=\"6251F4D8E6384A53ABDB62388F6218EB_element_110\")>,\n",
       " <selenium.webdriver.remote.webelement.WebElement (session=\"618207aa3df8f16229ed25c7515f33cd\", element=\"6251F4D8E6384A53ABDB62388F6218EB_element_111\")>,\n",
       " <selenium.webdriver.remote.webelement.WebElement (session=\"618207aa3df8f16229ed25c7515f33cd\", element=\"6251F4D8E6384A53ABDB62388F6218EB_element_112\")>,\n",
       " <selenium.webdriver.remote.webelement.WebElement (session=\"618207aa3df8f16229ed25c7515f33cd\", element=\"6251F4D8E6384A53ABDB62388F6218EB_element_113\")>,\n",
       " <selenium.webdriver.remote.webelement.WebElement (session=\"618207aa3df8f16229ed25c7515f33cd\", element=\"6251F4D8E6384A53ABDB62388F6218EB_element_114\")>,\n",
       " <selenium.webdriver.remote.webelement.WebElement (session=\"618207aa3df8f16229ed25c7515f33cd\", element=\"6251F4D8E6384A53ABDB62388F6218EB_element_115\")>,\n",
       " <selenium.webdriver.remote.webelement.WebElement (session=\"618207aa3df8f16229ed25c7515f33cd\", element=\"6251F4D8E6384A53ABDB62388F6218EB_element_116\")>,\n",
       " <selenium.webdriver.remote.webelement.WebElement (session=\"618207aa3df8f16229ed25c7515f33cd\", element=\"6251F4D8E6384A53ABDB62388F6218EB_element_117\")>,\n",
       " <selenium.webdriver.remote.webelement.WebElement (session=\"618207aa3df8f16229ed25c7515f33cd\", element=\"6251F4D8E6384A53ABDB62388F6218EB_element_118\")>,\n",
       " <selenium.webdriver.remote.webelement.WebElement (session=\"618207aa3df8f16229ed25c7515f33cd\", element=\"6251F4D8E6384A53ABDB62388F6218EB_element_119\")>,\n",
       " <selenium.webdriver.remote.webelement.WebElement (session=\"618207aa3df8f16229ed25c7515f33cd\", element=\"6251F4D8E6384A53ABDB62388F6218EB_element_120\")>,\n",
       " <selenium.webdriver.remote.webelement.WebElement (session=\"618207aa3df8f16229ed25c7515f33cd\", element=\"6251F4D8E6384A53ABDB62388F6218EB_element_121\")>,\n",
       " <selenium.webdriver.remote.webelement.WebElement (session=\"618207aa3df8f16229ed25c7515f33cd\", element=\"6251F4D8E6384A53ABDB62388F6218EB_element_122\")>,\n",
       " <selenium.webdriver.remote.webelement.WebElement (session=\"618207aa3df8f16229ed25c7515f33cd\", element=\"6251F4D8E6384A53ABDB62388F6218EB_element_123\")>,\n",
       " <selenium.webdriver.remote.webelement.WebElement (session=\"618207aa3df8f16229ed25c7515f33cd\", element=\"6251F4D8E6384A53ABDB62388F6218EB_element_124\")>,\n",
       " <selenium.webdriver.remote.webelement.WebElement (session=\"618207aa3df8f16229ed25c7515f33cd\", element=\"6251F4D8E6384A53ABDB62388F6218EB_element_125\")>,\n",
       " <selenium.webdriver.remote.webelement.WebElement (session=\"618207aa3df8f16229ed25c7515f33cd\", element=\"6251F4D8E6384A53ABDB62388F6218EB_element_126\")>,\n",
       " <selenium.webdriver.remote.webelement.WebElement (session=\"618207aa3df8f16229ed25c7515f33cd\", element=\"6251F4D8E6384A53ABDB62388F6218EB_element_127\")>,\n",
       " <selenium.webdriver.remote.webelement.WebElement (session=\"618207aa3df8f16229ed25c7515f33cd\", element=\"6251F4D8E6384A53ABDB62388F6218EB_element_128\")>,\n",
       " <selenium.webdriver.remote.webelement.WebElement (session=\"618207aa3df8f16229ed25c7515f33cd\", element=\"6251F4D8E6384A53ABDB62388F6218EB_element_129\")>,\n",
       " <selenium.webdriver.remote.webelement.WebElement (session=\"618207aa3df8f16229ed25c7515f33cd\", element=\"6251F4D8E6384A53ABDB62388F6218EB_element_130\")>,\n",
       " <selenium.webdriver.remote.webelement.WebElement (session=\"618207aa3df8f16229ed25c7515f33cd\", element=\"6251F4D8E6384A53ABDB62388F6218EB_element_131\")>,\n",
       " <selenium.webdriver.remote.webelement.WebElement (session=\"618207aa3df8f16229ed25c7515f33cd\", element=\"6251F4D8E6384A53ABDB62388F6218EB_element_132\")>]"
      ]
     },
     "execution_count": 43,
     "metadata": {},
     "output_type": "execute_result"
    }
   ],
   "source": [
    "reviews_bundle[40:]\n",
    "#슬라이싱 사용 "
   ]
  },
  {
   "cell_type": "markdown",
   "id": "c2abbd02-28b9-4172-bc42-4559382fa75f",
   "metadata": {},
   "source": [
    "### 클릭 갯수\n",
    "- 클릭 여부의 기준이 1,2,3,...\n",
    "- 1 이하는 클릭 X "
   ]
  },
  {
   "cell_type": "code",
   "execution_count": 4,
   "id": "dbb02c77-dfa5-47a0-b360-141789046c1a",
   "metadata": {
    "tags": []
   },
   "outputs": [
    {
     "data": {
      "text/plain": [
       "(0.5, 0.975, 1.0, 1.125, 2.0, 2.225, 2.9, 3.025, 11.875)"
      ]
     },
     "execution_count": 4,
     "metadata": {},
     "output_type": "execute_result"
    }
   ],
   "source": [
    "# review_total_count / review_standard_count_per\n",
    "20 / 40, 39 / 40, 40 / 40, 45 / 40, 80 / 40, 89 / 40, 116 / 40, 121 / 40, 475/40"
   ]
  },
  {
   "cell_type": "markdown",
   "id": "451463ca-f239-4cb2-baa6-964168f155b9",
   "metadata": {},
   "source": [
    "### 추가 댓글 모두 가져오기 "
   ]
  },
  {
   "cell_type": "code",
   "execution_count": 7,
   "id": "0f0ada1f-4af4-4c8d-825b-845ea7257b15",
   "metadata": {
    "tags": []
   },
   "outputs": [
    {
     "data": {
      "text/plain": [
       "([1], [1, 2, 3])"
      ]
     },
     "execution_count": 7,
     "metadata": {},
     "output_type": "execute_result"
    }
   ],
   "source": [
    "list(range(1,2)), list(range(1,4))\n",
    "#range +1 해줘야 함. 1번 돌려면 1,2\n",
    "#loop_count_int+1"
   ]
  },
  {
   "cell_type": "code",
   "execution_count": 29,
   "id": "bf05c3de-8074-4a22-9d60-2b7120f28f95",
   "metadata": {
    "tags": []
   },
   "outputs": [
    {
     "name": "stdout",
     "output_type": "stream",
     "text": [
      "current reviews_bundle count : 0\n",
      "pass\n",
      "current reviews_bundle count : 0\n",
      "pass\n",
      "current reviews_bundle count : 0\n",
      "pass\n",
      "current reviews_bundle count : 0\n",
      "pass\n",
      "current reviews_bundle count : 0\n",
      "pass\n",
      "current reviews_bundle count : 0\n",
      "pass\n",
      "current reviews_bundle count : 0\n",
      "pass\n",
      "current reviews_bundle count : 0\n",
      "pass\n",
      "current reviews_bundle count : 0\n",
      "pass\n",
      "current reviews_bundle count : 0\n",
      "pass\n",
      "current reviews_bundle count : 0\n",
      "pass\n",
      "Done 0\n"
     ]
    }
   ],
   "source": [
    "review_total_count = 473  # 리뷰 총 갯수\n",
    "review_standard_count_per = 40\n",
    "click_count = 0\n",
    "\n",
    "loop_count_int = int(review_total_count / review_standard_count_per)\n",
    "for count in range(1, loop_count_int+1) :\n",
    "    try :\n",
    "        reviews_bundle = browser.find_elements_by_css_selector('div.fysCi > div > div:nth-child(2) > div')\n",
    "        print('current reviews_bundle count : {}'.format(len(reviews_bundle)))\n",
    "        reviews_bundle[len(reviews_bundle)-1].click()\n",
    "        time.sleep(3)\n",
    "    except :\n",
    "        print('pass')\n",
    "        pass\n",
    "print('Done', len(reviews_bundle))\n",
    "\n",
    "\n",
    "# review_total_count=473  #리뷰 총 갯수 #특정 페이지 기준 \n",
    "# review_standard_count_per=40\n",
    "\n",
    "# loop_count_float = review_total_count / review_standard_count_per\n",
    "# if (loop_count_float > 1.0) :  #리스트 슬라이스 사용 위해서 int 필요 \n",
    "#     loop_count_int = int(loop_count_float)\n",
    "#     for count in range(1, loop_count_int+1) :\n",
    "#         print('count: {}, click_count: {}'.format(count, click_count))\n",
    "#         click_count = count * review_standard_count_per\n",
    "#         reviews_bundle = browser.find_elements_by_css_selector('div.fysCi > div > div:nth-child(2) > div')\n",
    "#         time.sleep(5)\n",
    "#         reviews_bundle[click_count-1].click()\n",
    "#         print('reviews_bundle count: {}'.format( len(reviews_bundle)))\n",
    "#         pass\n",
    "    \n",
    "# review_total_count = 473\n",
    "# review_standard_count_per = 40\n",
    "# click_count = 0\n",
    "\n",
    "# loop_count_float = review_total_count / review_standard_count_per\n",
    "# if (loop_count_float > 1.0) :\n",
    "#     loop_count_int = int(loop_count_float)\n",
    "#     for count in range(1, loop_count_int+1) :\n",
    "#         print('count : {}, click_count : {}'.format(count, click_count))\n",
    "#         click_count = count * review_standard_count_per\n",
    "#         reviews_bundle = browser.find_elements_by_css_selector('div.fysCi > div > div:nth-child(2) > div')\n",
    "#         time.sleep(7)\n",
    "#         reviews_bundle[click_count - 1].click()\n",
    "#         print('reviews_bundle count : {}'.format(len(reviews_bundle)))\n",
    "#         pass"
   ]
  },
  {
   "cell_type": "code",
   "execution_count": 30,
   "id": "1ad3192e-7345-4c30-ba0b-48978bf4ed0c",
   "metadata": {
    "tags": []
   },
   "outputs": [
    {
     "name": "stdout",
     "output_type": "stream",
     "text": [
      "reviews_bundle count: 0\n"
     ]
    },
    {
     "ename": "IndexError",
     "evalue": "list index out of range",
     "output_type": "error",
     "traceback": [
      "\u001b[1;31m---------------------------------------------------------------------------\u001b[0m",
      "\u001b[1;31mIndexError\u001b[0m                                Traceback (most recent call last)",
      "Cell \u001b[1;32mIn[30], line 3\u001b[0m\n\u001b[0;32m      1\u001b[0m reviews_bundle_list \u001b[38;5;241m=\u001b[39m browser\u001b[38;5;241m.\u001b[39mfind_elements_by_css_selector(\u001b[38;5;124m'\u001b[39m\u001b[38;5;124mdiv.fysCi > div > div:nth-child(2) > div\u001b[39m\u001b[38;5;124m'\u001b[39m)\n\u001b[0;32m      2\u001b[0m \u001b[38;5;28mprint\u001b[39m(\u001b[38;5;124m'\u001b[39m\u001b[38;5;124mreviews_bundle count: \u001b[39m\u001b[38;5;132;01m{}\u001b[39;00m\u001b[38;5;124m'\u001b[39m\u001b[38;5;241m.\u001b[39mformat( \u001b[38;5;28mlen\u001b[39m(reviews_bundle)))\n\u001b[1;32m----> 3\u001b[0m reviews_bundle[click_count\u001b[38;5;241m-\u001b[39m\u001b[38;5;241m1\u001b[39m]\u001b[38;5;241m.\u001b[39mclick()\n",
      "\u001b[1;31mIndexError\u001b[0m: list index out of range"
     ]
    }
   ],
   "source": [
    "reviews_bundle_list = browser.find_elements_by_css_selector('div.fysCi > div > div:nth-child(2) > div')\n",
    "print('reviews_bundle count: {}'.format( len(reviews_bundle)))\n",
    "reviews_bundle[click_count-1].click()"
   ]
  },
  {
   "cell_type": "code",
   "execution_count": 83,
   "id": "64fe3d92-6077-471d-aa71-4895ac85a170",
   "metadata": {
    "tags": []
   },
   "outputs": [
    {
     "data": {
      "text/plain": [
       "40"
      ]
     },
     "execution_count": 83,
     "metadata": {},
     "output_type": "execute_result"
    }
   ],
   "source": [
    "# reviews_bundle_list = browser.find_elements_by_css_selector('div.fysCi > div > div:nth-child(2) > div')\n",
    "# reviews_bundle_list_count = len(reviews_bundle_list)\n",
    "# len(reviews_bundle_list)"
   ]
  },
  {
   "cell_type": "code",
   "execution_count": 1,
   "id": "8eb8166f-c786-4e4f-a081-61e67395ff2d",
   "metadata": {
    "collapsed": true,
    "jupyter": {
     "outputs_hidden": true
    },
    "tags": []
   },
   "outputs": [
    {
     "ename": "NameError",
     "evalue": "name 'reviews_bundle_list' is not defined",
     "output_type": "error",
     "traceback": [
      "\u001b[1;31m---------------------------------------------------------------------------\u001b[0m",
      "\u001b[1;31mNameError\u001b[0m                                 Traceback (most recent call last)",
      "Cell \u001b[1;32mIn[1], line 2\u001b[0m\n\u001b[0;32m      1\u001b[0m reviews_loop_standard_count\u001b[38;5;241m=\u001b[39m \u001b[38;5;241m40\u001b[39m\n\u001b[1;32m----> 2\u001b[0m \u001b[38;5;28;01mwhile\u001b[39;00m(reviews_bundle_list \u001b[38;5;241m>\u001b[39m\u001b[38;5;241m=\u001b[39m reviews_loop_standard_count): \u001b[38;5;66;03m#멈추는 조건(while문 들어가는 여부)\u001b[39;00m\n\u001b[0;32m      3\u001b[0m     \u001b[38;5;28mprint\u001b[39m(reviews_bundle_list \u001b[38;5;241m>\u001b[39m\u001b[38;5;241m=\u001b[39m reviews_loop_standard)\n\u001b[0;32m      4\u001b[0m     \u001b[38;5;28;01mpass\u001b[39;00m\n",
      "\u001b[1;31mNameError\u001b[0m: name 'reviews_bundle_list' is not defined"
     ]
    }
   ],
   "source": [
    "# reviews_loop_standard_count= 40\n",
    "# while(reviews_bundle_list >= reviews_loop_standard_count): #멈추는 조건(while문 들어가는 여부)\n",
    "#     print(reviews_bundle_list >= reviews_loop_standard)\n",
    "#     pass\n",
    "# print('Done')"
   ]
  },
  {
   "cell_type": "code",
   "execution_count": null,
   "id": "aaea0bda-0b37-4fb5-ad33-b540cf5981f1",
   "metadata": {},
   "outputs": [],
   "source": []
  }
 ],
 "metadata": {
  "kernelspec": {
   "display_name": "Python 3 (ipykernel)",
   "language": "python",
   "name": "python3"
  },
  "language_info": {
   "codemirror_mode": {
    "name": "ipython",
    "version": 3
   },
   "file_extension": ".py",
   "mimetype": "text/x-python",
   "name": "python",
   "nbconvert_exporter": "python",
   "pygments_lexer": "ipython3",
   "version": "3.11.3"
  }
 },
 "nbformat": 4,
 "nbformat_minor": 5
}
