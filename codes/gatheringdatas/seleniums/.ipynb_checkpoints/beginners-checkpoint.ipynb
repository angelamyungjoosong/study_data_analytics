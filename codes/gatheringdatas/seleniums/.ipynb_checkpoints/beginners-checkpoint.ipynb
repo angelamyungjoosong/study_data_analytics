{
 "cells": [
  {
   "cell_type": "code",
   "execution_count": 19,
   "id": "0dd896e5-7b15-4ecf-9679-b4a8f804cf8c",
   "metadata": {
    "tags": []
   },
   "outputs": [],
   "source": [
    "from selenium import webdriver"
   ]
  },
  {
   "cell_type": "code",
   "execution_count": 20,
   "id": "d2ac4265-90d6-4b97-a0e9-a10ef2b17503",
   "metadata": {
    "tags": []
   },
   "outputs": [],
   "source": [
    "# open chrome browser\n",
    "# 하나의 브라우저\n",
    "browser = webdriver.Chrome(executable_path='../../../../chromedriver.exe')\n",
    "# 웹드라이버랑 연결해서 브라우저가 됨 "
   ]
  },
  {
   "cell_type": "code",
   "execution_count": 21,
   "id": "ae89fea9-2056-496d-975d-7715ea212783",
   "metadata": {
    "tags": []
   },
   "outputs": [],
   "source": [
    "# url in address window\n",
    "browser.get('https://www.w3schools.com/')"
   ]
  },
  {
   "cell_type": "code",
   "execution_count": 15,
   "id": "c40ad509-b36d-49c3-8c89-d1c794dc56af",
   "metadata": {
    "tags": []
   },
   "outputs": [],
   "source": [
    "browser.quit()"
   ]
  },
  {
   "cell_type": "code",
   "execution_count": null,
   "id": "9a4732d0-f8e1-47dc-a7ae-0cd0b2107d9f",
   "metadata": {},
   "outputs": [],
   "source": []
  }
 ],
 "metadata": {
  "kernelspec": {
   "display_name": "Python 3 (ipykernel)",
   "language": "python",
   "name": "python3"
  },
  "language_info": {
   "codemirror_mode": {
    "name": "ipython",
    "version": 3
   },
   "file_extension": ".py",
   "mimetype": "text/x-python",
   "name": "python",
   "nbconvert_exporter": "python",
   "pygments_lexer": "ipython3",
   "version": "3.11.3"
  }
 },
 "nbformat": 4,
 "nbformat_minor": 5
}
