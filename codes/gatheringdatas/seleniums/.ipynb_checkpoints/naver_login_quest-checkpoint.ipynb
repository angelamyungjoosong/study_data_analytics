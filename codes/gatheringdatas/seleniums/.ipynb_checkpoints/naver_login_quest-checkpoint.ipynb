{
 "cells": [
  {
   "cell_type": "markdown",
   "id": "444730ab-3735-4912-a9e6-5b289a8586c1",
   "metadata": {},
   "source": [
    "#### Naver Login"
   ]
  },
  {
   "cell_type": "code",
   "execution_count": 18,
   "id": "dd4ecf5e-01f5-4083-9c26-062b569a5673",
   "metadata": {
    "tags": []
   },
   "outputs": [],
   "source": [
    "from selenium import webdriver\n",
    "browser = webdriver.Chrome(executable_path='../../../../chromedriver.exe')\n",
    "browser.get('https://www.naver.com/')"
   ]
  },
  {
   "cell_type": "code",
   "execution_count": 19,
   "id": "f9c204bd-2aad-4988-8e17-3664553146c6",
   "metadata": {
    "tags": []
   },
   "outputs": [
    {
     "data": {
      "text/plain": [
       "selenium.webdriver.chrome.webdriver.WebDriver"
      ]
     },
     "execution_count": 19,
     "metadata": {},
     "output_type": "execute_result"
    }
   ],
   "source": [
    "type(browser)"
   ]
  },
  {
   "cell_type": "markdown",
   "id": "cd7e4c01-80bf-41a5-86fb-aa62231a9deb",
   "metadata": {},
   "source": [
    "### Login 화면 링크 tag\n",
    "- click tag: #account > div > a"
   ]
  },
  {
   "cell_type": "code",
   "execution_count": 20,
   "id": "cadafcc0-b6c7-49dd-ab98-e9088b8364f5",
   "metadata": {
    "tags": []
   },
   "outputs": [],
   "source": [
    "element_path = '#account > div > a'\n",
    "sign_in = browser.find_element_by_css_selector(element_path)\n",
    "sign_in.click()"
   ]
  },
  {
   "cell_type": "markdown",
   "id": "6d6f2502-d1a5-4c22-ad68-14806e63d226",
   "metadata": {},
   "source": [
    "### Login 화면\n",
    "- user id input tag: #id\n",
    "- password input tag: #pw\n",
    "- click tag: #log\\.login"
   ]
  },
  {
   "cell_type": "code",
   "execution_count": 24,
   "id": "380bcbe7-eab1-4133-9daa-91c50eaacc87",
   "metadata": {
    "tags": []
   },
   "outputs": [],
   "source": [
    "element_path = '#id'\n",
    "id_field = browser.find_element_by_css_selector(element_path)\n",
    "id_field.send_keys('songmom3454')"
   ]
  },
  {
   "cell_type": "code",
   "execution_count": 25,
   "id": "2c029100-e50e-4c1f-92f9-c1003156269e",
   "metadata": {
    "tags": []
   },
   "outputs": [],
   "source": [
    "element_path = '#pw'\n",
    "password_field = browser.find_element_by_css_selector(element_path)\n",
    "password_field.send_keys('***')"
   ]
  },
  {
   "cell_type": "code",
   "execution_count": 26,
   "id": "959a9775-0a18-4dad-ba0d-c53bd4220c84",
   "metadata": {
    "tags": []
   },
   "outputs": [],
   "source": [
    "element_path = '#log\\.login'\n",
    "signin_button = browser.find_element_by_css_selector(element_path)\n",
    "signin_button.click()"
   ]
  },
  {
   "cell_type": "markdown",
   "id": "a7621f71-998d-4457-8259-cd89856e5778",
   "metadata": {},
   "source": [
    "### 메일 버튼 클릭\n",
    "-mail button tag: #shortcutArea > ul > li:nth-child(1) > a > span.service_icon.type_mail"
   ]
  },
  {
   "cell_type": "code",
   "execution_count": null,
   "id": "33822a63-872d-467f-bdc7-bfea931dadde",
   "metadata": {
    "tags": []
   },
   "outputs": [],
   "source": [
    "element_path ='#shortcutArea > ul > li:nth-child(1) > a > span.service_icon.type_mail'\n",
    "mail_button = browser.find_element_by_css_selector(element_path)\n",
    "mail_button.click()"
   ]
  }
 ],
 "metadata": {
  "kernelspec": {
   "display_name": "Python 3 (ipykernel)",
   "language": "python",
   "name": "python3"
  },
  "language_info": {
   "codemirror_mode": {
    "name": "ipython",
    "version": 3
   },
   "file_extension": ".py",
   "mimetype": "text/x-python",
   "name": "python",
   "nbconvert_exporter": "python",
   "pygments_lexer": "ipython3",
   "version": "3.11.3"
  }
 },
 "nbformat": 4,
 "nbformat_minor": 5
}
