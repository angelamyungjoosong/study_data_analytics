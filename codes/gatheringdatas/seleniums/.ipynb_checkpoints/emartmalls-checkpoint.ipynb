{
 "cells": [
  {
   "cell_type": "code",
   "execution_count": 18,
   "id": "0dd896e5-7b15-4ecf-9679-b4a8f804cf8c",
   "metadata": {
    "tags": []
   },
   "outputs": [],
   "source": [
    "from selenium import webdriver"
   ]
  },
  {
   "cell_type": "code",
   "execution_count": 19,
   "id": "d2ac4265-90d6-4b97-a0e9-a10ef2b17503",
   "metadata": {
    "tags": []
   },
   "outputs": [],
   "source": [
    "# open chrome browser\n",
    "# 하나의 브라우저\n",
    "browser = webdriver.Chrome(executable_path='../../../../chromedriver.exe')\n",
    "# 웹드라이버랑 연결해서 브라우저가 됨 "
   ]
  },
  {
   "cell_type": "code",
   "execution_count": 20,
   "id": "ae89fea9-2056-496d-975d-7715ea212783",
   "metadata": {
    "tags": []
   },
   "outputs": [],
   "source": [
    "# url in address window\n",
    "browser.get('https://emart.ssg.com/disp/category.ssg?dispCtgId=6000214033')\n",
    "# browser에 담겨진 상태 "
   ]
  },
  {
   "cell_type": "markdown",
   "id": "b96bbb2c-5d69-4f44-a224-3a266cbcf6e4",
   "metadata": {},
   "source": [
    "### 하나의 element 가져오기 "
   ]
  },
  {
   "cell_type": "code",
   "execution_count": 25,
   "id": "6a7eb550-a6ad-4b85-b0e4-321c9fdb0f1d",
   "metadata": {
    "tags": []
   },
   "outputs": [
    {
     "data": {
      "text/plain": [
       "selenium.webdriver.remote.webelement.WebElement"
      ]
     },
     "execution_count": 25,
     "metadata": {},
     "output_type": "execute_result"
    }
   ],
   "source": [
    "# 해당 웹사이트에서 copy selector \n",
    "element_path = '#swiper-wrapper-bff2e3a575c9ed63 > li.mnemitem_grid_item.swiper-slide.swiper-slide-active > div > div > div.mnemitem_detailbx > div.mnemitem_tx_thmb > a > div.mnemitem_tit > span.mnemitem_goods_tit'\n",
    "element = browser.find_element_by_css_selector(element_path) #단수 찾기\n",
    "type(element) \n",
    "# <span class=\"mnemitem_goods_tit\">몰리스 쉬야응가 1회용 패드 L 50매</span>\n",
    "# 태그에 담긴 하나의 클래스 selenium.webdriver.remote.webelement.WebElement"
   ]
  },
  {
   "cell_type": "code",
   "execution_count": 22,
   "id": "cd3db212-f50b-4f16-8593-6fa2a1d7285d",
   "metadata": {
    "tags": []
   },
   "outputs": [
    {
     "data": {
      "text/plain": [
       "'몰리스 쉬야응가 1회용 패드 L 50매'"
      ]
     },
     "execution_count": 22,
     "metadata": {},
     "output_type": "execute_result"
    }
   ],
   "source": [
    "element.text\n",
    "#글자 가져오기"
   ]
  },
  {
   "cell_type": "code",
   "execution_count": 23,
   "id": "f5d45588-f107-47ed-ae70-ec07b30598da",
   "metadata": {
    "tags": []
   },
   "outputs": [
    {
     "data": {
      "text/plain": [
       "'mnemitem_goods_tit'"
      ]
     },
     "execution_count": 23,
     "metadata": {},
     "output_type": "execute_result"
    }
   ],
   "source": [
    "#테그의 class 이름 가져오기\n",
    "element.get_attribute('class')"
   ]
  },
  {
   "cell_type": "code",
   "execution_count": null,
   "id": "cb908982-98eb-4e06-878e-583d3400e3c1",
   "metadata": {},
   "outputs": [],
   "source": [
    "#.mnemitem_goods_tit"
   ]
  },
  {
   "cell_type": "code",
   "execution_count": 15,
   "id": "c40ad509-b36d-49c3-8c89-d1c794dc56af",
   "metadata": {
    "tags": []
   },
   "outputs": [],
   "source": [
    "browser.quit()"
   ]
  }
 ],
 "metadata": {
  "kernelspec": {
   "display_name": "Python 3 (ipykernel)",
   "language": "python",
   "name": "python3"
  },
  "language_info": {
   "codemirror_mode": {
    "name": "ipython",
    "version": 3
   },
   "file_extension": ".py",
   "mimetype": "text/x-python",
   "name": "python",
   "nbconvert_exporter": "python",
   "pygments_lexer": "ipython3",
   "version": "3.11.3"
  }
 },
 "nbformat": 4,
 "nbformat_minor": 5
}
