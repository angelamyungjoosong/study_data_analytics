{
 "cells": [
  {
   "cell_type": "code",
   "execution_count": 4,
   "id": "0dd896e5-7b15-4ecf-9679-b4a8f804cf8c",
   "metadata": {
    "tags": []
   },
   "outputs": [],
   "source": [
    "from selenium import webdriver"
   ]
  },
  {
   "cell_type": "code",
   "execution_count": 5,
   "id": "d2ac4265-90d6-4b97-a0e9-a10ef2b17503",
   "metadata": {
    "tags": []
   },
   "outputs": [],
   "source": [
    "# open chrome browser\n",
    "browser = webdriver.Chrome(executable_path='../../../../chromedriver.exe')"
   ]
  },
  {
   "cell_type": "markdown",
   "id": "a7161bb9-ce39-4b24-bae2-89e0b30038ff",
   "metadata": {},
   "source": [
    "### login\n",
    "- user_email tag: #user_email\n",
    "- password tag: #user_password\n",
    "- submit button tag: fieldset > button"
   ]
  },
  {
   "cell_type": "code",
   "execution_count": 7,
   "id": "ae89fea9-2056-496d-975d-7715ea212783",
   "metadata": {
    "tags": []
   },
   "outputs": [],
   "source": [
    "# url in address window\n",
    "browser.get('https://www.jobplanet.co.kr/users/sign_in?_nav=gb')\n",
    "browser.find_element_by_css_selector('#user_email').send_keys('angelaforever122@gmail.com')\n",
    "browser.find_element_by_css_selector('#user_password').send_keys('***')\n",
    "browser.find_element_by_css_selector('fieldset > button').click()"
   ]
  },
  {
   "cell_type": "code",
   "execution_count": 8,
   "id": "0f9dba10-f3e0-45cd-b9b3-f7151130cc04",
   "metadata": {
    "tags": []
   },
   "outputs": [],
   "source": []
  },
  {
   "cell_type": "code",
   "execution_count": 15,
   "id": "c40ad509-b36d-49c3-8c89-d1c794dc56af",
   "metadata": {
    "tags": []
   },
   "outputs": [],
   "source": [
    "browser.quit()"
   ]
  }
 ],
 "metadata": {
  "kernelspec": {
   "display_name": "Python 3 (ipykernel)",
   "language": "python",
   "name": "python3"
  },
  "language_info": {
   "codemirror_mode": {
    "name": "ipython",
    "version": 3
   },
   "file_extension": ".py",
   "mimetype": "text/x-python",
   "name": "python",
   "nbconvert_exporter": "python",
   "pygments_lexer": "ipython3",
   "version": "3.11.3"
  }
 },
 "nbformat": 4,
 "nbformat_minor": 5
}
