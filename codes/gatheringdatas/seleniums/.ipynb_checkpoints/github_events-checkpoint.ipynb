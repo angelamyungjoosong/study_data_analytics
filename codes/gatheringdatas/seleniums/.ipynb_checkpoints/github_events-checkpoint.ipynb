{
 "cells": [
  {
   "cell_type": "markdown",
   "id": "37b62d10-ec9e-41fe-86c5-6b19865fd429",
   "metadata": {},
   "source": [
    "## Github signin"
   ]
  },
  {
   "cell_type": "code",
   "execution_count": 13,
   "id": "125d27b0-faaf-4cd5-a470-5399a39eb0dc",
   "metadata": {
    "tags": []
   },
   "outputs": [],
   "source": [
    "from selenium import webdriver\n",
    "browser = webdriver.Chrome(executable_path='../../../../chromedriver.exe')\n",
    "browser.get('https://github.com/')"
   ]
  },
  {
   "cell_type": "code",
   "execution_count": 7,
   "id": "bea76f9b-a694-45df-9b07-3fc9a15791cb",
   "metadata": {
    "tags": []
   },
   "outputs": [
    {
     "data": {
      "text/plain": [
       "selenium.webdriver.chrome.webdriver.WebDriver"
      ]
     },
     "execution_count": 7,
     "metadata": {},
     "output_type": "execute_result"
    }
   ],
   "source": [
    "type(browser)\n",
    "#WebDriver: Webelement와 유사 "
   ]
  },
  {
   "cell_type": "markdown",
   "id": "90fe3d82-0d12-4c57-8356-047ce4b6806d",
   "metadata": {},
   "source": [
    "### Login 화면 링크 tag\n",
    "- 접힘 메뉴 tag: body > div.logged-out.env-production.page-responsive.header-overlay.home-campaign > div.position-relative.js-header-wrapper > header > div > div.d-flex.flex-justify-between.flex-items-center.width-full.width-lg-auto > div.flex-1.flex-order-2.text-right > button > span > span\n",
    "- click tag: div > div > div > a.HeaderMenu-link.HeaderMenu-link--sign-in"
   ]
  },
  {
   "cell_type": "code",
   "execution_count": 14,
   "id": "5df000f5-afc5-4bc8-b494-6655f383dabf",
   "metadata": {
    "tags": []
   },
   "outputs": [],
   "source": [
    "element_path = 'body > div.logged-out.env-production.page-responsive.header-overlay.home-campaign > div.position-relative.js-header-wrapper > header > div > div.d-flex.flex-justify-between.flex-items-center.width-full.width-lg-auto > div.flex-1.flex-order-2.text-right > button > span > span'\n",
    "collapsed_menu = browser.find_element_by_css_selector(element_path)\n",
    "collapsed_menu.click()"
   ]
  },
  {
   "cell_type": "code",
   "execution_count": 15,
   "id": "e581f7d9-c64d-4966-81fd-8a073945b55b",
   "metadata": {
    "tags": []
   },
   "outputs": [
    {
     "data": {
      "text/plain": [
       "selenium.webdriver.remote.webelement.WebElement"
      ]
     },
     "execution_count": 15,
     "metadata": {},
     "output_type": "execute_result"
    }
   ],
   "source": [
    "element_path = 'div > div > div > a.HeaderMenu-link.HeaderMenu-link--sign-in'\n",
    "signin_button = browser.find_element_by_css_selector(element_path)\n",
    "#이 화면 그대로 사용할 때는 return받아야함\n",
    "#우리는 이 화면을 사용하지 않고 클릭 후 화면 전환할 것이기 때문에 select할 수가 없다\n",
    "#내가 특정한 element를 계속 사용할 경우에만 element를 return받는다 \n",
    "type(signin_button)\n",
    "#webelement라는 class. 이것의 function 사용 가능"
   ]
  },
  {
   "cell_type": "code",
   "execution_count": 16,
   "id": "242c9bd8-de22-4566-8849-da8de1731640",
   "metadata": {
    "tags": []
   },
   "outputs": [],
   "source": [
    "signin_button.click()\n",
    "#click해서 바뀐 것이 시작점 \n",
    "#github.com/login"
   ]
  },
  {
   "cell_type": "markdown",
   "id": "d2713846-deb3-4549-98a0-c6b749d86fb2",
   "metadata": {},
   "source": [
    "### Login 화면\n",
    "- user id input tag: #login_field\n",
    "- password input tag: #password\n",
    "- click tag: input.btn.btn-primary.btn-block.js-sign-in-button"
   ]
  },
  {
   "cell_type": "code",
   "execution_count": 17,
   "id": "fdd239ad-6b3d-4433-a14f-02aa4813f7de",
   "metadata": {
    "tags": []
   },
   "outputs": [],
   "source": [
    "element_path = '#login_field'\n",
    "login_field = browser.find_element_by_css_selector(element_path)\n",
    "login_field.send_keys('angelaforever122@gmail.com')"
   ]
  },
  {
   "cell_type": "code",
   "execution_count": 18,
   "id": "df45e279-0a59-4c0b-9f48-07ca79f26d9f",
   "metadata": {
    "tags": []
   },
   "outputs": [],
   "source": [
    "element_path = '#password'\n",
    "password_field = browser.find_element_by_css_selector(element_path)\n",
    "password_field.send_keys('***')"
   ]
  },
  {
   "cell_type": "code",
   "execution_count": 19,
   "id": "d95481b0-522f-4c31-9175-2657db361497",
   "metadata": {
    "tags": []
   },
   "outputs": [],
   "source": [
    "element_path = 'input.btn.btn-primary.btn-block.js-sign-in-button'\n",
    "signin_button = browser.find_element_by_css_selector(element_path)\n",
    "signin_button.click()"
   ]
  },
  {
   "cell_type": "code",
   "execution_count": null,
   "id": "a87a8e87-456b-4d8f-a483-8cc845804f17",
   "metadata": {},
   "outputs": [],
   "source": [
    "# browser.quit()"
   ]
  }
 ],
 "metadata": {
  "kernelspec": {
   "display_name": "Python 3 (ipykernel)",
   "language": "python",
   "name": "python3"
  },
  "language_info": {
   "codemirror_mode": {
    "name": "ipython",
    "version": 3
   },
   "file_extension": ".py",
   "mimetype": "text/x-python",
   "name": "python",
   "nbconvert_exporter": "python",
   "pygments_lexer": "ipython3",
   "version": "3.11.3"
  }
 },
 "nbformat": 4,
 "nbformat_minor": 5
}
