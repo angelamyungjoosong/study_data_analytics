{
 "cells": [
  {
   "cell_type": "code",
   "execution_count": 11,
   "id": "969adb3b-4675-4482-bcf8-7e108d29a548",
   "metadata": {
    "tags": []
   },
   "outputs": [],
   "source": [
    "import pymongo as mg\n",
    "import pandas as pd"
   ]
  },
  {
   "cell_type": "code",
   "execution_count": 12,
   "id": "7b8bad13-ed66-4d14-86d3-e105f75b57e6",
   "metadata": {
    "tags": []
   },
   "outputs": [
    {
     "data": {
      "text/plain": [
       "'3.12.0'"
      ]
     },
     "execution_count": 12,
     "metadata": {},
     "output_type": "execute_result"
    }
   ],
   "source": [
    "mg.__version__"
   ]
  },
  {
   "cell_type": "code",
   "execution_count": 13,
   "id": "c085a231-f3b8-4a70-82df-88e866da12ab",
   "metadata": {
    "tags": []
   },
   "outputs": [],
   "source": [
    "client = mg.MongoClient(host='mongodb://localhost:27017')"
   ]
  },
  {
   "cell_type": "code",
   "execution_count": 14,
   "id": "ee6814dc-e8b9-4563-bc3e-af2ba35ff2ed",
   "metadata": {
    "tags": []
   },
   "outputs": [],
   "source": [
    "database = client['db_NHIS']"
   ]
  },
  {
   "cell_type": "code",
   "execution_count": 15,
   "id": "dacc947f-9682-4949-96c9-165a1c612c47",
   "metadata": {
    "tags": []
   },
   "outputs": [],
   "source": [
    "collection = database['NSC2_BNC_V2_1.CSV']"
   ]
  },
  {
   "cell_type": "code",
   "execution_count": 16,
   "id": "2ac7f7e5-1c99-469d-9e8b-cbfa0aeae822",
   "metadata": {
    "tags": []
   },
   "outputs": [],
   "source": [
    "cursor = collection.find({})"
   ]
  },
  {
   "cell_type": "code",
   "execution_count": 17,
   "id": "18507070-de53-4160-a50c-fbdbc9dc4c6d",
   "metadata": {
    "tags": []
   },
   "outputs": [],
   "source": [
    "list_BND = list(cursor)"
   ]
  },
  {
   "cell_type": "code",
   "execution_count": 18,
   "id": "6af92746-5292-4eda-b3a5-28a9b5f68434",
   "metadata": {
    "tags": []
   },
   "outputs": [],
   "source": [
    "df_BND = pd.DataFrame(list_BND)"
   ]
  },
  {
   "cell_type": "code",
   "execution_count": 19,
   "id": "aa61ec2d-70ea-495d-8092-14d1ab0cbb3c",
   "metadata": {
    "tags": []
   },
   "outputs": [
    {
     "data": {
      "text/html": [
       "<div>\n",
       "<style scoped>\n",
       "    .dataframe tbody tr th:only-of-type {\n",
       "        vertical-align: middle;\n",
       "    }\n",
       "\n",
       "    .dataframe tbody tr th {\n",
       "        vertical-align: top;\n",
       "    }\n",
       "\n",
       "    .dataframe thead th {\n",
       "        text-align: right;\n",
       "    }\n",
       "</style>\n",
       "<table border=\"1\" class=\"dataframe\">\n",
       "  <thead>\n",
       "    <tr style=\"text-align: right;\">\n",
       "      <th></th>\n",
       "      <th>_id</th>\n",
       "      <th>STD_YYYY</th>\n",
       "      <th>RN_INDI</th>\n",
       "      <th>SEX</th>\n",
       "      <th>SGG</th>\n",
       "      <th>GAIBJA_TYPE</th>\n",
       "      <th>SMPL_TYPE_CD</th>\n",
       "      <th>CTRB_Q10</th>\n",
       "      <th>G1E_OBJ_YN</th>\n",
       "      <th>DSB_TYPE_CD</th>\n",
       "      <th>DSB_SVRT_CD_V2</th>\n",
       "    </tr>\n",
       "  </thead>\n",
       "  <tbody>\n",
       "    <tr>\n",
       "      <th>0</th>\n",
       "      <td>64d312442aef4d92029e9a63</td>\n",
       "      <td>2002</td>\n",
       "      <td>1433</td>\n",
       "      <td>1</td>\n",
       "      <td>29140</td>\n",
       "      <td>7</td>\n",
       "      <td>1</td>\n",
       "      <td>NaN</td>\n",
       "      <td>NaN</td>\n",
       "      <td>NaN</td>\n",
       "      <td>NaN</td>\n",
       "    </tr>\n",
       "    <tr>\n",
       "      <th>1</th>\n",
       "      <td>64d312442aef4d92029e9a64</td>\n",
       "      <td>2003</td>\n",
       "      <td>1433</td>\n",
       "      <td>1</td>\n",
       "      <td>29140</td>\n",
       "      <td>7</td>\n",
       "      <td>1</td>\n",
       "      <td>NaN</td>\n",
       "      <td>NaN</td>\n",
       "      <td>NaN</td>\n",
       "      <td>NaN</td>\n",
       "    </tr>\n",
       "    <tr>\n",
       "      <th>2</th>\n",
       "      <td>64d312442aef4d92029e9a65</td>\n",
       "      <td>2004</td>\n",
       "      <td>1433</td>\n",
       "      <td>1</td>\n",
       "      <td>29140</td>\n",
       "      <td>7</td>\n",
       "      <td>1</td>\n",
       "      <td>NaN</td>\n",
       "      <td>NaN</td>\n",
       "      <td>NaN</td>\n",
       "      <td>NaN</td>\n",
       "    </tr>\n",
       "    <tr>\n",
       "      <th>3</th>\n",
       "      <td>64d312442aef4d92029e9a66</td>\n",
       "      <td>2005</td>\n",
       "      <td>1433</td>\n",
       "      <td>1</td>\n",
       "      <td>29140</td>\n",
       "      <td>7</td>\n",
       "      <td>1</td>\n",
       "      <td>NaN</td>\n",
       "      <td>NaN</td>\n",
       "      <td>NaN</td>\n",
       "      <td>NaN</td>\n",
       "    </tr>\n",
       "    <tr>\n",
       "      <th>4</th>\n",
       "      <td>64d312442aef4d92029e9a67</td>\n",
       "      <td>2006</td>\n",
       "      <td>1433</td>\n",
       "      <td>1</td>\n",
       "      <td>29140</td>\n",
       "      <td>7</td>\n",
       "      <td>1</td>\n",
       "      <td>NaN</td>\n",
       "      <td>NaN</td>\n",
       "      <td>NaN</td>\n",
       "      <td>NaN</td>\n",
       "    </tr>\n",
       "    <tr>\n",
       "      <th>...</th>\n",
       "      <td>...</td>\n",
       "      <td>...</td>\n",
       "      <td>...</td>\n",
       "      <td>...</td>\n",
       "      <td>...</td>\n",
       "      <td>...</td>\n",
       "      <td>...</td>\n",
       "      <td>...</td>\n",
       "      <td>...</td>\n",
       "      <td>...</td>\n",
       "      <td>...</td>\n",
       "    </tr>\n",
       "    <tr>\n",
       "      <th>13022</th>\n",
       "      <td>64d312452aef4d92029ecd41</td>\n",
       "      <td>2012</td>\n",
       "      <td>3000357</td>\n",
       "      <td>2</td>\n",
       "      <td>28237</td>\n",
       "      <td>6</td>\n",
       "      <td>4</td>\n",
       "      <td>NaN</td>\n",
       "      <td>NaN</td>\n",
       "      <td>NaN</td>\n",
       "      <td>NaN</td>\n",
       "    </tr>\n",
       "    <tr>\n",
       "      <th>13023</th>\n",
       "      <td>64d312452aef4d92029ecd42</td>\n",
       "      <td>2013</td>\n",
       "      <td>3000357</td>\n",
       "      <td>2</td>\n",
       "      <td>28245</td>\n",
       "      <td>2</td>\n",
       "      <td>4</td>\n",
       "      <td>6.0</td>\n",
       "      <td>NaN</td>\n",
       "      <td>NaN</td>\n",
       "      <td>NaN</td>\n",
       "    </tr>\n",
       "    <tr>\n",
       "      <th>13024</th>\n",
       "      <td>64d312452aef4d92029ecd43</td>\n",
       "      <td>2014</td>\n",
       "      <td>3000357</td>\n",
       "      <td>2</td>\n",
       "      <td>28245</td>\n",
       "      <td>2</td>\n",
       "      <td>4</td>\n",
       "      <td>6.0</td>\n",
       "      <td>NaN</td>\n",
       "      <td>NaN</td>\n",
       "      <td>NaN</td>\n",
       "    </tr>\n",
       "    <tr>\n",
       "      <th>13025</th>\n",
       "      <td>64d312452aef4d92029ecd44</td>\n",
       "      <td>2015</td>\n",
       "      <td>3000357</td>\n",
       "      <td>2</td>\n",
       "      <td>28245</td>\n",
       "      <td>2</td>\n",
       "      <td>4</td>\n",
       "      <td>7.0</td>\n",
       "      <td>NaN</td>\n",
       "      <td>NaN</td>\n",
       "      <td>NaN</td>\n",
       "    </tr>\n",
       "    <tr>\n",
       "      <th>13026</th>\n",
       "      <td>64d312452aef4d92029ecd45</td>\n",
       "      <td>2015</td>\n",
       "      <td>3000758</td>\n",
       "      <td>1</td>\n",
       "      <td>41287</td>\n",
       "      <td>6</td>\n",
       "      <td>4</td>\n",
       "      <td>NaN</td>\n",
       "      <td>NaN</td>\n",
       "      <td>NaN</td>\n",
       "      <td>NaN</td>\n",
       "    </tr>\n",
       "  </tbody>\n",
       "</table>\n",
       "<p>13027 rows × 11 columns</p>\n",
       "</div>"
      ],
      "text/plain": [
       "                            _id  STD_YYYY  RN_INDI  SEX    SGG  GAIBJA_TYPE  \\\n",
       "0      64d312442aef4d92029e9a63      2002     1433    1  29140            7   \n",
       "1      64d312442aef4d92029e9a64      2003     1433    1  29140            7   \n",
       "2      64d312442aef4d92029e9a65      2004     1433    1  29140            7   \n",
       "3      64d312442aef4d92029e9a66      2005     1433    1  29140            7   \n",
       "4      64d312442aef4d92029e9a67      2006     1433    1  29140            7   \n",
       "...                         ...       ...      ...  ...    ...          ...   \n",
       "13022  64d312452aef4d92029ecd41      2012  3000357    2  28237            6   \n",
       "13023  64d312452aef4d92029ecd42      2013  3000357    2  28245            2   \n",
       "13024  64d312452aef4d92029ecd43      2014  3000357    2  28245            2   \n",
       "13025  64d312452aef4d92029ecd44      2015  3000357    2  28245            2   \n",
       "13026  64d312452aef4d92029ecd45      2015  3000758    1  41287            6   \n",
       "\n",
       "       SMPL_TYPE_CD  CTRB_Q10 G1E_OBJ_YN  DSB_TYPE_CD  DSB_SVRT_CD_V2  \n",
       "0                 1       NaN        NaN          NaN             NaN  \n",
       "1                 1       NaN        NaN          NaN             NaN  \n",
       "2                 1       NaN        NaN          NaN             NaN  \n",
       "3                 1       NaN        NaN          NaN             NaN  \n",
       "4                 1       NaN        NaN          NaN             NaN  \n",
       "...             ...       ...        ...          ...             ...  \n",
       "13022             4       NaN        NaN          NaN             NaN  \n",
       "13023             4       6.0        NaN          NaN             NaN  \n",
       "13024             4       6.0        NaN          NaN             NaN  \n",
       "13025             4       7.0        NaN          NaN             NaN  \n",
       "13026             4       NaN        NaN          NaN             NaN  \n",
       "\n",
       "[13027 rows x 11 columns]"
      ]
     },
     "execution_count": 19,
     "metadata": {},
     "output_type": "execute_result"
    }
   ],
   "source": [
    "df_BND"
   ]
  },
  {
   "cell_type": "code",
   "execution_count": 20,
   "id": "3b97388f-640a-4f22-a02e-a994b398d5f7",
   "metadata": {
    "tags": []
   },
   "outputs": [],
   "source": [
    "df_BND.to_csv('./NSC2_BNC_V2_1.csv')"
   ]
  },
  {
   "cell_type": "code",
   "execution_count": null,
   "id": "2312909e-e7f5-43a7-b0ce-950ab483d6cc",
   "metadata": {},
   "outputs": [],
   "source": []
  }
 ],
 "metadata": {
  "kernelspec": {
   "display_name": "Python 3 (ipykernel)",
   "language": "python",
   "name": "python3"
  },
  "language_info": {
   "codemirror_mode": {
    "name": "ipython",
    "version": 3
   },
   "file_extension": ".py",
   "mimetype": "text/x-python",
   "name": "python",
   "nbconvert_exporter": "python",
   "pygments_lexer": "ipython3",
   "version": "3.11.3"
  }
 },
 "nbformat": 4,
 "nbformat_minor": 5
}
