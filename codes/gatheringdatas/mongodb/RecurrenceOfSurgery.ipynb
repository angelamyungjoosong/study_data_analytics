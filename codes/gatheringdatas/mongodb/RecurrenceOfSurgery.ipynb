{
 "cells": [
  {
   "cell_type": "code",
   "execution_count": 27,
   "id": "3450382c-27c0-48f6-9a33-7d13bcb3483a",
   "metadata": {
    "tags": []
   },
   "outputs": [],
   "source": [
    "import pandas as pd"
   ]
  },
  {
   "cell_type": "code",
   "execution_count": 28,
   "id": "93ec6434-dafc-4e34-a685-f01ac199be10",
   "metadata": {
    "tags": []
   },
   "outputs": [],
   "source": [
    "df_ROS = pd.read_csv('../../../../datasets/RecurrenceOfSurgery.csv')\n"
   ]
  },
  {
   "cell_type": "markdown",
   "id": "ff8cb2a3-297a-4da1-98f8-fc024c7f518a",
   "metadata": {},
   "source": [
    "insertMany to MongoDB"
   ]
  },
  {
   "cell_type": "code",
   "execution_count": 29,
   "id": "f98d1e68-6486-443c-85f9-1d192f3151fc",
   "metadata": {
    "tags": []
   },
   "outputs": [],
   "source": [
    "import pymongo as mg"
   ]
  },
  {
   "cell_type": "code",
   "execution_count": 30,
   "id": "21cfa13b-179d-4180-be22-1cb1d514970d",
   "metadata": {
    "tags": []
   },
   "outputs": [],
   "source": [
    "client = mg.MongoClient(host='mongodb://localhost:27017')"
   ]
  },
  {
   "cell_type": "code",
   "execution_count": 31,
   "id": "b38da3a6-7ed2-4e01-a7f2-0fe9f9554a83",
   "metadata": {
    "tags": []
   },
   "outputs": [
    {
     "data": {
      "text/plain": [
       "Database(MongoClient(host=['localhost:27017'], document_class=dict, tz_aware=False, connect=True), 'db_medicals')"
      ]
     },
     "execution_count": 31,
     "metadata": {},
     "output_type": "execute_result"
    }
   ],
   "source": [
    "database = client['db_medicals']\n",
    "database"
   ]
  },
  {
   "cell_type": "code",
   "execution_count": 32,
   "id": "92c6a516-17e7-489f-b9f0-d0cd5210a85e",
   "metadata": {
    "tags": []
   },
   "outputs": [
    {
     "data": {
      "text/plain": [
       "Collection(Database(MongoClient(host=['localhost:27017'], document_class=dict, tz_aware=False, connect=True), 'db_medicals'), 'RecurrenceOfSurgery')"
      ]
     },
     "execution_count": 32,
     "metadata": {},
     "output_type": "execute_result"
    }
   ],
   "source": [
    "collection = database['RecurrenceOfSurgery']\n",
    "collection"
   ]
  },
  {
   "cell_type": "code",
   "execution_count": 33,
   "id": "905f94de-ae78-4a69-9580-7924f1252966",
   "metadata": {
    "tags": []
   },
   "outputs": [],
   "source": [
    "data_list = df_ROS.to_dict(orient='records')"
   ]
  },
  {
   "cell_type": "code",
   "execution_count": 34,
   "id": "7cf47065-03a1-46b9-9563-1597db6fee15",
   "metadata": {
    "tags": []
   },
   "outputs": [
    {
     "data": {
      "text/plain": [
       "list"
      ]
     },
     "execution_count": 34,
     "metadata": {},
     "output_type": "execute_result"
    }
   ],
   "source": [
    "type(data_list)"
   ]
  },
  {
   "cell_type": "code",
   "execution_count": 35,
   "id": "94abd0f1-321e-406a-b230-1e84918dc919",
   "metadata": {
    "tags": []
   },
   "outputs": [
    {
     "data": {
      "text/plain": [
       "<pymongo.results.InsertManyResult at 0x163a29cf9c0>"
      ]
     },
     "execution_count": 35,
     "metadata": {},
     "output_type": "execute_result"
    }
   ],
   "source": [
    "collection.insert_many(data_list)"
   ]
  },
  {
   "cell_type": "code",
   "execution_count": null,
   "id": "cc125759-0dd9-4962-a05d-b9c4d3451386",
   "metadata": {},
   "outputs": [],
   "source": []
  }
 ],
 "metadata": {
  "kernelspec": {
   "display_name": "Python 3 (ipykernel)",
   "language": "python",
   "name": "python3"
  },
  "language_info": {
   "codemirror_mode": {
    "name": "ipython",
    "version": 3
   },
   "file_extension": ".py",
   "mimetype": "text/x-python",
   "name": "python",
   "nbconvert_exporter": "python",
   "pygments_lexer": "ipython3",
   "version": "3.11.3"
  }
 },
 "nbformat": 4,
 "nbformat_minor": 5
}
