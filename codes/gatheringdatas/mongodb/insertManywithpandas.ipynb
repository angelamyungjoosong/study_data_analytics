{
 "cells": [
  {
   "cell_type": "code",
   "execution_count": 15,
   "id": "04874f32-f4a6-427e-ba60-47fd92e6f1e5",
   "metadata": {
    "tags": []
   },
   "outputs": [],
   "source": [
    "import pandas as pd"
   ]
  },
  {
   "cell_type": "code",
   "execution_count": 16,
   "id": "36b77b38-a6cc-49d4-8d11-aa625d649279",
   "metadata": {
    "tags": []
   },
   "outputs": [
    {
     "data": {
      "text/html": [
       "<div>\n",
       "<style scoped>\n",
       "    .dataframe tbody tr th:only-of-type {\n",
       "        vertical-align: middle;\n",
       "    }\n",
       "\n",
       "    .dataframe tbody tr th {\n",
       "        vertical-align: top;\n",
       "    }\n",
       "\n",
       "    .dataframe thead th {\n",
       "        text-align: right;\n",
       "    }\n",
       "</style>\n",
       "<table border=\"1\" class=\"dataframe\">\n",
       "  <thead>\n",
       "    <tr style=\"text-align: right;\">\n",
       "      <th></th>\n",
       "      <th>Unnamed: 0</th>\n",
       "      <th>_id</th>\n",
       "      <th>RN_INDI</th>\n",
       "      <th>BTH_YYYY</th>\n",
       "      <th>DTH_YYYYMM</th>\n",
       "      <th>COD1</th>\n",
       "      <th>COD2</th>\n",
       "    </tr>\n",
       "  </thead>\n",
       "  <tbody>\n",
       "    <tr>\n",
       "      <th>0</th>\n",
       "      <td>0</td>\n",
       "      <td>64d2fd0860406ad1eeac9be2</td>\n",
       "      <td>294364</td>\n",
       "      <td>1921LE</td>\n",
       "      <td>200707.0</td>\n",
       "      <td>T08-T14</td>\n",
       "      <td>W00-W19</td>\n",
       "    </tr>\n",
       "    <tr>\n",
       "      <th>1</th>\n",
       "      <td>1</td>\n",
       "      <td>64d2fd0860406ad1eeac9be3</td>\n",
       "      <td>646257</td>\n",
       "      <td>1921LE</td>\n",
       "      <td>200805.0</td>\n",
       "      <td>A15-A19</td>\n",
       "      <td>NaN</td>\n",
       "    </tr>\n",
       "    <tr>\n",
       "      <th>2</th>\n",
       "      <td>2</td>\n",
       "      <td>64d2fd0860406ad1eeac9be4</td>\n",
       "      <td>733575</td>\n",
       "      <td>1921LE</td>\n",
       "      <td>201309.0</td>\n",
       "      <td>G30</td>\n",
       "      <td>NaN</td>\n",
       "    </tr>\n",
       "  </tbody>\n",
       "</table>\n",
       "</div>"
      ],
      "text/plain": [
       "   Unnamed: 0                       _id  RN_INDI BTH_YYYY  DTH_YYYYMM  \\\n",
       "0           0  64d2fd0860406ad1eeac9be2   294364   1921LE    200707.0   \n",
       "1           1  64d2fd0860406ad1eeac9be3   646257   1921LE    200805.0   \n",
       "2           2  64d2fd0860406ad1eeac9be4   733575   1921LE    201309.0   \n",
       "\n",
       "      COD1     COD2  \n",
       "0  T08-T14  W00-W19  \n",
       "1  A15-A19      NaN  \n",
       "2      G30      NaN  "
      ]
     },
     "execution_count": 16,
     "metadata": {},
     "output_type": "execute_result"
    }
   ],
   "source": [
    "df_BND = pd.read_csv('./NSC2_BND.csv')\n",
    "df_BND.head(3)"
   ]
  },
  {
   "cell_type": "markdown",
   "id": "a147617b-1a07-4144-b905-b3e7a6bdd7d0",
   "metadata": {},
   "source": [
    "### insertMany to MongoDB"
   ]
  },
  {
   "cell_type": "code",
   "execution_count": 17,
   "id": "5b4814b6-306f-4364-a4d5-13dd2272b3e9",
   "metadata": {
    "tags": []
   },
   "outputs": [],
   "source": [
    "import pymongo as mg"
   ]
  },
  {
   "cell_type": "code",
   "execution_count": 18,
   "id": "2ef78db7-3026-4dbf-ba5b-75ad6c7182d7",
   "metadata": {
    "tags": []
   },
   "outputs": [],
   "source": [
    "client = mg.MongoClient(host='mongodb://localhost:27017')"
   ]
  },
  {
   "cell_type": "code",
   "execution_count": 19,
   "id": "29fdeb77-dcbd-45c8-8520-e5c3ca4130e4",
   "metadata": {
    "tags": []
   },
   "outputs": [
    {
     "data": {
      "text/plain": [
       "Database(MongoClient(host=['localhost:27017'], document_class=dict, tz_aware=False, connect=True), 'study_test')"
      ]
     },
     "execution_count": 19,
     "metadata": {},
     "output_type": "execute_result"
    }
   ],
   "source": [
    "database = client['study_test']\n",
    "database"
   ]
  },
  {
   "cell_type": "code",
   "execution_count": 20,
   "id": "2a4060b4-3356-483a-8b62-cc145db597e4",
   "metadata": {
    "tags": []
   },
   "outputs": [
    {
     "data": {
      "text/plain": [
       "Collection(Database(MongoClient(host=['localhost:27017'], document_class=dict, tz_aware=False, connect=True), 'study_test'), 'collect_tests')"
      ]
     },
     "execution_count": 20,
     "metadata": {},
     "output_type": "execute_result"
    }
   ],
   "source": [
    "collection = database['collect_tests']\n",
    "collection"
   ]
  },
  {
   "cell_type": "markdown",
   "id": "43bb73f9-1b3d-47e5-a97f-72349988d538",
   "metadata": {},
   "source": [
    "# 리스트 안 딕셔너리로 전환 (데이터프레임 변환할때는 무조건 to)\n",
    "# ‘records’ : list like [{column -> value}, … , {column -> value}]"
   ]
  },
  {
   "cell_type": "code",
   "execution_count": 21,
   "id": "68896965-7d7e-4a89-a901-74ea1db1d23e",
   "metadata": {
    "tags": []
   },
   "outputs": [],
   "source": [
    "data_list = df_BND.to_dict(orient='records')"
   ]
  },
  {
   "cell_type": "code",
   "execution_count": 22,
   "id": "2c8d1cf3-6c51-4b37-b1ee-ef387f6d9904",
   "metadata": {
    "tags": []
   },
   "outputs": [
    {
     "data": {
      "text/plain": [
       "list"
      ]
     },
     "execution_count": 22,
     "metadata": {},
     "output_type": "execute_result"
    }
   ],
   "source": [
    "type(data_list)"
   ]
  },
  {
   "cell_type": "code",
   "execution_count": 23,
   "id": "b06c567f-74f0-42ed-8c9c-8807d37f5567",
   "metadata": {
    "tags": []
   },
   "outputs": [
    {
     "ename": "BulkWriteError",
     "evalue": "batch op errors occurred, full error: {'writeErrors': [{'index': 0, 'code': 11000, 'errmsg': 'E11000 duplicate key error collection: study_test.collect_tests index: _id_ dup key: { _id: \"64d2fd0860406ad1eeac9be2\" }', 'keyPattern': {'_id': 1}, 'keyValue': {'_id': '64d2fd0860406ad1eeac9be2'}, 'op': {'Unnamed: 0': 0, '_id': '64d2fd0860406ad1eeac9be2', 'RN_INDI': 294364, 'BTH_YYYY': '1921LE', 'DTH_YYYYMM': 200707.0, 'COD1': 'T08-T14', 'COD2': 'W00-W19'}}], 'writeConcernErrors': [], 'nInserted': 0, 'nUpserted': 0, 'nMatched': 0, 'nModified': 0, 'nRemoved': 0, 'upserted': []}",
     "output_type": "error",
     "traceback": [
      "\u001b[1;31m---------------------------------------------------------------------------\u001b[0m",
      "\u001b[1;31mBulkWriteError\u001b[0m                            Traceback (most recent call last)",
      "Cell \u001b[1;32mIn[23], line 1\u001b[0m\n\u001b[1;32m----> 1\u001b[0m collection\u001b[38;5;241m.\u001b[39minsert_many(data_list)\n",
      "File \u001b[1;32m~\\anaconda3\\Lib\\site-packages\\pymongo\\collection.py:770\u001b[0m, in \u001b[0;36mCollection.insert_many\u001b[1;34m(self, documents, ordered, bypass_document_validation, session)\u001b[0m\n\u001b[0;32m    768\u001b[0m blk \u001b[38;5;241m=\u001b[39m _Bulk(\u001b[38;5;28mself\u001b[39m, ordered, bypass_document_validation)\n\u001b[0;32m    769\u001b[0m blk\u001b[38;5;241m.\u001b[39mops \u001b[38;5;241m=\u001b[39m [doc \u001b[38;5;28;01mfor\u001b[39;00m doc \u001b[38;5;129;01min\u001b[39;00m gen()]\n\u001b[1;32m--> 770\u001b[0m blk\u001b[38;5;241m.\u001b[39mexecute(write_concern, session\u001b[38;5;241m=\u001b[39msession)\n\u001b[0;32m    771\u001b[0m \u001b[38;5;28;01mreturn\u001b[39;00m InsertManyResult(inserted_ids, write_concern\u001b[38;5;241m.\u001b[39macknowledged)\n",
      "File \u001b[1;32m~\\anaconda3\\Lib\\site-packages\\pymongo\\bulk.py:529\u001b[0m, in \u001b[0;36m_Bulk.execute\u001b[1;34m(self, write_concern, session)\u001b[0m\n\u001b[0;32m    527\u001b[0m         \u001b[38;5;28mself\u001b[39m\u001b[38;5;241m.\u001b[39mexecute_no_results(sock_info, generator)\n\u001b[0;32m    528\u001b[0m \u001b[38;5;28;01melse\u001b[39;00m:\n\u001b[1;32m--> 529\u001b[0m     \u001b[38;5;28;01mreturn\u001b[39;00m \u001b[38;5;28mself\u001b[39m\u001b[38;5;241m.\u001b[39mexecute_command(generator, write_concern, session)\n",
      "File \u001b[1;32m~\\anaconda3\\Lib\\site-packages\\pymongo\\bulk.py:364\u001b[0m, in \u001b[0;36m_Bulk.execute_command\u001b[1;34m(self, generator, write_concern, session)\u001b[0m\n\u001b[0;32m    360\u001b[0m     client\u001b[38;5;241m.\u001b[39m_retry_with_session(\n\u001b[0;32m    361\u001b[0m         \u001b[38;5;28mself\u001b[39m\u001b[38;5;241m.\u001b[39mis_retryable, retryable_bulk, s, \u001b[38;5;28mself\u001b[39m)\n\u001b[0;32m    363\u001b[0m \u001b[38;5;28;01mif\u001b[39;00m full_result[\u001b[38;5;124m\"\u001b[39m\u001b[38;5;124mwriteErrors\u001b[39m\u001b[38;5;124m\"\u001b[39m] \u001b[38;5;129;01mor\u001b[39;00m full_result[\u001b[38;5;124m\"\u001b[39m\u001b[38;5;124mwriteConcernErrors\u001b[39m\u001b[38;5;124m\"\u001b[39m]:\n\u001b[1;32m--> 364\u001b[0m     _raise_bulk_write_error(full_result)\n\u001b[0;32m    365\u001b[0m \u001b[38;5;28;01mreturn\u001b[39;00m full_result\n",
      "File \u001b[1;32m~\\anaconda3\\Lib\\site-packages\\pymongo\\bulk.py:140\u001b[0m, in \u001b[0;36m_raise_bulk_write_error\u001b[1;34m(full_result)\u001b[0m\n\u001b[0;32m    137\u001b[0m \u001b[38;5;28;01mif\u001b[39;00m full_result[\u001b[38;5;124m\"\u001b[39m\u001b[38;5;124mwriteErrors\u001b[39m\u001b[38;5;124m\"\u001b[39m]:\n\u001b[0;32m    138\u001b[0m     full_result[\u001b[38;5;124m\"\u001b[39m\u001b[38;5;124mwriteErrors\u001b[39m\u001b[38;5;124m\"\u001b[39m]\u001b[38;5;241m.\u001b[39msort(\n\u001b[0;32m    139\u001b[0m         key\u001b[38;5;241m=\u001b[39m\u001b[38;5;28;01mlambda\u001b[39;00m error: error[\u001b[38;5;124m\"\u001b[39m\u001b[38;5;124mindex\u001b[39m\u001b[38;5;124m\"\u001b[39m])\n\u001b[1;32m--> 140\u001b[0m \u001b[38;5;28;01mraise\u001b[39;00m BulkWriteError(full_result)\n",
      "\u001b[1;31mBulkWriteError\u001b[0m: batch op errors occurred, full error: {'writeErrors': [{'index': 0, 'code': 11000, 'errmsg': 'E11000 duplicate key error collection: study_test.collect_tests index: _id_ dup key: { _id: \"64d2fd0860406ad1eeac9be2\" }', 'keyPattern': {'_id': 1}, 'keyValue': {'_id': '64d2fd0860406ad1eeac9be2'}, 'op': {'Unnamed: 0': 0, '_id': '64d2fd0860406ad1eeac9be2', 'RN_INDI': 294364, 'BTH_YYYY': '1921LE', 'DTH_YYYYMM': 200707.0, 'COD1': 'T08-T14', 'COD2': 'W00-W19'}}], 'writeConcernErrors': [], 'nInserted': 0, 'nUpserted': 0, 'nMatched': 0, 'nModified': 0, 'nRemoved': 0, 'upserted': []}"
     ]
    }
   ],
   "source": [
    "collection.insert_many(data_list)"
   ]
  }
 ],
 "metadata": {
  "kernelspec": {
   "display_name": "Python 3 (ipykernel)",
   "language": "python",
   "name": "python3"
  },
  "language_info": {
   "codemirror_mode": {
    "name": "ipython",
    "version": 3
   },
   "file_extension": ".py",
   "mimetype": "text/x-python",
   "name": "python",
   "nbconvert_exporter": "python",
   "pygments_lexer": "ipython3",
   "version": "3.11.3"
  }
 },
 "nbformat": 4,
 "nbformat_minor": 5
}
