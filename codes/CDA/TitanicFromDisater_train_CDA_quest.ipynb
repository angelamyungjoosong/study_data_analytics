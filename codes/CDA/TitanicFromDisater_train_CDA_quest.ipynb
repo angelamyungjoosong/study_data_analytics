{
 "cells": [
  {
   "cell_type": "code",
   "execution_count": 40,
   "id": "aeeb09c0-0d48-4b2b-a259-d65ccddcdf83",
   "metadata": {
    "tags": []
   },
   "outputs": [],
   "source": [
    "import matplotlib.pyplot as plt\n",
    "import matplotlib as mpl\n",
    "mpl.rc('font',family='Malgun Gothic')\n",
    "import seaborn as sns\n",
    "import pandas as pd"
   ]
  },
  {
   "cell_type": "code",
   "execution_count": 41,
   "id": "029f1d54-a8f0-4419-a2aa-a4ab080bb841",
   "metadata": {
    "tags": []
   },
   "outputs": [
    {
     "data": {
      "text/html": [
       "<div>\n",
       "<style scoped>\n",
       "    .dataframe tbody tr th:only-of-type {\n",
       "        vertical-align: middle;\n",
       "    }\n",
       "\n",
       "    .dataframe tbody tr th {\n",
       "        vertical-align: top;\n",
       "    }\n",
       "\n",
       "    .dataframe thead th {\n",
       "        text-align: right;\n",
       "    }\n",
       "</style>\n",
       "<table border=\"1\" class=\"dataframe\">\n",
       "  <thead>\n",
       "    <tr style=\"text-align: right;\">\n",
       "      <th></th>\n",
       "      <th>PassengerId</th>\n",
       "      <th>Survived</th>\n",
       "      <th>Pclass</th>\n",
       "      <th>Name</th>\n",
       "      <th>Sex</th>\n",
       "      <th>Age</th>\n",
       "      <th>SibSp</th>\n",
       "      <th>Parch</th>\n",
       "      <th>Ticket</th>\n",
       "      <th>Fare</th>\n",
       "      <th>Cabin</th>\n",
       "      <th>Embarked</th>\n",
       "    </tr>\n",
       "  </thead>\n",
       "  <tbody>\n",
       "    <tr>\n",
       "      <th>0</th>\n",
       "      <td>1</td>\n",
       "      <td>0</td>\n",
       "      <td>3</td>\n",
       "      <td>Braund, Mr. Owen Harris</td>\n",
       "      <td>male</td>\n",
       "      <td>22.0</td>\n",
       "      <td>1</td>\n",
       "      <td>0</td>\n",
       "      <td>A/5 21171</td>\n",
       "      <td>7.2500</td>\n",
       "      <td>NaN</td>\n",
       "      <td>S</td>\n",
       "    </tr>\n",
       "    <tr>\n",
       "      <th>1</th>\n",
       "      <td>2</td>\n",
       "      <td>1</td>\n",
       "      <td>1</td>\n",
       "      <td>Cumings, Mrs. John Bradley (Florence Briggs Th...</td>\n",
       "      <td>female</td>\n",
       "      <td>38.0</td>\n",
       "      <td>1</td>\n",
       "      <td>0</td>\n",
       "      <td>PC 17599</td>\n",
       "      <td>71.2833</td>\n",
       "      <td>C85</td>\n",
       "      <td>C</td>\n",
       "    </tr>\n",
       "  </tbody>\n",
       "</table>\n",
       "</div>"
      ],
      "text/plain": [
       "   PassengerId  Survived  Pclass  \\\n",
       "0            1         0       3   \n",
       "1            2         1       1   \n",
       "\n",
       "                                                Name     Sex   Age  SibSp  \\\n",
       "0                            Braund, Mr. Owen Harris    male  22.0      1   \n",
       "1  Cumings, Mrs. John Bradley (Florence Briggs Th...  female  38.0      1   \n",
       "\n",
       "   Parch     Ticket     Fare Cabin Embarked  \n",
       "0      0  A/5 21171   7.2500   NaN        S  \n",
       "1      0   PC 17599  71.2833   C85        C  "
      ]
     },
     "execution_count": 41,
     "metadata": {},
     "output_type": "execute_result"
    }
   ],
   "source": [
    "df_TFD = pd.read_csv('../../datasets/TitanicFromDisaster_train.csv')\n",
    "df_TFD.head(2)"
   ]
  },
  {
   "cell_type": "markdown",
   "id": "05a39ab3-b19a-4db6-97dc-9094568a5f09",
   "metadata": {
    "tags": []
   },
   "source": [
    "#### x 범주형, y 범주형 \n",
    "- 선정 변수 : Pclass, Survived\n",
    "- 분석 내용: ticket class에 따라 생존율이 달라지는가? \n",
    "    - 귀무가설: ticket class에 따라 생존율이 달라지지 않는다. \n",
    "    - 대립가설: ticket class에 따라 생존율이 달라진다. \n",
    "- 분석 결론 (기준 : p-value pvalue=4.549251711298793e-23)\n",
    "    - 통계 결론: 대립가설이 참 (귀무가설 기각)\n",
    "    - 사실 결론: ticket class에 따라 해약여부가 달라진다. "
   ]
  },
  {
   "cell_type": "code",
   "execution_count": 4,
   "id": "9f2325c5-3374-435c-9e43-2bf51e498987",
   "metadata": {
    "tags": []
   },
   "outputs": [
    {
     "name": "stdout",
     "output_type": "stream",
     "text": [
      "<class 'pandas.core.frame.DataFrame'>\n",
      "RangeIndex: 891 entries, 0 to 890\n",
      "Data columns (total 12 columns):\n",
      " #   Column       Non-Null Count  Dtype  \n",
      "---  ------       --------------  -----  \n",
      " 0   PassengerId  891 non-null    int64  \n",
      " 1   Survived     891 non-null    object \n",
      " 2   Pclass       891 non-null    object \n",
      " 3   Name         891 non-null    object \n",
      " 4   Sex          891 non-null    object \n",
      " 5   Age          714 non-null    float64\n",
      " 6   SibSp        891 non-null    int64  \n",
      " 7   Parch        891 non-null    int64  \n",
      " 8   Ticket       891 non-null    object \n",
      " 9   Fare         891 non-null    float64\n",
      " 10  Cabin        204 non-null    object \n",
      " 11  Embarked     889 non-null    object \n",
      "dtypes: float64(2), int64(3), object(7)\n",
      "memory usage: 83.7+ KB\n"
     ]
    }
   ],
   "source": [
    "df_TFD[['Survived', 'Pclass']] = df_TFD[['Survived', 'Pclass']].astype(object)\n",
    "df_TFD.info()"
   ]
  },
  {
   "cell_type": "code",
   "execution_count": 5,
   "id": "6daa0bb4-d19c-42c8-adce-bb4fb58584aa",
   "metadata": {
    "tags": []
   },
   "outputs": [
    {
     "data": {
      "text/html": [
       "<div>\n",
       "<style scoped>\n",
       "    .dataframe tbody tr th:only-of-type {\n",
       "        vertical-align: middle;\n",
       "    }\n",
       "\n",
       "    .dataframe tbody tr th {\n",
       "        vertical-align: top;\n",
       "    }\n",
       "\n",
       "    .dataframe thead th {\n",
       "        text-align: right;\n",
       "    }\n",
       "</style>\n",
       "<table border=\"1\" class=\"dataframe\">\n",
       "  <thead>\n",
       "    <tr style=\"text-align: right;\">\n",
       "      <th></th>\n",
       "      <th>Survived</th>\n",
       "      <th>Pclass</th>\n",
       "    </tr>\n",
       "  </thead>\n",
       "  <tbody>\n",
       "    <tr>\n",
       "      <th>count</th>\n",
       "      <td>891</td>\n",
       "      <td>891</td>\n",
       "    </tr>\n",
       "    <tr>\n",
       "      <th>unique</th>\n",
       "      <td>2</td>\n",
       "      <td>3</td>\n",
       "    </tr>\n",
       "    <tr>\n",
       "      <th>top</th>\n",
       "      <td>0</td>\n",
       "      <td>3</td>\n",
       "    </tr>\n",
       "    <tr>\n",
       "      <th>freq</th>\n",
       "      <td>549</td>\n",
       "      <td>491</td>\n",
       "    </tr>\n",
       "  </tbody>\n",
       "</table>\n",
       "</div>"
      ],
      "text/plain": [
       "        Survived  Pclass\n",
       "count        891     891\n",
       "unique         2       3\n",
       "top            0       3\n",
       "freq         549     491"
      ]
     },
     "execution_count": 5,
     "metadata": {},
     "output_type": "execute_result"
    }
   ],
   "source": [
    "df_TFD[['Survived', 'Pclass']].describe()"
   ]
  },
  {
   "cell_type": "code",
   "execution_count": 6,
   "id": "36918cbd-74f9-4caf-9c97-f99f484ac6a5",
   "metadata": {
    "tags": []
   },
   "outputs": [],
   "source": [
    "df_TFD_category_Pclass= df_TFD[['Survived', 'Pclass']]"
   ]
  },
  {
   "cell_type": "code",
   "execution_count": 10,
   "id": "695362c6-af22-4274-97e2-5d5521d94321",
   "metadata": {
    "tags": []
   },
   "outputs": [
    {
     "data": {
      "text/html": [
       "<div>\n",
       "<style scoped>\n",
       "    .dataframe tbody tr th:only-of-type {\n",
       "        vertical-align: middle;\n",
       "    }\n",
       "\n",
       "    .dataframe tbody tr th {\n",
       "        vertical-align: top;\n",
       "    }\n",
       "\n",
       "    .dataframe thead th {\n",
       "        text-align: right;\n",
       "    }\n",
       "</style>\n",
       "<table border=\"1\" class=\"dataframe\">\n",
       "  <thead>\n",
       "    <tr style=\"text-align: right;\">\n",
       "      <th>Pclass</th>\n",
       "      <th>1</th>\n",
       "      <th>2</th>\n",
       "      <th>3</th>\n",
       "    </tr>\n",
       "    <tr>\n",
       "      <th>Survived</th>\n",
       "      <th></th>\n",
       "      <th></th>\n",
       "      <th></th>\n",
       "    </tr>\n",
       "  </thead>\n",
       "  <tbody>\n",
       "    <tr>\n",
       "      <th>0</th>\n",
       "      <td>80</td>\n",
       "      <td>97</td>\n",
       "      <td>372</td>\n",
       "    </tr>\n",
       "    <tr>\n",
       "      <th>1</th>\n",
       "      <td>136</td>\n",
       "      <td>87</td>\n",
       "      <td>119</td>\n",
       "    </tr>\n",
       "  </tbody>\n",
       "</table>\n",
       "</div>"
      ],
      "text/plain": [
       "Pclass      1   2    3\n",
       "Survived              \n",
       "0          80  97  372\n",
       "1         136  87  119"
      ]
     },
     "execution_count": 10,
     "metadata": {},
     "output_type": "execute_result"
    }
   ],
   "source": [
    "pd.pivot_table(data=df_TFD_category_Pclass, index='Survived', columns='Pclass', aggfunc=len)"
   ]
  },
  {
   "cell_type": "code",
   "execution_count": 7,
   "id": "3f368f9d-8f8e-42ae-8be5-6c5a55aa1f18",
   "metadata": {
    "tags": []
   },
   "outputs": [
    {
     "data": {
      "text/html": [
       "<div>\n",
       "<style scoped>\n",
       "    .dataframe tbody tr th:only-of-type {\n",
       "        vertical-align: middle;\n",
       "    }\n",
       "\n",
       "    .dataframe tbody tr th {\n",
       "        vertical-align: top;\n",
       "    }\n",
       "\n",
       "    .dataframe thead th {\n",
       "        text-align: right;\n",
       "    }\n",
       "</style>\n",
       "<table border=\"1\" class=\"dataframe\">\n",
       "  <thead>\n",
       "    <tr style=\"text-align: right;\">\n",
       "      <th>Pclass</th>\n",
       "      <th>1</th>\n",
       "      <th>2</th>\n",
       "      <th>3</th>\n",
       "    </tr>\n",
       "    <tr>\n",
       "      <th>Survived</th>\n",
       "      <th></th>\n",
       "      <th></th>\n",
       "      <th></th>\n",
       "    </tr>\n",
       "  </thead>\n",
       "  <tbody>\n",
       "    <tr>\n",
       "      <th>0</th>\n",
       "      <td>80</td>\n",
       "      <td>97</td>\n",
       "      <td>372</td>\n",
       "    </tr>\n",
       "    <tr>\n",
       "      <th>1</th>\n",
       "      <td>136</td>\n",
       "      <td>87</td>\n",
       "      <td>119</td>\n",
       "    </tr>\n",
       "  </tbody>\n",
       "</table>\n",
       "</div>"
      ],
      "text/plain": [
       "Pclass      1   2    3\n",
       "Survived              \n",
       "0          80  97  372\n",
       "1         136  87  119"
      ]
     },
     "execution_count": 7,
     "metadata": {},
     "output_type": "execute_result"
    }
   ],
   "source": [
    "df_TFD_category_Pclass_pivot = pd.pivot_table(data=df_TFD_category_Pclass, index='Survived', columns='Pclass', aggfunc=len)\n",
    "df_TFD_category_Pclass_pivot"
   ]
  },
  {
   "cell_type": "code",
   "execution_count": 8,
   "id": "68a3ef5f-36a5-42b6-ac38-ccb9354ed352",
   "metadata": {
    "tags": []
   },
   "outputs": [],
   "source": [
    "import scipy\n",
    "scipy.__version__\n",
    "import scipy.stats as stats "
   ]
  },
  {
   "cell_type": "code",
   "execution_count": 9,
   "id": "3e1e86a3-686f-425d-b44a-45a72dbdf08b",
   "metadata": {
    "tags": []
   },
   "outputs": [
    {
     "data": {
      "text/plain": [
       "Chi2ContingencyResult(statistic=102.88898875696056, pvalue=4.549251711298793e-23, dof=2, expected_freq=array([[133.09090909, 113.37373737, 302.53535354],\n",
       "       [ 82.90909091,  70.62626263, 188.46464646]]))"
      ]
     },
     "execution_count": 9,
     "metadata": {},
     "output_type": "execute_result"
    }
   ],
   "source": [
    "stats.chi2_contingency(observed=df_TFD_category_Pclass_pivot, correction=True)"
   ]
  },
  {
   "cell_type": "markdown",
   "id": "70c34b8c-0263-45f9-b1bd-457213ff1417",
   "metadata": {
    "tags": []
   },
   "source": [
    "#### x:연속형 / y:연속형 : 주로 상관관계 확인\n",
    "- correlation coefficient(상관계수/계측수치) \n",
    "    - -1 ~ 1 사이 \n",
    "    - 0에 가까우면 관계 없음, -1으로 갈수록 반비례, 1로 갈수록 정비례\n",
    "- 선정 변수 : age, Fare \n",
    "- 분석 내용: 나이에 따라서 요금의 변화가 있는가? \n",
    "    - 귀무가설: 나이에 따라서 요금 변화가 없다. \n",
    "    - 대립가설: 나이에 따라서 요금 변화가 있다.  \n",
    "- 분석 결론 (기준 : p-value 0.05)\n",
    "    - 통계 결론: 대립가설 참 \n",
    "    - 사실 결론: 나이에 따라서 요금이 올라간다. (statistic=0.0960666917690389, pvalue=0.010216277504446952)"
   ]
  },
  {
   "cell_type": "code",
   "execution_count": 16,
   "id": "f7316e6f-3626-46dd-bc27-91c47d7a123e",
   "metadata": {
    "tags": []
   },
   "outputs": [
    {
     "data": {
      "text/html": [
       "<div>\n",
       "<style scoped>\n",
       "    .dataframe tbody tr th:only-of-type {\n",
       "        vertical-align: middle;\n",
       "    }\n",
       "\n",
       "    .dataframe tbody tr th {\n",
       "        vertical-align: top;\n",
       "    }\n",
       "\n",
       "    .dataframe thead th {\n",
       "        text-align: right;\n",
       "    }\n",
       "</style>\n",
       "<table border=\"1\" class=\"dataframe\">\n",
       "  <thead>\n",
       "    <tr style=\"text-align: right;\">\n",
       "      <th></th>\n",
       "      <th>Age</th>\n",
       "      <th>Fare</th>\n",
       "    </tr>\n",
       "  </thead>\n",
       "  <tbody>\n",
       "    <tr>\n",
       "      <th>0</th>\n",
       "      <td>22.0</td>\n",
       "      <td>7.2500</td>\n",
       "    </tr>\n",
       "    <tr>\n",
       "      <th>1</th>\n",
       "      <td>38.0</td>\n",
       "      <td>71.2833</td>\n",
       "    </tr>\n",
       "    <tr>\n",
       "      <th>2</th>\n",
       "      <td>26.0</td>\n",
       "      <td>7.9250</td>\n",
       "    </tr>\n",
       "    <tr>\n",
       "      <th>3</th>\n",
       "      <td>35.0</td>\n",
       "      <td>53.1000</td>\n",
       "    </tr>\n",
       "    <tr>\n",
       "      <th>4</th>\n",
       "      <td>35.0</td>\n",
       "      <td>8.0500</td>\n",
       "    </tr>\n",
       "    <tr>\n",
       "      <th>...</th>\n",
       "      <td>...</td>\n",
       "      <td>...</td>\n",
       "    </tr>\n",
       "    <tr>\n",
       "      <th>886</th>\n",
       "      <td>27.0</td>\n",
       "      <td>13.0000</td>\n",
       "    </tr>\n",
       "    <tr>\n",
       "      <th>887</th>\n",
       "      <td>19.0</td>\n",
       "      <td>30.0000</td>\n",
       "    </tr>\n",
       "    <tr>\n",
       "      <th>888</th>\n",
       "      <td>NaN</td>\n",
       "      <td>23.4500</td>\n",
       "    </tr>\n",
       "    <tr>\n",
       "      <th>889</th>\n",
       "      <td>26.0</td>\n",
       "      <td>30.0000</td>\n",
       "    </tr>\n",
       "    <tr>\n",
       "      <th>890</th>\n",
       "      <td>32.0</td>\n",
       "      <td>7.7500</td>\n",
       "    </tr>\n",
       "  </tbody>\n",
       "</table>\n",
       "<p>891 rows × 2 columns</p>\n",
       "</div>"
      ],
      "text/plain": [
       "      Age     Fare\n",
       "0    22.0   7.2500\n",
       "1    38.0  71.2833\n",
       "2    26.0   7.9250\n",
       "3    35.0  53.1000\n",
       "4    35.0   8.0500\n",
       "..    ...      ...\n",
       "886  27.0  13.0000\n",
       "887  19.0  30.0000\n",
       "888   NaN  23.4500\n",
       "889  26.0  30.0000\n",
       "890  32.0   7.7500\n",
       "\n",
       "[891 rows x 2 columns]"
      ]
     },
     "execution_count": 16,
     "metadata": {},
     "output_type": "execute_result"
    }
   ],
   "source": [
    "df_TFD[['Age', 'Fare']].describe()\n",
    "df_Age_Fare = df_TFD[['Age', 'Fare']]\n",
    "df_Age_Fare"
   ]
  },
  {
   "cell_type": "code",
   "execution_count": 17,
   "id": "09be56de-8858-44c0-be39-7a4f8cdeb0e1",
   "metadata": {
    "tags": []
   },
   "outputs": [
    {
     "data": {
      "text/plain": [
       "Age     177\n",
       "Fare      0\n",
       "dtype: int64"
      ]
     },
     "execution_count": 17,
     "metadata": {},
     "output_type": "execute_result"
    }
   ],
   "source": [
    "df_Age_Fare.isnull().sum()"
   ]
  },
  {
   "cell_type": "code",
   "execution_count": 18,
   "id": "04be8620-660a-465f-8bb4-af23711a47a0",
   "metadata": {
    "tags": []
   },
   "outputs": [],
   "source": [
    "df_Age_Fare = df_Age_Fare.dropna().copy()"
   ]
  },
  {
   "cell_type": "code",
   "execution_count": 19,
   "id": "0b4b66bf-81ac-4a36-9e7d-9657c0ca0c70",
   "metadata": {
    "tags": []
   },
   "outputs": [
    {
     "data": {
      "text/html": [
       "<div>\n",
       "<style scoped>\n",
       "    .dataframe tbody tr th:only-of-type {\n",
       "        vertical-align: middle;\n",
       "    }\n",
       "\n",
       "    .dataframe tbody tr th {\n",
       "        vertical-align: top;\n",
       "    }\n",
       "\n",
       "    .dataframe thead th {\n",
       "        text-align: right;\n",
       "    }\n",
       "</style>\n",
       "<table border=\"1\" class=\"dataframe\">\n",
       "  <thead>\n",
       "    <tr style=\"text-align: right;\">\n",
       "      <th></th>\n",
       "      <th>Age</th>\n",
       "      <th>Fare</th>\n",
       "    </tr>\n",
       "  </thead>\n",
       "  <tbody>\n",
       "    <tr>\n",
       "      <th>Age</th>\n",
       "      <td>1.000000</td>\n",
       "      <td>0.096067</td>\n",
       "    </tr>\n",
       "    <tr>\n",
       "      <th>Fare</th>\n",
       "      <td>0.096067</td>\n",
       "      <td>1.000000</td>\n",
       "    </tr>\n",
       "  </tbody>\n",
       "</table>\n",
       "</div>"
      ],
      "text/plain": [
       "           Age      Fare\n",
       "Age   1.000000  0.096067\n",
       "Fare  0.096067  1.000000"
      ]
     },
     "execution_count": 19,
     "metadata": {},
     "output_type": "execute_result"
    }
   ],
   "source": [
    "df_Age_Fare.corr()\n",
    "# 유의수준(분포적으로 유의미한건가)확인 "
   ]
  },
  {
   "cell_type": "code",
   "execution_count": 20,
   "id": "9af11434-3951-4be9-923c-fba8e063f8a1",
   "metadata": {
    "tags": []
   },
   "outputs": [
    {
     "data": {
      "text/plain": [
       "PearsonRResult(statistic=0.0960666917690389, pvalue=0.010216277504446952)"
      ]
     },
     "execution_count": 20,
     "metadata": {},
     "output_type": "execute_result"
    }
   ],
   "source": [
    "stats.pearsonr(df_Age_Fare['Age'], df_Age_Fare['Fare'])"
   ]
  },
  {
   "cell_type": "markdown",
   "id": "866d5f4c-59ef-48a5-a464-70f4796db0aa",
   "metadata": {},
   "source": [
    "Quest \n",
    "- 목표변수 'survived', 설명변수 'pclass', 'sex', 'age'\n",
    "- 목표변수에 대한 설명변수들에 대한 인사이트 찾기 \n",
    "- for문으로 자동화"
   ]
  },
  {
   "cell_type": "markdown",
   "id": "a6bbf04b-7b80-4f2d-a362-f220c2847c4f",
   "metadata": {
    "tags": []
   },
   "source": [
    "#### 인사이트 \n",
    "- ticket class에 따라 생존율이 달라진다. \n",
    "- 성별에 따라 생존율이 달라진다. \n",
    "- 나이에 따라 나이에 따라 생존율이 달라진다고 할 수 없다. \n",
    "- 생존율이라는 목표변수에는 ticket class와 성별을 설명변수로 사용하기에 적합하다. "
   ]
  },
  {
   "cell_type": "code",
   "execution_count": 46,
   "id": "d13e6683-bdbf-4e4f-96a9-f2a91e5e02e8",
   "metadata": {
    "tags": []
   },
   "outputs": [
    {
     "data": {
      "text/plain": [
       "Survived    0\n",
       "Pclass      0\n",
       "Sex         0\n",
       "Age         0\n",
       "dtype: int64"
      ]
     },
     "execution_count": 46,
     "metadata": {},
     "output_type": "execute_result"
    }
   ],
   "source": [
    "df_TFD_essential.isnull().sum()"
   ]
  },
  {
   "cell_type": "code",
   "execution_count": 45,
   "id": "68003f75-40f7-4e43-a4cc-4fa7c98d2a5b",
   "metadata": {
    "tags": []
   },
   "outputs": [],
   "source": [
    "df_TFD_essential = df_TFD[['Survived', 'Pclass', 'Sex', 'Age']].dropna().copy()"
   ]
  },
  {
   "cell_type": "code",
   "execution_count": 49,
   "id": "30eaff51-d3ac-4041-b8f1-c462506f4f65",
   "metadata": {
    "tags": []
   },
   "outputs": [
    {
     "name": "stdout",
     "output_type": "stream",
     "text": [
      "<class 'pandas.core.frame.DataFrame'>\n",
      "Int64Index: 714 entries, 0 to 890\n",
      "Data columns (total 4 columns):\n",
      " #   Column    Non-Null Count  Dtype  \n",
      "---  ------    --------------  -----  \n",
      " 0   Survived  714 non-null    object \n",
      " 1   Pclass    714 non-null    object \n",
      " 2   Sex       714 non-null    object \n",
      " 3   Age       714 non-null    float64\n",
      "dtypes: float64(1), object(3)\n",
      "memory usage: 27.9+ KB\n"
     ]
    }
   ],
   "source": [
    "df_TFD_essential.info()"
   ]
  },
  {
   "cell_type": "code",
   "execution_count": 50,
   "id": "5a1618d3-c786-4dba-a54b-ad6c3375ef28",
   "metadata": {
    "tags": []
   },
   "outputs": [
    {
     "name": "stdout",
     "output_type": "stream",
     "text": [
      "<class 'pandas.core.frame.DataFrame'>\n",
      "Int64Index: 714 entries, 0 to 890\n",
      "Data columns (total 4 columns):\n",
      " #   Column    Non-Null Count  Dtype  \n",
      "---  ------    --------------  -----  \n",
      " 0   Survived  714 non-null    object \n",
      " 1   Pclass    714 non-null    object \n",
      " 2   Sex       714 non-null    object \n",
      " 3   Age       714 non-null    float64\n",
      "dtypes: float64(1), object(3)\n",
      "memory usage: 27.9+ KB\n"
     ]
    }
   ],
   "source": [
    "df_TFD_essential[['Survived', 'Pclass']] = df_TFD_essential[['Survived', 'Pclass']].astype(object)\n",
    "df_TFD_essential.info()"
   ]
  },
  {
   "cell_type": "markdown",
   "id": "6ede8814-1c6d-4d99-a5b6-68af5b050441",
   "metadata": {
    "tags": []
   },
   "source": [
    "#### x 범주형, y 범주형 \n",
    "- 선정 변수 : Pclass, Survived\n",
    "- 분석 내용: ticket class에 따라 생존율이 달라지는가? \n",
    "    - 귀무가설: ticket class에 따라 생존율이 달라지지 않는다. \n",
    "    - 대립가설: ticket class에 따라 생존율이 달라진다. \n",
    "- 분석 결론 (기준 : p-value=0.05 / 해당pvalue=6.7098617497568594e-21)\n",
    "    - 통계 결론: 대립가설이 참 (귀무가설 기각)\n",
    "    - 사실 결론: ticket class에 따라 생존율이 달라진다. "
   ]
  },
  {
   "cell_type": "code",
   "execution_count": 51,
   "id": "2cb0301b-d960-4c03-8d2d-2cc33b28b8ea",
   "metadata": {
    "tags": []
   },
   "outputs": [
    {
     "data": {
      "text/html": [
       "<div>\n",
       "<style scoped>\n",
       "    .dataframe tbody tr th:only-of-type {\n",
       "        vertical-align: middle;\n",
       "    }\n",
       "\n",
       "    .dataframe tbody tr th {\n",
       "        vertical-align: top;\n",
       "    }\n",
       "\n",
       "    .dataframe thead th {\n",
       "        text-align: right;\n",
       "    }\n",
       "</style>\n",
       "<table border=\"1\" class=\"dataframe\">\n",
       "  <thead>\n",
       "    <tr style=\"text-align: right;\">\n",
       "      <th></th>\n",
       "      <th>Survived</th>\n",
       "      <th>Pclass</th>\n",
       "    </tr>\n",
       "  </thead>\n",
       "  <tbody>\n",
       "    <tr>\n",
       "      <th>count</th>\n",
       "      <td>714</td>\n",
       "      <td>714</td>\n",
       "    </tr>\n",
       "    <tr>\n",
       "      <th>unique</th>\n",
       "      <td>2</td>\n",
       "      <td>3</td>\n",
       "    </tr>\n",
       "    <tr>\n",
       "      <th>top</th>\n",
       "      <td>0</td>\n",
       "      <td>3</td>\n",
       "    </tr>\n",
       "    <tr>\n",
       "      <th>freq</th>\n",
       "      <td>424</td>\n",
       "      <td>355</td>\n",
       "    </tr>\n",
       "  </tbody>\n",
       "</table>\n",
       "</div>"
      ],
      "text/plain": [
       "        Survived  Pclass\n",
       "count        714     714\n",
       "unique         2       3\n",
       "top            0       3\n",
       "freq         424     355"
      ]
     },
     "execution_count": 51,
     "metadata": {},
     "output_type": "execute_result"
    }
   ],
   "source": [
    "df_TFD_essential[['Survived', 'Pclass']].describe()"
   ]
  },
  {
   "cell_type": "code",
   "execution_count": 52,
   "id": "5978b35c-94c2-4075-b087-be66e657ead4",
   "metadata": {
    "tags": []
   },
   "outputs": [],
   "source": [
    "df_TFD_category_Pclass= df_TFD_essential[['Survived', 'Pclass']]"
   ]
  },
  {
   "cell_type": "code",
   "execution_count": 54,
   "id": "8ce24afe-fb03-4d3d-b3f1-78b9dbff0387",
   "metadata": {
    "tags": []
   },
   "outputs": [
    {
     "data": {
      "text/html": [
       "<div>\n",
       "<style scoped>\n",
       "    .dataframe tbody tr th:only-of-type {\n",
       "        vertical-align: middle;\n",
       "    }\n",
       "\n",
       "    .dataframe tbody tr th {\n",
       "        vertical-align: top;\n",
       "    }\n",
       "\n",
       "    .dataframe thead th {\n",
       "        text-align: right;\n",
       "    }\n",
       "</style>\n",
       "<table border=\"1\" class=\"dataframe\">\n",
       "  <thead>\n",
       "    <tr style=\"text-align: right;\">\n",
       "      <th>Pclass</th>\n",
       "      <th>1</th>\n",
       "      <th>2</th>\n",
       "      <th>3</th>\n",
       "    </tr>\n",
       "    <tr>\n",
       "      <th>Survived</th>\n",
       "      <th></th>\n",
       "      <th></th>\n",
       "      <th></th>\n",
       "    </tr>\n",
       "  </thead>\n",
       "  <tbody>\n",
       "    <tr>\n",
       "      <th>0</th>\n",
       "      <td>64</td>\n",
       "      <td>90</td>\n",
       "      <td>270</td>\n",
       "    </tr>\n",
       "    <tr>\n",
       "      <th>1</th>\n",
       "      <td>122</td>\n",
       "      <td>83</td>\n",
       "      <td>85</td>\n",
       "    </tr>\n",
       "  </tbody>\n",
       "</table>\n",
       "</div>"
      ],
      "text/plain": [
       "Pclass      1   2    3\n",
       "Survived              \n",
       "0          64  90  270\n",
       "1         122  83   85"
      ]
     },
     "execution_count": 54,
     "metadata": {},
     "output_type": "execute_result"
    }
   ],
   "source": [
    "df_TFD_category_Pclass_pivot = pd.pivot_table(data=df_TFD_category_Pclass, index='Survived', columns='Pclass', aggfunc=len)\n",
    "df_TFD_category_Pclass_pivot"
   ]
  },
  {
   "cell_type": "code",
   "execution_count": 55,
   "id": "a48e3d7e-83b4-49ea-bb87-de4d09ab7e20",
   "metadata": {
    "tags": []
   },
   "outputs": [],
   "source": [
    "import scipy\n",
    "scipy.__version__\n",
    "import scipy.stats as stats "
   ]
  },
  {
   "cell_type": "code",
   "execution_count": 56,
   "id": "a4521b41-7264-43a8-9964-6c90cb038ee7",
   "metadata": {
    "tags": []
   },
   "outputs": [
    {
     "data": {
      "text/plain": [
       "Chi2ContingencyResult(statistic=92.90141721143323, pvalue=6.7098617497568594e-21, dof=2, expected_freq=array([[110.45378151, 102.73389356, 210.81232493],\n",
       "       [ 75.54621849,  70.26610644, 144.18767507]]))"
      ]
     },
     "execution_count": 56,
     "metadata": {},
     "output_type": "execute_result"
    }
   ],
   "source": [
    "stats.chi2_contingency(observed=df_TFD_category_Pclass_pivot, correction=True)"
   ]
  },
  {
   "cell_type": "markdown",
   "id": "94d5a44c-d1ac-463d-8f07-f25c86683329",
   "metadata": {},
   "source": [
    "#### x 범주형, y 범주형 \n",
    "- 선정 변수 : Sex, Survived\n",
    "- 분석 내용: 성별에 따라 생존율이 달라지는가? \n",
    "    - 귀무가설: 성별에 따라 생존율이 달라지지 않는다. \n",
    "    - 대립가설: 성별에 따라 생존율이 달라진다.  \n",
    "- 분석 결론 (기준 : p-value= 0.05/ 해당 pvalue=1.6716678441395054e-46)\n",
    "    - 통계 결론: 대립가설이 참 (귀무가설 기각)\n",
    "    - 사실 결론: 성별에 따라 생존율이 달라진다. "
   ]
  },
  {
   "cell_type": "code",
   "execution_count": 57,
   "id": "653e3fde-1312-4226-8b96-217b2d4196cd",
   "metadata": {
    "tags": []
   },
   "outputs": [
    {
     "data": {
      "text/html": [
       "<div>\n",
       "<style scoped>\n",
       "    .dataframe tbody tr th:only-of-type {\n",
       "        vertical-align: middle;\n",
       "    }\n",
       "\n",
       "    .dataframe tbody tr th {\n",
       "        vertical-align: top;\n",
       "    }\n",
       "\n",
       "    .dataframe thead th {\n",
       "        text-align: right;\n",
       "    }\n",
       "</style>\n",
       "<table border=\"1\" class=\"dataframe\">\n",
       "  <thead>\n",
       "    <tr style=\"text-align: right;\">\n",
       "      <th></th>\n",
       "      <th>Survived</th>\n",
       "      <th>Sex</th>\n",
       "    </tr>\n",
       "  </thead>\n",
       "  <tbody>\n",
       "    <tr>\n",
       "      <th>count</th>\n",
       "      <td>714</td>\n",
       "      <td>714</td>\n",
       "    </tr>\n",
       "    <tr>\n",
       "      <th>unique</th>\n",
       "      <td>2</td>\n",
       "      <td>2</td>\n",
       "    </tr>\n",
       "    <tr>\n",
       "      <th>top</th>\n",
       "      <td>0</td>\n",
       "      <td>male</td>\n",
       "    </tr>\n",
       "    <tr>\n",
       "      <th>freq</th>\n",
       "      <td>424</td>\n",
       "      <td>453</td>\n",
       "    </tr>\n",
       "  </tbody>\n",
       "</table>\n",
       "</div>"
      ],
      "text/plain": [
       "        Survived   Sex\n",
       "count        714   714\n",
       "unique         2     2\n",
       "top            0  male\n",
       "freq         424   453"
      ]
     },
     "execution_count": 57,
     "metadata": {},
     "output_type": "execute_result"
    }
   ],
   "source": [
    "df_TFD_essential[['Survived', 'Sex']].describe()"
   ]
  },
  {
   "cell_type": "code",
   "execution_count": 59,
   "id": "ccfed988-1881-4523-94ee-edf6241b14dd",
   "metadata": {
    "tags": []
   },
   "outputs": [
    {
     "data": {
      "text/html": [
       "<div>\n",
       "<style scoped>\n",
       "    .dataframe tbody tr th:only-of-type {\n",
       "        vertical-align: middle;\n",
       "    }\n",
       "\n",
       "    .dataframe tbody tr th {\n",
       "        vertical-align: top;\n",
       "    }\n",
       "\n",
       "    .dataframe thead th {\n",
       "        text-align: right;\n",
       "    }\n",
       "</style>\n",
       "<table border=\"1\" class=\"dataframe\">\n",
       "  <thead>\n",
       "    <tr style=\"text-align: right;\">\n",
       "      <th></th>\n",
       "      <th>Survived</th>\n",
       "      <th>Sex</th>\n",
       "    </tr>\n",
       "  </thead>\n",
       "  <tbody>\n",
       "    <tr>\n",
       "      <th>0</th>\n",
       "      <td>0</td>\n",
       "      <td>male</td>\n",
       "    </tr>\n",
       "    <tr>\n",
       "      <th>1</th>\n",
       "      <td>1</td>\n",
       "      <td>female</td>\n",
       "    </tr>\n",
       "    <tr>\n",
       "      <th>2</th>\n",
       "      <td>1</td>\n",
       "      <td>female</td>\n",
       "    </tr>\n",
       "    <tr>\n",
       "      <th>3</th>\n",
       "      <td>1</td>\n",
       "      <td>female</td>\n",
       "    </tr>\n",
       "    <tr>\n",
       "      <th>4</th>\n",
       "      <td>0</td>\n",
       "      <td>male</td>\n",
       "    </tr>\n",
       "    <tr>\n",
       "      <th>...</th>\n",
       "      <td>...</td>\n",
       "      <td>...</td>\n",
       "    </tr>\n",
       "    <tr>\n",
       "      <th>885</th>\n",
       "      <td>0</td>\n",
       "      <td>female</td>\n",
       "    </tr>\n",
       "    <tr>\n",
       "      <th>886</th>\n",
       "      <td>0</td>\n",
       "      <td>male</td>\n",
       "    </tr>\n",
       "    <tr>\n",
       "      <th>887</th>\n",
       "      <td>1</td>\n",
       "      <td>female</td>\n",
       "    </tr>\n",
       "    <tr>\n",
       "      <th>889</th>\n",
       "      <td>1</td>\n",
       "      <td>male</td>\n",
       "    </tr>\n",
       "    <tr>\n",
       "      <th>890</th>\n",
       "      <td>0</td>\n",
       "      <td>male</td>\n",
       "    </tr>\n",
       "  </tbody>\n",
       "</table>\n",
       "<p>714 rows × 2 columns</p>\n",
       "</div>"
      ],
      "text/plain": [
       "    Survived     Sex\n",
       "0          0    male\n",
       "1          1  female\n",
       "2          1  female\n",
       "3          1  female\n",
       "4          0    male\n",
       "..       ...     ...\n",
       "885        0  female\n",
       "886        0    male\n",
       "887        1  female\n",
       "889        1    male\n",
       "890        0    male\n",
       "\n",
       "[714 rows x 2 columns]"
      ]
     },
     "execution_count": 59,
     "metadata": {},
     "output_type": "execute_result"
    }
   ],
   "source": [
    "df_TFD_category_Sex= df_TFD_essential[['Survived', 'Sex']]"
   ]
  },
  {
   "cell_type": "code",
   "execution_count": 61,
   "id": "5a1fe054-2b4e-4ac5-a70d-b8861624678a",
   "metadata": {
    "tags": []
   },
   "outputs": [
    {
     "data": {
      "text/html": [
       "<div>\n",
       "<style scoped>\n",
       "    .dataframe tbody tr th:only-of-type {\n",
       "        vertical-align: middle;\n",
       "    }\n",
       "\n",
       "    .dataframe tbody tr th {\n",
       "        vertical-align: top;\n",
       "    }\n",
       "\n",
       "    .dataframe thead th {\n",
       "        text-align: right;\n",
       "    }\n",
       "</style>\n",
       "<table border=\"1\" class=\"dataframe\">\n",
       "  <thead>\n",
       "    <tr style=\"text-align: right;\">\n",
       "      <th>Sex</th>\n",
       "      <th>female</th>\n",
       "      <th>male</th>\n",
       "    </tr>\n",
       "    <tr>\n",
       "      <th>Survived</th>\n",
       "      <th></th>\n",
       "      <th></th>\n",
       "    </tr>\n",
       "  </thead>\n",
       "  <tbody>\n",
       "    <tr>\n",
       "      <th>0</th>\n",
       "      <td>64</td>\n",
       "      <td>360</td>\n",
       "    </tr>\n",
       "    <tr>\n",
       "      <th>1</th>\n",
       "      <td>197</td>\n",
       "      <td>93</td>\n",
       "    </tr>\n",
       "  </tbody>\n",
       "</table>\n",
       "</div>"
      ],
      "text/plain": [
       "Sex       female  male\n",
       "Survived              \n",
       "0             64   360\n",
       "1            197    93"
      ]
     },
     "execution_count": 61,
     "metadata": {},
     "output_type": "execute_result"
    }
   ],
   "source": [
    "category_Sex_pivot = pd.pivot_table(data=df_TFD_category_Sex, index='Survived', columns='Sex', aggfunc=len)\n",
    "category_Sex_pivot"
   ]
  },
  {
   "cell_type": "code",
   "execution_count": 62,
   "id": "b63f967c-43bc-4048-a09e-e9cd2895338a",
   "metadata": {
    "tags": []
   },
   "outputs": [
    {
     "data": {
      "text/plain": [
       "Chi2ContingencyResult(statistic=205.0258275285591, pvalue=1.6716678441395054e-46, dof=1, expected_freq=array([[154.99159664, 269.00840336],\n",
       "       [106.00840336, 183.99159664]]))"
      ]
     },
     "execution_count": 62,
     "metadata": {},
     "output_type": "execute_result"
    }
   ],
   "source": [
    "stats.chi2_contingency(observed=category_Sex_pivot, correction=True)"
   ]
  },
  {
   "cell_type": "markdown",
   "id": "46751fe1-6b44-4c6a-9045-1da0c3a1f174",
   "metadata": {
    "tags": []
   },
   "source": [
    "#### x:범주형, y:연속형 -- Wilcoxon Test \n",
    "- 선정 변수 : Age, Survived\n",
    "- 분석 내용: 나이에 따라 생존율이 달라지는가? \n",
    "    - 귀무가설: 나이에 따라 생존율이 달라지지 않는다. \n",
    "    - 대립가설: 나이에 따라 생존율이 달라진다. \n",
    "- 분석 결론 (pvalue=0.16056581946611614)\n",
    "    - 통계 결론: 귀무가설이 참 \n",
    "    - 사실 결론: 나이에 따라 생존율이 달라지지 않는다. "
   ]
  },
  {
   "cell_type": "code",
   "execution_count": 63,
   "id": "5256e3a8-f012-440b-a81d-4685230c9a8d",
   "metadata": {
    "tags": []
   },
   "outputs": [
    {
     "data": {
      "text/plain": [
       "<Axes: xlabel='Survived', ylabel='count'>"
      ]
     },
     "execution_count": 63,
     "metadata": {},
     "output_type": "execute_result"
    },
    {
     "data": {
      "image/png": "[encoded data removed]",
      "text/plain": [
       "<Figure size 640x480 with 1 Axes>"
      ]
     },
     "metadata": {},
     "output_type": "display_data"
    }
   ],
   "source": [
    "sns.countplot(data=df_TFD_essential, x='Survived')"
   ]
  },
  {
   "cell_type": "code",
   "execution_count": 65,
   "id": "56f6b605-8f50-4727-b9f9-874676dda8a0",
   "metadata": {
    "tags": []
   },
   "outputs": [
    {
     "data": {
      "text/plain": [
       "0    424\n",
       "1    290\n",
       "Name: Survived, dtype: int64"
      ]
     },
     "execution_count": 65,
     "metadata": {},
     "output_type": "execute_result"
    }
   ],
   "source": [
    "df_TFD_essential['Survived'].value_counts()"
   ]
  },
  {
   "cell_type": "code",
   "execution_count": 68,
   "id": "4b730bc2-7169-4ad8-a02c-9c600a8f8e5e",
   "metadata": {
    "tags": []
   },
   "outputs": [
    {
     "data": {
      "text/html": [
       "<div>\n",
       "<style scoped>\n",
       "    .dataframe tbody tr th:only-of-type {\n",
       "        vertical-align: middle;\n",
       "    }\n",
       "\n",
       "    .dataframe tbody tr th {\n",
       "        vertical-align: top;\n",
       "    }\n",
       "\n",
       "    .dataframe thead th {\n",
       "        text-align: right;\n",
       "    }\n",
       "</style>\n",
       "<table border=\"1\" class=\"dataframe\">\n",
       "  <thead>\n",
       "    <tr style=\"text-align: right;\">\n",
       "      <th></th>\n",
       "      <th>Survived</th>\n",
       "      <th>Age</th>\n",
       "    </tr>\n",
       "  </thead>\n",
       "  <tbody>\n",
       "    <tr>\n",
       "      <th>0</th>\n",
       "      <td>0</td>\n",
       "      <td>22.0</td>\n",
       "    </tr>\n",
       "    <tr>\n",
       "      <th>1</th>\n",
       "      <td>1</td>\n",
       "      <td>38.0</td>\n",
       "    </tr>\n",
       "  </tbody>\n",
       "</table>\n",
       "</div>"
      ],
      "text/plain": [
       "  Survived   Age\n",
       "0        0  22.0\n",
       "1        1  38.0"
      ]
     },
     "execution_count": 68,
     "metadata": {},
     "output_type": "execute_result"
    }
   ],
   "source": [
    "df_TFD_continuous_Age = df_TFD_essential[['Survived', 'Age']]\n",
    "df_TFD_continuous_Age[:2]"
   ]
  },
  {
   "cell_type": "code",
   "execution_count": 69,
   "id": "294b908d-ca40-43a7-a9a0-09b375a2a8a2",
   "metadata": {
    "tags": []
   },
   "outputs": [
    {
     "name": "stdout",
     "output_type": "stream",
     "text": [
      "<class 'pandas.core.frame.DataFrame'>\n",
      "Int64Index: 714 entries, 0 to 890\n",
      "Data columns (total 2 columns):\n",
      " #   Column    Non-Null Count  Dtype  \n",
      "---  ------    --------------  -----  \n",
      " 0   Survived  714 non-null    object \n",
      " 1   Age       714 non-null    float64\n",
      "dtypes: float64(1), object(1)\n",
      "memory usage: 16.7+ KB\n"
     ]
    }
   ],
   "source": [
    "df_TFD_continuous_Age.info()"
   ]
  },
  {
   "cell_type": "markdown",
   "id": "2bf00576-14dc-4421-b209-0cd283932255",
   "metadata": {},
   "source": [
    "#정규성검정 \n",
    "- 5천개 이하므로 shapiro 검증 사용 \n",
    "- pvalue=7.340329943872348e-08 정규분포 아니다 "
   ]
  },
  {
   "cell_type": "code",
   "execution_count": 73,
   "id": "a635d4e1-7b79-4d12-8ef8-d573d992f80b",
   "metadata": {
    "tags": []
   },
   "outputs": [
    {
     "data": {
      "text/plain": [
       "ShapiroResult(statistic=0.981458306312561, pvalue=7.340329943872348e-08)"
      ]
     },
     "execution_count": 73,
     "metadata": {},
     "output_type": "execute_result"
    }
   ],
   "source": [
    "stats.shapiro(df_TFD_continuous_Age['Age'])\n",
    "# pvalue=7.340329943872348e-08 정규분포 아니다 "
   ]
  },
  {
   "cell_type": "code",
   "execution_count": 74,
   "id": "b61eb2a1-876e-492b-a2cc-486600afcde3",
   "metadata": {
    "tags": []
   },
   "outputs": [
    {
     "data": {
      "text/plain": [
       "<Axes: xlabel='Age', ylabel='Count'>"
      ]
     },
     "execution_count": 74,
     "metadata": {},
     "output_type": "execute_result"
    },
    {
     "data": {
      "image/png": "[encoded data removed]",
      "text/plain": [
       "<Figure size 640x480 with 1 Axes>"
      ]
     },
     "metadata": {},
     "output_type": "display_data"
    }
   ],
   "source": [
    "sns.histplot(data=df_TFD_continuous_Age, x='Age', kde=True)"
   ]
  },
  {
   "cell_type": "markdown",
   "id": "b7a0816e-58a1-49dc-83a2-3492f2d46aa4",
   "metadata": {
    "tags": []
   },
   "source": [
    "범주형항목 따라 검증: 2개 항목 Wilcoxon test "
   ]
  },
  {
   "cell_type": "code",
   "execution_count": 77,
   "id": "ceec447e-0bf1-4ca3-bc73-0a53692e29ab",
   "metadata": {
    "tags": []
   },
   "outputs": [
    {
     "data": {
      "text/plain": [
       "0    424\n",
       "1    290\n",
       "Name: Survived, dtype: int64"
      ]
     },
     "execution_count": 77,
     "metadata": {},
     "output_type": "execute_result"
    }
   ],
   "source": [
    "df_TFD_continuous_Age['Survived'].value_counts()"
   ]
  },
  {
   "cell_type": "code",
   "execution_count": 78,
   "id": "4977f6de-ff05-4d3c-9284-d4898cf7e43c",
   "metadata": {
    "tags": []
   },
   "outputs": [
    {
     "data": {
      "text/html": [
       "<div>\n",
       "<style scoped>\n",
       "    .dataframe tbody tr th:only-of-type {\n",
       "        vertical-align: middle;\n",
       "    }\n",
       "\n",
       "    .dataframe tbody tr th {\n",
       "        vertical-align: top;\n",
       "    }\n",
       "\n",
       "    .dataframe thead th {\n",
       "        text-align: right;\n",
       "    }\n",
       "</style>\n",
       "<table border=\"1\" class=\"dataframe\">\n",
       "  <thead>\n",
       "    <tr style=\"text-align: right;\">\n",
       "      <th></th>\n",
       "      <th>Survived</th>\n",
       "      <th>Age</th>\n",
       "    </tr>\n",
       "  </thead>\n",
       "  <tbody>\n",
       "    <tr>\n",
       "      <th>0</th>\n",
       "      <td>0</td>\n",
       "      <td>22.0</td>\n",
       "    </tr>\n",
       "    <tr>\n",
       "      <th>4</th>\n",
       "      <td>0</td>\n",
       "      <td>35.0</td>\n",
       "    </tr>\n",
       "  </tbody>\n",
       "</table>\n",
       "</div>"
      ],
      "text/plain": [
       "  Survived   Age\n",
       "0        0  22.0\n",
       "4        0  35.0"
      ]
     },
     "execution_count": 78,
     "metadata": {},
     "output_type": "execute_result"
    }
   ],
   "source": [
    "df_0 = df_TFD_continuous_Age[df_TFD_continuous_Age['Survived'] == 0]\n",
    "df_0[:2]"
   ]
  },
  {
   "cell_type": "code",
   "execution_count": 79,
   "id": "92616600-8166-4d3a-9df8-0eee1df67539",
   "metadata": {
    "tags": []
   },
   "outputs": [
    {
     "data": {
      "text/html": [
       "<div>\n",
       "<style scoped>\n",
       "    .dataframe tbody tr th:only-of-type {\n",
       "        vertical-align: middle;\n",
       "    }\n",
       "\n",
       "    .dataframe tbody tr th {\n",
       "        vertical-align: top;\n",
       "    }\n",
       "\n",
       "    .dataframe thead th {\n",
       "        text-align: right;\n",
       "    }\n",
       "</style>\n",
       "<table border=\"1\" class=\"dataframe\">\n",
       "  <thead>\n",
       "    <tr style=\"text-align: right;\">\n",
       "      <th></th>\n",
       "      <th>Survived</th>\n",
       "      <th>Age</th>\n",
       "    </tr>\n",
       "  </thead>\n",
       "  <tbody>\n",
       "    <tr>\n",
       "      <th>1</th>\n",
       "      <td>1</td>\n",
       "      <td>38.0</td>\n",
       "    </tr>\n",
       "    <tr>\n",
       "      <th>2</th>\n",
       "      <td>1</td>\n",
       "      <td>26.0</td>\n",
       "    </tr>\n",
       "  </tbody>\n",
       "</table>\n",
       "</div>"
      ],
      "text/plain": [
       "  Survived   Age\n",
       "1        1  38.0\n",
       "2        1  26.0"
      ]
     },
     "execution_count": 79,
     "metadata": {},
     "output_type": "execute_result"
    }
   ],
   "source": [
    "df_1 = df_TFD_continuous_Age[df_TFD_continuous_Age['Survived'] == 1]\n",
    "df_1[:2]"
   ]
  },
  {
   "cell_type": "code",
   "execution_count": 80,
   "id": "0ef24871-7f0a-4773-b61e-a418e423a038",
   "metadata": {
    "tags": []
   },
   "outputs": [
    {
     "data": {
      "text/plain": [
       "RanksumsResult(statistic=1.4031711128676054, pvalue=0.16056581946611614)"
      ]
     },
     "execution_count": 80,
     "metadata": {},
     "output_type": "execute_result"
    }
   ],
   "source": [
    "# wilcoxon test \n",
    "stats.ranksums(df_0['Age'], df_1['Age'])\n",
    "# pvalue=0.16056581946611614로 두 개의 평균은 차이가 없다 "
   ]
  },
  {
   "cell_type": "code",
   "execution_count": null,
   "id": "2bab68c6-6223-423b-932a-cc1d68565ed4",
   "metadata": {},
   "outputs": [],
   "source": []
  }
 ],
 "metadata": {
  "kernelspec": {
   "display_name": "Python 3 (ipykernel)",
   "language": "python",
   "name": "python3"
  },
  "language_info": {
   "codemirror_mode": {
    "name": "ipython",
    "version": 3
   },
   "file_extension": ".py",
   "mimetype": "text/x-python",
   "name": "python",
   "nbconvert_exporter": "python",
   "pygments_lexer": "ipython3",
   "version": "3.11.3"
  }
 },
 "nbformat": 4,
 "nbformat_minor": 5
}
