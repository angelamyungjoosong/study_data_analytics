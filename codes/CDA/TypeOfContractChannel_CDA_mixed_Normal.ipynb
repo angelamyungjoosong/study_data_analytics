{
 "cells": [
  {
   "cell_type": "code",
   "execution_count": 43,
   "id": "e5c5246b-df3f-40f0-8c05-352741be840b",
   "metadata": {
    "tags": []
   },
   "outputs": [],
   "source": [
    "import matplotlib.pyplot as plt\n",
    "import matplotlib as mpl\n",
    "mpl.rc('font',family='Malgun Gothic')\n",
    "import seaborn as sns\n",
    "import pandas as pd\n",
    "import scipy.stats as stats"
   ]
  },
  {
   "cell_type": "code",
   "execution_count": 44,
   "id": "fb565562-65d7-4c55-aa6b-bb6182da9210",
   "metadata": {
    "tags": []
   },
   "outputs": [
    {
     "data": {
      "text/html": [
       "<div>\n",
       "<style scoped>\n",
       "    .dataframe tbody tr th:only-of-type {\n",
       "        vertical-align: middle;\n",
       "    }\n",
       "\n",
       "    .dataframe tbody tr th {\n",
       "        vertical-align: top;\n",
       "    }\n",
       "\n",
       "    .dataframe thead th {\n",
       "        text-align: right;\n",
       "    }\n",
       "</style>\n",
       "<table border=\"1\" class=\"dataframe\">\n",
       "  <thead>\n",
       "    <tr style=\"text-align: right;\">\n",
       "      <th></th>\n",
       "      <th>id</th>\n",
       "      <th>type_of_contract</th>\n",
       "      <th>type_of_contract2</th>\n",
       "      <th>channel</th>\n",
       "      <th>datetime</th>\n",
       "      <th>Term</th>\n",
       "      <th>payment_type</th>\n",
       "      <th>product</th>\n",
       "      <th>amount</th>\n",
       "      <th>state</th>\n",
       "      <th>overdue_count</th>\n",
       "      <th>overdue</th>\n",
       "      <th>credit rating</th>\n",
       "      <th>bank</th>\n",
       "      <th>cancellation</th>\n",
       "      <th>age</th>\n",
       "      <th>Mileage</th>\n",
       "    </tr>\n",
       "  </thead>\n",
       "  <tbody>\n",
       "    <tr>\n",
       "      <th>0</th>\n",
       "      <td>66758234</td>\n",
       "      <td>렌탈</td>\n",
       "      <td>Normal</td>\n",
       "      <td>서비스 방문</td>\n",
       "      <td>2019-10-20</td>\n",
       "      <td>60</td>\n",
       "      <td>CMS</td>\n",
       "      <td>K1</td>\n",
       "      <td>96900</td>\n",
       "      <td>계약확정</td>\n",
       "      <td>0</td>\n",
       "      <td>없음</td>\n",
       "      <td>9.0</td>\n",
       "      <td>새마을금고</td>\n",
       "      <td>정상</td>\n",
       "      <td>43.0</td>\n",
       "      <td>1862.0</td>\n",
       "    </tr>\n",
       "    <tr>\n",
       "      <th>1</th>\n",
       "      <td>66755948</td>\n",
       "      <td>렌탈</td>\n",
       "      <td>Extension_Rental</td>\n",
       "      <td>서비스 방문</td>\n",
       "      <td>2019-10-20</td>\n",
       "      <td>60</td>\n",
       "      <td>카드이체</td>\n",
       "      <td>K1</td>\n",
       "      <td>102900</td>\n",
       "      <td>계약확정</td>\n",
       "      <td>0</td>\n",
       "      <td>없음</td>\n",
       "      <td>2.0</td>\n",
       "      <td>현대카드</td>\n",
       "      <td>정상</td>\n",
       "      <td>62.0</td>\n",
       "      <td>2532.0</td>\n",
       "    </tr>\n",
       "  </tbody>\n",
       "</table>\n",
       "</div>"
      ],
      "text/plain": [
       "         id type_of_contract type_of_contract2 channel    datetime  Term  \\\n",
       "0  66758234               렌탈            Normal  서비스 방문  2019-10-20    60   \n",
       "1  66755948               렌탈  Extension_Rental  서비스 방문  2019-10-20    60   \n",
       "\n",
       "  payment_type product  amount state  overdue_count overdue  credit rating  \\\n",
       "0          CMS      K1   96900  계약확정              0      없음            9.0   \n",
       "1         카드이체      K1  102900  계약확정              0      없음            2.0   \n",
       "\n",
       "    bank cancellation   age  Mileage  \n",
       "0  새마을금고           정상  43.0   1862.0  \n",
       "1   현대카드           정상  62.0   2532.0  "
      ]
     },
     "execution_count": 44,
     "metadata": {},
     "output_type": "execute_result"
    }
   ],
   "source": [
    "df_TOCC = pd.read_csv('../../../datasets/TypeOfContractChannel.csv')\n",
    "df_TOCC[:2]"
   ]
  },
  {
   "cell_type": "markdown",
   "id": "995eeb15-a2c1-49a8-a774-609f573a9374",
   "metadata": {
    "tags": []
   },
   "source": [
    "### 범주형 / 연속형 : 범주형에 따른 상관관계 확인 \n"
   ]
  },
  {
   "cell_type": "markdown",
   "id": "316e3bc8-72bb-4e8e-9ee2-e35d8d87f49c",
   "metadata": {
    "tags": []
   },
   "source": [
    "#### 선정 변수: channel(항목 2개), Mileage\\[:100\\](정규분포)\n",
    "- 분석 내용: channel 중 서비스방문과 홈쇼핑에 따른 마일리지 평균에 차이가 있는가? \n",
    "    - 귀무가설: 평균에 차이 없다. \n",
    "    - 대립가설: 평균에 차이 있다. \n",
    "- 분석 결론 (기준 : p-value 0.05)\n",
    "    - 통계 결론: pvalue=0.936, 귀무가설이 참. \n",
    "    - 사실 결론: 평균에 차이 없다.  ---> 이것만 가지고 인사이트 찾을 수 없다. (인사이트 찾으려면 대립가설이어야 함)"
   ]
  },
  {
   "cell_type": "code",
   "execution_count": 45,
   "id": "65557d11-4390-486b-8384-e1a68d6af4c1",
   "metadata": {
    "tags": []
   },
   "outputs": [
    {
     "data": {
      "text/html": [
       "<div>\n",
       "<style scoped>\n",
       "    .dataframe tbody tr th:only-of-type {\n",
       "        vertical-align: middle;\n",
       "    }\n",
       "\n",
       "    .dataframe tbody tr th {\n",
       "        vertical-align: top;\n",
       "    }\n",
       "\n",
       "    .dataframe thead th {\n",
       "        text-align: right;\n",
       "    }\n",
       "</style>\n",
       "<table border=\"1\" class=\"dataframe\">\n",
       "  <thead>\n",
       "    <tr style=\"text-align: right;\">\n",
       "      <th></th>\n",
       "      <th>channel</th>\n",
       "      <th>Mileage</th>\n",
       "    </tr>\n",
       "  </thead>\n",
       "  <tbody>\n",
       "    <tr>\n",
       "      <th>0</th>\n",
       "      <td>서비스 방문</td>\n",
       "      <td>1862.0</td>\n",
       "    </tr>\n",
       "    <tr>\n",
       "      <th>1</th>\n",
       "      <td>서비스 방문</td>\n",
       "      <td>2532.0</td>\n",
       "    </tr>\n",
       "  </tbody>\n",
       "</table>\n",
       "</div>"
      ],
      "text/plain": [
       "  channel  Mileage\n",
       "0  서비스 방문   1862.0\n",
       "1  서비스 방문   2532.0"
      ]
     },
     "execution_count": 45,
     "metadata": {},
     "output_type": "execute_result"
    }
   ],
   "source": [
    "# 검증 대상 항목만 필터링 and 2000개만 추출 (정규분포 자료 획득) \n",
    "condition = (df_TOCC['channel'] == '서비스 방문') | (df_TOCC['channel'] == '홈쇼핑/방송')\n",
    "df_channel_Mileage = df_TOCC[condition][['channel', 'Mileage']][:100]\n",
    "df_channel_Mileage[:2]"
   ]
  },
  {
   "cell_type": "code",
   "execution_count": 46,
   "id": "8b1326b4-feb9-40bc-9ae4-9a3760829c24",
   "metadata": {
    "tags": []
   },
   "outputs": [
    {
     "data": {
      "text/plain": [
       "channel     0\n",
       "Mileage    14\n",
       "dtype: int64"
      ]
     },
     "execution_count": 46,
     "metadata": {},
     "output_type": "execute_result"
    }
   ],
   "source": [
    "df_channel_Mileage.isnull().sum()"
   ]
  },
  {
   "cell_type": "code",
   "execution_count": 47,
   "id": "8a57d158-6f43-4e11-a77e-cfd1724f6a76",
   "metadata": {
    "tags": []
   },
   "outputs": [],
   "source": [
    "df_channel_Mileage = df_channel_Mileage.dropna()"
   ]
  },
  {
   "cell_type": "code",
   "execution_count": 48,
   "id": "ed8a5de6-5f92-4472-a6e4-0187eebfa748",
   "metadata": {
    "tags": []
   },
   "outputs": [
    {
     "data": {
      "text/plain": [
       "서비스 방문    49\n",
       "홈쇼핑/방송    37\n",
       "Name: channel, dtype: int64"
      ]
     },
     "execution_count": 48,
     "metadata": {},
     "output_type": "execute_result"
    }
   ],
   "source": [
    "df_channel_Mileage['channel'].value_counts()"
   ]
  },
  {
   "cell_type": "markdown",
   "id": "d4a73aed-1240-4127-99ff-85c0bf3f84b2",
   "metadata": {},
   "source": [
    "##### 정규성 검증 \n",
    "- row 갯수가 5천개를 기준으로 검증 방식 분리 "
   ]
  },
  {
   "cell_type": "code",
   "execution_count": 49,
   "id": "af912a36-65e3-4f78-82b8-4787a58d56d7",
   "metadata": {
    "tags": []
   },
   "outputs": [
    {
     "data": {
      "text/plain": [
       "ShapiroResult(statistic=0.9774371981620789, pvalue=0.1371416300535202)"
      ]
     },
     "execution_count": 49,
     "metadata": {},
     "output_type": "execute_result"
    }
   ],
   "source": [
    "stats.shapiro(df_channel_Mileage['Mileage'])\n",
    "# pvalue가 0.5이상이니까 정규분포 "
   ]
  },
  {
   "cell_type": "code",
   "execution_count": 50,
   "id": "1979a68c-6bfc-4567-9bf0-bce375e8b48d",
   "metadata": {
    "tags": []
   },
   "outputs": [
    {
     "data": {
      "text/plain": [
       "<Axes: xlabel='Mileage', ylabel='Count'>"
      ]
     },
     "execution_count": 50,
     "metadata": {},
     "output_type": "execute_result"
    },
    {
     "data": {
      "image/png": "[encoded data removed]",
      "text/plain": [
       "<Figure size 640x480 with 1 Axes>"
      ]
     },
     "metadata": {},
     "output_type": "display_data"
    }
   ],
   "source": [
    "sns.histplot(data=df_channel_Mileage, x='Mileage', kde=True)"
   ]
  },
  {
   "cell_type": "markdown",
   "id": "b3d3e1bc-45ff-4449-a1f6-e182261ad2f4",
   "metadata": {},
   "source": [
    "##### 등분산 검증\n",
    "- 평균과 분산이 같다 - 귀무가설 - pvalue 0.05 이상 \n",
    "- 신은 위대하다. 즉, 분산이 같다\n",
    "- 결과: pvalue= 0.7445315946688518 등분산이다 "
   ]
  },
  {
   "cell_type": "code",
   "execution_count": 51,
   "id": "6fd50d96-62f2-4ac6-815f-1d01c85b798e",
   "metadata": {
    "tags": []
   },
   "outputs": [
    {
     "data": {
      "text/plain": [
       "<Axes: xlabel='channel', ylabel='count'>"
      ]
     },
     "execution_count": 51,
     "metadata": {},
     "output_type": "execute_result"
    },
    {
     "data": {
      "image/png": "[encoded data removed]",
      "text/plain": [
       "<Figure size 640x480 with 1 Axes>"
      ]
     },
     "metadata": {},
     "output_type": "display_data"
    }
   ],
   "source": [
    "sns.countplot(data=df_channel_Mileage, x='channel')"
   ]
  },
  {
   "cell_type": "code",
   "execution_count": 52,
   "id": "92b7b8e2-b0d5-402f-8de0-5b653222a4f1",
   "metadata": {
    "tags": []
   },
   "outputs": [
    {
     "data": {
      "text/html": [
       "<div>\n",
       "<style scoped>\n",
       "    .dataframe tbody tr th:only-of-type {\n",
       "        vertical-align: middle;\n",
       "    }\n",
       "\n",
       "    .dataframe tbody tr th {\n",
       "        vertical-align: top;\n",
       "    }\n",
       "\n",
       "    .dataframe thead th {\n",
       "        text-align: right;\n",
       "    }\n",
       "</style>\n",
       "<table border=\"1\" class=\"dataframe\">\n",
       "  <thead>\n",
       "    <tr style=\"text-align: right;\">\n",
       "      <th></th>\n",
       "      <th>channel</th>\n",
       "      <th>Mileage</th>\n",
       "    </tr>\n",
       "  </thead>\n",
       "  <tbody>\n",
       "    <tr>\n",
       "      <th>0</th>\n",
       "      <td>서비스 방문</td>\n",
       "      <td>1862.0</td>\n",
       "    </tr>\n",
       "    <tr>\n",
       "      <th>1</th>\n",
       "      <td>서비스 방문</td>\n",
       "      <td>2532.0</td>\n",
       "    </tr>\n",
       "  </tbody>\n",
       "</table>\n",
       "</div>"
      ],
      "text/plain": [
       "  channel  Mileage\n",
       "0  서비스 방문   1862.0\n",
       "1  서비스 방문   2532.0"
      ]
     },
     "execution_count": 52,
     "metadata": {},
     "output_type": "execute_result"
    }
   ],
   "source": [
    "df_service = df_channel_Mileage[df_channel_Mileage['channel'] == '서비스 방문']\n",
    "df_service[:2] "
   ]
  },
  {
   "cell_type": "code",
   "execution_count": 53,
   "id": "4aca0aa5-5e68-4f85-a1a6-6d421545a244",
   "metadata": {
    "tags": []
   },
   "outputs": [
    {
     "data": {
      "text/html": [
       "<div>\n",
       "<style scoped>\n",
       "    .dataframe tbody tr th:only-of-type {\n",
       "        vertical-align: middle;\n",
       "    }\n",
       "\n",
       "    .dataframe tbody tr th {\n",
       "        vertical-align: top;\n",
       "    }\n",
       "\n",
       "    .dataframe thead th {\n",
       "        text-align: right;\n",
       "    }\n",
       "</style>\n",
       "<table border=\"1\" class=\"dataframe\">\n",
       "  <thead>\n",
       "    <tr style=\"text-align: right;\">\n",
       "      <th></th>\n",
       "      <th>channel</th>\n",
       "      <th>Mileage</th>\n",
       "    </tr>\n",
       "  </thead>\n",
       "  <tbody>\n",
       "    <tr>\n",
       "      <th>2</th>\n",
       "      <td>홈쇼핑/방송</td>\n",
       "      <td>2363.0</td>\n",
       "    </tr>\n",
       "    <tr>\n",
       "      <th>6</th>\n",
       "      <td>홈쇼핑/방송</td>\n",
       "      <td>2348.0</td>\n",
       "    </tr>\n",
       "  </tbody>\n",
       "</table>\n",
       "</div>"
      ],
      "text/plain": [
       "  channel  Mileage\n",
       "2  홈쇼핑/방송   2363.0\n",
       "6  홈쇼핑/방송   2348.0"
      ]
     },
     "execution_count": 53,
     "metadata": {},
     "output_type": "execute_result"
    }
   ],
   "source": [
    "df_homeshopping = df_channel_Mileage[df_channel_Mileage['channel'] == '홈쇼핑/방송']\n",
    "df_homeshopping[:2]"
   ]
  },
  {
   "cell_type": "code",
   "execution_count": 54,
   "id": "4d93cf32-7edf-4ac2-a460-8c612b10b00d",
   "metadata": {
    "tags": []
   },
   "outputs": [
    {
     "data": {
      "text/plain": [
       "LeveneResult(statistic=0.4333426836115636, pvalue=0.5121534935421322)"
      ]
     },
     "execution_count": 54,
     "metadata": {},
     "output_type": "execute_result"
    }
   ],
   "source": [
    "stats.levene(df_service['Mileage'], df_homeshopping['Mileage'])\n",
    "# 등분산 검증 levene"
   ]
  },
  {
   "cell_type": "code",
   "execution_count": 55,
   "id": "742bd0af-d5a7-40a5-9831-374988a98f52",
   "metadata": {
    "tags": []
   },
   "outputs": [
    {
     "data": {
      "text/plain": [
       "<Axes: xlabel='Mileage', ylabel='Count'>"
      ]
     },
     "execution_count": 55,
     "metadata": {},
     "output_type": "execute_result"
    },
    {
     "data": {
      "image/png": "[encoded data removed]",
      "text/plain": [
       "<Figure size 640x480 with 1 Axes>"
      ]
     },
     "metadata": {},
     "output_type": "display_data"
    }
   ],
   "source": [
    "sns.histplot(data=df_channel_Mileage, x='Mileage', kde=True, hue='channel')\n",
    "# 두개의 분포가 유사함을 시각화로 확인 "
   ]
  },
  {
   "cell_type": "code",
   "execution_count": 56,
   "id": "9b0b9d5b-a313-4c54-9bb9-1c31bdb16f04",
   "metadata": {
    "tags": []
   },
   "outputs": [
    {
     "data": {
      "text/plain": [
       "Ttest_indResult(statistic=-1.1220535809937369, pvalue=0.26503682144324553)"
      ]
     },
     "execution_count": 56,
     "metadata": {},
     "output_type": "execute_result"
    }
   ],
   "source": [
    "stats.ttest_ind(df_service['Mileage'], df_homeshopping['Mileage'], equal_var=True) #등분산 일때\n",
    "# 내부적으로 표준편차를 가지고 있음. 어디가 중심값인지 나타내줌. \n",
    "# 개별값이 ttest의 대표값과 얼마나 떨어져있는가를 알 수 있음\n",
    "# 분포에서의 편차를 알기 위해씀. \n"
   ]
  },
  {
   "cell_type": "markdown",
   "id": "5d58851b-d0de-4a97-a90f-00ce8cd8efaf",
   "metadata": {},
   "source": [
    "#### 선정 변수: channel(항목 3개), Mileage\\[:100\\](정규분포)\n",
    "- 분석 내용: channel 홈쇼핑/방송', '렌탈총판', 'R인터넷'에 따른 마일리지 분포에 차이가 있는가? \n",
    "    - 귀무가설: 분포에 차이가 없다 \n",
    "    - 대립가설: 분포에 차이가 있다 \n",
    "- 분석 결론 (기준 : p-value 0.05)\n",
    "    - 통계 결론: 귀무가설이 참 (pvalue=0.198)\n",
    "    - 사실 결론: 분포에 차이가 없다 "
   ]
  },
  {
   "cell_type": "code",
   "execution_count": 63,
   "id": "38363442-b8a6-426e-b175-0d1cc05a7a25",
   "metadata": {
    "tags": []
   },
   "outputs": [
    {
     "data": {
      "text/plain": [
       "<Axes: xlabel='Mileage', ylabel='Count'>"
      ]
     },
     "execution_count": 63,
     "metadata": {},
     "output_type": "execute_result"
    },
    {
     "data": {
      "image/png": "[encoded data removed]",
      "text/plain": [
       "<Figure size 640x480 with 1 Axes>"
      ]
     },
     "metadata": {},
     "output_type": "display_data"
    }
   ],
   "source": [
    "sns.histplot(data=df_TOCC, x='Mileage', kde=True, hue='channel')"
   ]
  },
  {
   "cell_type": "code",
   "execution_count": 67,
   "id": "cfdd3265-47eb-49d3-aa93-0ffb4a3fa2c9",
   "metadata": {
    "tags": []
   },
   "outputs": [
    {
     "data": {
      "text/plain": [
       "서비스 방문    15186\n",
       "홈쇼핑/방송    12977\n",
       "렌탈총판       5544\n",
       "R관리방판      4727\n",
       "하이마트       3227\n",
       "영업방판       3039\n",
       "렌탈재계약      2193\n",
       "일반         1232\n",
       "전자랜드       1205\n",
       "R빌리미        560\n",
       "이마트         265\n",
       "홈플러스        225\n",
       "R인터넷        198\n",
       "Name: channel, dtype: int64"
      ]
     },
     "execution_count": 67,
     "metadata": {},
     "output_type": "execute_result"
    }
   ],
   "source": [
    "df_TOCC['channel'].value_counts()[:13]"
   ]
  },
  {
   "cell_type": "code",
   "execution_count": 81,
   "id": "62e143a0-b255-4f7d-a595-86f1e1df29f7",
   "metadata": {
    "tags": []
   },
   "outputs": [],
   "source": [
    "conditions = (df_TOCC['channel'] == 'R인터넷') | (df_TOCC['channel'] == '홈쇼핑/방송') | (df_TOCC['channel'] == '렌탈총판') \n",
    "conditions\n",
    "df_channel3_Mileage = df_TOCC[conditions][['channel', 'Mileage']][:100]"
   ]
  },
  {
   "cell_type": "code",
   "execution_count": 84,
   "id": "ce2d33dd-7ace-4031-af95-40b262395c61",
   "metadata": {
    "tags": []
   },
   "outputs": [
    {
     "data": {
      "text/plain": [
       "channel    0\n",
       "Mileage    0\n",
       "dtype: int64"
      ]
     },
     "execution_count": 84,
     "metadata": {},
     "output_type": "execute_result"
    }
   ],
   "source": [
    "df_channel3_Mileage.isnull().sum()"
   ]
  },
  {
   "cell_type": "code",
   "execution_count": 83,
   "id": "18bc7683-99a4-4997-89ff-5aa892557a6e",
   "metadata": {
    "tags": []
   },
   "outputs": [],
   "source": [
    "df_channel3_Mileage = df_channel3_Mileage.dropna()"
   ]
  },
  {
   "cell_type": "markdown",
   "id": "088bcf3c-d900-46e6-a615-ba1da7373373",
   "metadata": {},
   "source": [
    "##### 정규성 검증 \n",
    "- 5천개 이하여서 shapiro test "
   ]
  },
  {
   "cell_type": "code",
   "execution_count": 85,
   "id": "f2367c8b-fa38-46b7-ad56-c85c466904dd",
   "metadata": {
    "tags": []
   },
   "outputs": [
    {
     "data": {
      "text/plain": [
       "95"
      ]
     },
     "execution_count": 85,
     "metadata": {},
     "output_type": "execute_result"
    }
   ],
   "source": [
    "len(df_channel3_Mileage)\n",
    "#레코드 개수"
   ]
  },
  {
   "cell_type": "code",
   "execution_count": 89,
   "id": "7248b656-d83a-4b27-8d51-839fee983e8e",
   "metadata": {
    "tags": []
   },
   "outputs": [
    {
     "data": {
      "text/plain": [
       "ShapiroResult(statistic=0.972218930721283, pvalue=0.04076038673520088)"
      ]
     },
     "execution_count": 89,
     "metadata": {},
     "output_type": "execute_result"
    }
   ],
   "source": [
    "stats.shapiro(df_channel3_Mileage['Mileage']) #정규분포로 가정(데이터 확인 어려움) pvalue=0.04"
   ]
  },
  {
   "cell_type": "markdown",
   "id": "0260da32-f508-4c9c-93db-60f0bc0ec658",
   "metadata": {},
   "source": [
    "##### 등분산 여부 검증 "
   ]
  },
  {
   "cell_type": "code",
   "execution_count": 91,
   "id": "6548403e-b680-411e-8379-bff7a38fa850",
   "metadata": {
    "tags": []
   },
   "outputs": [
    {
     "data": {
      "text/plain": [
       "['홈쇼핑/방송', '렌탈총판', 'R인터넷']"
      ]
     },
     "execution_count": 91,
     "metadata": {},
     "output_type": "execute_result"
    }
   ],
   "source": [
    "channel_list = df_channel3_Mileage['channel'].value_counts().index.to_list()\n",
    "channel_list"
   ]
  },
  {
   "cell_type": "code",
   "execution_count": 92,
   "id": "5316e53c-53ea-46c2-8d2e-716686094fac",
   "metadata": {
    "tags": []
   },
   "outputs": [],
   "source": [
    "df_result = []  #list()\n",
    "for item in channel_list : \n",
    "    condition = (df_channel3_Mileage['channel'] == item)\n",
    "    df_result.append(df_channel3_Mileage[condition]) # list index에 DataFrame 담기 \n"
   ]
  },
  {
   "cell_type": "code",
   "execution_count": 93,
   "id": "6a3dbfcb-9b42-4d87-8890-a49424e6ae45",
   "metadata": {
    "collapsed": true,
    "jupyter": {
     "outputs_hidden": true
    },
    "tags": []
   },
   "outputs": [
    {
     "data": {
      "text/html": [
       "<div>\n",
       "<style scoped>\n",
       "    .dataframe tbody tr th:only-of-type {\n",
       "        vertical-align: middle;\n",
       "    }\n",
       "\n",
       "    .dataframe tbody tr th {\n",
       "        vertical-align: top;\n",
       "    }\n",
       "\n",
       "    .dataframe thead th {\n",
       "        text-align: right;\n",
       "    }\n",
       "</style>\n",
       "<table border=\"1\" class=\"dataframe\">\n",
       "  <thead>\n",
       "    <tr style=\"text-align: right;\">\n",
       "      <th></th>\n",
       "      <th>channel</th>\n",
       "      <th>Mileage</th>\n",
       "    </tr>\n",
       "  </thead>\n",
       "  <tbody>\n",
       "    <tr>\n",
       "      <th>17</th>\n",
       "      <td>렌탈총판</td>\n",
       "      <td>1980.0</td>\n",
       "    </tr>\n",
       "    <tr>\n",
       "      <th>40</th>\n",
       "      <td>렌탈총판</td>\n",
       "      <td>1378.0</td>\n",
       "    </tr>\n",
       "    <tr>\n",
       "      <th>121</th>\n",
       "      <td>렌탈총판</td>\n",
       "      <td>1194.0</td>\n",
       "    </tr>\n",
       "    <tr>\n",
       "      <th>125</th>\n",
       "      <td>렌탈총판</td>\n",
       "      <td>1346.0</td>\n",
       "    </tr>\n",
       "    <tr>\n",
       "      <th>130</th>\n",
       "      <td>렌탈총판</td>\n",
       "      <td>1575.0</td>\n",
       "    </tr>\n",
       "    <tr>\n",
       "      <th>141</th>\n",
       "      <td>렌탈총판</td>\n",
       "      <td>2148.0</td>\n",
       "    </tr>\n",
       "    <tr>\n",
       "      <th>166</th>\n",
       "      <td>렌탈총판</td>\n",
       "      <td>1847.0</td>\n",
       "    </tr>\n",
       "    <tr>\n",
       "      <th>168</th>\n",
       "      <td>렌탈총판</td>\n",
       "      <td>1377.0</td>\n",
       "    </tr>\n",
       "    <tr>\n",
       "      <th>169</th>\n",
       "      <td>렌탈총판</td>\n",
       "      <td>2729.0</td>\n",
       "    </tr>\n",
       "    <tr>\n",
       "      <th>180</th>\n",
       "      <td>렌탈총판</td>\n",
       "      <td>1636.0</td>\n",
       "    </tr>\n",
       "    <tr>\n",
       "      <th>219</th>\n",
       "      <td>렌탈총판</td>\n",
       "      <td>2515.0</td>\n",
       "    </tr>\n",
       "    <tr>\n",
       "      <th>220</th>\n",
       "      <td>렌탈총판</td>\n",
       "      <td>2282.0</td>\n",
       "    </tr>\n",
       "    <tr>\n",
       "      <th>229</th>\n",
       "      <td>렌탈총판</td>\n",
       "      <td>1470.0</td>\n",
       "    </tr>\n",
       "    <tr>\n",
       "      <th>230</th>\n",
       "      <td>렌탈총판</td>\n",
       "      <td>1906.0</td>\n",
       "    </tr>\n",
       "    <tr>\n",
       "      <th>232</th>\n",
       "      <td>렌탈총판</td>\n",
       "      <td>1966.0</td>\n",
       "    </tr>\n",
       "    <tr>\n",
       "      <th>261</th>\n",
       "      <td>렌탈총판</td>\n",
       "      <td>1747.0</td>\n",
       "    </tr>\n",
       "    <tr>\n",
       "      <th>295</th>\n",
       "      <td>렌탈총판</td>\n",
       "      <td>1510.0</td>\n",
       "    </tr>\n",
       "  </tbody>\n",
       "</table>\n",
       "</div>"
      ],
      "text/plain": [
       "    channel  Mileage\n",
       "17     렌탈총판   1980.0\n",
       "40     렌탈총판   1378.0\n",
       "121    렌탈총판   1194.0\n",
       "125    렌탈총판   1346.0\n",
       "130    렌탈총판   1575.0\n",
       "141    렌탈총판   2148.0\n",
       "166    렌탈총판   1847.0\n",
       "168    렌탈총판   1377.0\n",
       "169    렌탈총판   2729.0\n",
       "180    렌탈총판   1636.0\n",
       "219    렌탈총판   2515.0\n",
       "220    렌탈총판   2282.0\n",
       "229    렌탈총판   1470.0\n",
       "230    렌탈총판   1906.0\n",
       "232    렌탈총판   1966.0\n",
       "261    렌탈총판   1747.0\n",
       "295    렌탈총판   1510.0"
      ]
     },
     "execution_count": 93,
     "metadata": {},
     "output_type": "execute_result"
    }
   ],
   "source": [
    "df_result[1]"
   ]
  },
  {
   "cell_type": "code",
   "execution_count": 97,
   "id": "527cc1f0-027b-4206-b38e-34b7cbb6c81c",
   "metadata": {
    "tags": []
   },
   "outputs": [
    {
     "data": {
      "text/plain": [
       "LeveneResult(statistic=1.3990694558452188, pvalue=0.25202796808711486)"
      ]
     },
     "execution_count": 97,
     "metadata": {},
     "output_type": "execute_result"
    }
   ],
   "source": [
    "stats.levene(df_result[0]['Mileage'], df_result[1]['Mileage'], df_result[2]['Mileage']) \n",
    "# pvalue=0.25202796808711486) 등분산 "
   ]
  },
  {
   "cell_type": "markdown",
   "id": "54fd6688-9e10-43ae-80ed-aaed11cf1a37",
   "metadata": {},
   "source": [
    "##### ANOVA test  (등분산일때 3집단 이상 ) "
   ]
  },
  {
   "cell_type": "code",
   "execution_count": 99,
   "id": "c50dd07b-0e73-4bc9-94be-366f0da1bf42",
   "metadata": {
    "tags": []
   },
   "outputs": [
    {
     "data": {
      "text/plain": [
       "F_onewayResult(statistic=1.6471871558727058, pvalue=0.19821931226360748)"
      ]
     },
     "execution_count": 99,
     "metadata": {},
     "output_type": "execute_result"
    }
   ],
   "source": [
    "stats.f_oneway(df_result[0]['Mileage'], df_result[1]['Mileage'], df_result[2]['Mileage'])\n",
    "# 귀무가설 참 "
   ]
  },
  {
   "cell_type": "code",
   "execution_count": null,
   "id": "c0193426-b83f-4d00-81e1-c49cf6b4da42",
   "metadata": {},
   "outputs": [],
   "source": []
  }
 ],
 "metadata": {
  "kernelspec": {
   "display_name": "Python 3 (ipykernel)",
   "language": "python",
   "name": "python3"
  },
  "language_info": {
   "codemirror_mode": {
    "name": "ipython",
    "version": 3
   },
   "file_extension": ".py",
   "mimetype": "text/x-python",
   "name": "python",
   "nbconvert_exporter": "python",
   "pygments_lexer": "ipython3",
   "version": "3.11.3"
  }
 },
 "nbformat": 4,
 "nbformat_minor": 5
}
