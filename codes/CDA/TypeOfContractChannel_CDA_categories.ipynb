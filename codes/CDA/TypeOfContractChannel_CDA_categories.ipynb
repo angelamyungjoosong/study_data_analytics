{
 "cells": [
  {
   "cell_type": "code",
   "execution_count": 1,
   "id": "e5c5246b-df3f-40f0-8c05-352741be840b",
   "metadata": {
    "tags": []
   },
   "outputs": [],
   "source": [
    "import matplotlib.pyplot as plt\n",
    "import matplotlib as mpl\n",
    "mpl.rc('font',family='Malgun Gothic')\n",
    "import seaborn as sns\n",
    "import pandas as pd"
   ]
  },
  {
   "cell_type": "markdown",
   "id": "317fc905-b643-48db-b898-7b08981a01cc",
   "metadata": {
    "tags": []
   },
   "source": [
    "#### x 범주형, y 범주형 : 주로 독립성 증명\n",
    "- 선정 변수 : type_of_contract, cancellation\n",
    "- 분석 내용: 계약 유형에 따라 해약 여부가 달라지는가? \n",
    "    - 귀무가설: 계약유형에 따라 해약여부가 달라지지 않는다. \n",
    "    - 대립가설: 계약유형에 따라 해약여부가 달라진다. \n",
    "- 분석 결론 (기준 : p-value 0.05)\n",
    "    - 통계 결론: 대립가설이 참 (귀무가설 기각)\n",
    "    - 사실 결론: 계약유형에 따라 해약여부가 달라진다. "
   ]
  },
  {
   "cell_type": "code",
   "execution_count": 2,
   "id": "271aaebc-d7d1-4d85-b920-afb99ee7622d",
   "metadata": {
    "tags": []
   },
   "outputs": [
    {
     "data": {
      "text/html": [
       "<div>\n",
       "<style scoped>\n",
       "    .dataframe tbody tr th:only-of-type {\n",
       "        vertical-align: middle;\n",
       "    }\n",
       "\n",
       "    .dataframe tbody tr th {\n",
       "        vertical-align: top;\n",
       "    }\n",
       "\n",
       "    .dataframe thead th {\n",
       "        text-align: right;\n",
       "    }\n",
       "</style>\n",
       "<table border=\"1\" class=\"dataframe\">\n",
       "  <thead>\n",
       "    <tr style=\"text-align: right;\">\n",
       "      <th></th>\n",
       "      <th>id</th>\n",
       "      <th>type_of_contract</th>\n",
       "      <th>type_of_contract2</th>\n",
       "      <th>channel</th>\n",
       "      <th>datetime</th>\n",
       "      <th>Term</th>\n",
       "      <th>payment_type</th>\n",
       "      <th>product</th>\n",
       "      <th>amount</th>\n",
       "      <th>state</th>\n",
       "      <th>overdue_count</th>\n",
       "      <th>overdue</th>\n",
       "      <th>credit rating</th>\n",
       "      <th>bank</th>\n",
       "      <th>cancellation</th>\n",
       "      <th>age</th>\n",
       "      <th>Mileage</th>\n",
       "    </tr>\n",
       "  </thead>\n",
       "  <tbody>\n",
       "    <tr>\n",
       "      <th>0</th>\n",
       "      <td>66758234</td>\n",
       "      <td>렌탈</td>\n",
       "      <td>Normal</td>\n",
       "      <td>서비스 방문</td>\n",
       "      <td>2019-10-20</td>\n",
       "      <td>60</td>\n",
       "      <td>CMS</td>\n",
       "      <td>K1</td>\n",
       "      <td>96900</td>\n",
       "      <td>계약확정</td>\n",
       "      <td>0</td>\n",
       "      <td>없음</td>\n",
       "      <td>9.0</td>\n",
       "      <td>새마을금고</td>\n",
       "      <td>정상</td>\n",
       "      <td>43.0</td>\n",
       "      <td>1862.0</td>\n",
       "    </tr>\n",
       "    <tr>\n",
       "      <th>1</th>\n",
       "      <td>66755948</td>\n",
       "      <td>렌탈</td>\n",
       "      <td>Extension_Rental</td>\n",
       "      <td>서비스 방문</td>\n",
       "      <td>2019-10-20</td>\n",
       "      <td>60</td>\n",
       "      <td>카드이체</td>\n",
       "      <td>K1</td>\n",
       "      <td>102900</td>\n",
       "      <td>계약확정</td>\n",
       "      <td>0</td>\n",
       "      <td>없음</td>\n",
       "      <td>2.0</td>\n",
       "      <td>현대카드</td>\n",
       "      <td>정상</td>\n",
       "      <td>62.0</td>\n",
       "      <td>2532.0</td>\n",
       "    </tr>\n",
       "  </tbody>\n",
       "</table>\n",
       "</div>"
      ],
      "text/plain": [
       "         id type_of_contract type_of_contract2 channel    datetime  Term  \\\n",
       "0  66758234               렌탈            Normal  서비스 방문  2019-10-20    60   \n",
       "1  66755948               렌탈  Extension_Rental  서비스 방문  2019-10-20    60   \n",
       "\n",
       "  payment_type product  amount state  overdue_count overdue  credit rating  \\\n",
       "0          CMS      K1   96900  계약확정              0      없음            9.0   \n",
       "1         카드이체      K1  102900  계약확정              0      없음            2.0   \n",
       "\n",
       "    bank cancellation   age  Mileage  \n",
       "0  새마을금고           정상  43.0   1862.0  \n",
       "1   현대카드           정상  62.0   2532.0  "
      ]
     },
     "execution_count": 2,
     "metadata": {},
     "output_type": "execute_result"
    }
   ],
   "source": [
    "df_TOCC = pd.read_csv('../../../datasets/TypeOfContractChannel.csv')\n",
    "df_TOCC[:2]"
   ]
  },
  {
   "cell_type": "code",
   "execution_count": 9,
   "id": "0e733510-3d65-456b-8581-4b1e90b6c3e4",
   "metadata": {
    "tags": []
   },
   "outputs": [
    {
     "data": {
      "text/html": [
       "<div>\n",
       "<style scoped>\n",
       "    .dataframe tbody tr th:only-of-type {\n",
       "        vertical-align: middle;\n",
       "    }\n",
       "\n",
       "    .dataframe tbody tr th {\n",
       "        vertical-align: top;\n",
       "    }\n",
       "\n",
       "    .dataframe thead th {\n",
       "        text-align: right;\n",
       "    }\n",
       "</style>\n",
       "<table border=\"1\" class=\"dataframe\">\n",
       "  <thead>\n",
       "    <tr style=\"text-align: right;\">\n",
       "      <th></th>\n",
       "      <th>type_of_contract</th>\n",
       "      <th>cancellation</th>\n",
       "    </tr>\n",
       "  </thead>\n",
       "  <tbody>\n",
       "    <tr>\n",
       "      <th>count</th>\n",
       "      <td>51300</td>\n",
       "      <td>51279</td>\n",
       "    </tr>\n",
       "    <tr>\n",
       "      <th>unique</th>\n",
       "      <td>2</td>\n",
       "      <td>2</td>\n",
       "    </tr>\n",
       "    <tr>\n",
       "      <th>top</th>\n",
       "      <td>렌탈</td>\n",
       "      <td>정상</td>\n",
       "    </tr>\n",
       "    <tr>\n",
       "      <th>freq</th>\n",
       "      <td>46481</td>\n",
       "      <td>50372</td>\n",
       "    </tr>\n",
       "  </tbody>\n",
       "</table>\n",
       "</div>"
      ],
      "text/plain": [
       "       type_of_contract cancellation\n",
       "count             51300        51279\n",
       "unique                2            2\n",
       "top                  렌탈           정상\n",
       "freq              46481        50372"
      ]
     },
     "execution_count": 9,
     "metadata": {},
     "output_type": "execute_result"
    }
   ],
   "source": [
    "df_TOCC[['type_of_contract', 'cancellation']].describe()\n",
    "#항목 갯수 확인 "
   ]
  },
  {
   "cell_type": "code",
   "execution_count": 10,
   "id": "3327415a-9188-4b90-b66d-7e30b616f796",
   "metadata": {
    "tags": []
   },
   "outputs": [],
   "source": [
    "df_TOCC_category = df_TOCC[['type_of_contract', 'cancellation']]"
   ]
  },
  {
   "cell_type": "code",
   "execution_count": 12,
   "id": "6f9085e1-a29c-4ce5-bffd-1584109e2059",
   "metadata": {
    "tags": []
   },
   "outputs": [
    {
     "data": {
      "text/html": [
       "<div>\n",
       "<style scoped>\n",
       "    .dataframe tbody tr th:only-of-type {\n",
       "        vertical-align: middle;\n",
       "    }\n",
       "\n",
       "    .dataframe tbody tr th {\n",
       "        vertical-align: top;\n",
       "    }\n",
       "\n",
       "    .dataframe thead th {\n",
       "        text-align: right;\n",
       "    }\n",
       "</style>\n",
       "<table border=\"1\" class=\"dataframe\">\n",
       "  <thead>\n",
       "    <tr style=\"text-align: right;\">\n",
       "      <th>cancellation</th>\n",
       "      <th>정상</th>\n",
       "      <th>해약</th>\n",
       "    </tr>\n",
       "    <tr>\n",
       "      <th>type_of_contract</th>\n",
       "      <th></th>\n",
       "      <th></th>\n",
       "    </tr>\n",
       "  </thead>\n",
       "  <tbody>\n",
       "    <tr>\n",
       "      <th>렌탈</th>\n",
       "      <td>46137</td>\n",
       "      <td>344</td>\n",
       "    </tr>\n",
       "    <tr>\n",
       "      <th>멤버십</th>\n",
       "      <td>4231</td>\n",
       "      <td>563</td>\n",
       "    </tr>\n",
       "  </tbody>\n",
       "</table>\n",
       "</div>"
      ],
      "text/plain": [
       "cancellation         정상   해약\n",
       "type_of_contract            \n",
       "렌탈                46137  344\n",
       "멤버십                4231  563"
      ]
     },
     "execution_count": 12,
     "metadata": {},
     "output_type": "execute_result"
    }
   ],
   "source": [
    "df_TOCC_category_pivot =pd.pivot_table(data=df_TOCC_category, index='type_of_contract', columns='cancellation', aggfunc=len)\n",
    "#목표변수가 groupby의 대상 -> index \n",
    "#집합함수 aggfunc -> count되니까 len \n",
    "df_TOCC_category_pivot"
   ]
  },
  {
   "cell_type": "code",
   "execution_count": 15,
   "id": "ab63fe49-e92f-427d-8618-7af54e33188e",
   "metadata": {
    "tags": []
   },
   "outputs": [],
   "source": [
    "import scipy\n",
    "scipy.__version__\n",
    "import scipy.stats as stats "
   ]
  },
  {
   "cell_type": "code",
   "execution_count": 18,
   "id": "c22d3a71-076b-4d6a-a443-a9d84dec3f2b",
   "metadata": {
    "tags": []
   },
   "outputs": [
    {
     "data": {
      "text/plain": [
       "Chi2ContingencyResult(statistic=3021.9735309482894, pvalue=0.0, dof=1, expected_freq=array([[45658.8007411,   822.1992589],\n",
       "       [ 4709.1992589,    84.8007411]]))"
      ]
     },
     "execution_count": 18,
     "metadata": {},
     "output_type": "execute_result"
    }
   ],
   "source": [
    "stats.chi2_contingency(observed=df_TOCC_category_pivot, correction=True)\n",
    "#값의 독립성 확인 \n",
    "\n",
    "#correction은 자유도(degree of freedom). 모집단의 것을 샘플로 가져왔다는 걸 인정. 샘플에서는 자유도 -1을 주로함(실험제외). \n",
    "#correction=true면 1 #return에 t-test 평균을 중심으로 한 분산 수치값, p-value, degree of freedom \n",
    "\n",
    "#건수에 큰 차이가 있기 때문에 두가지 다 정규분포(확률적 분포)로 끌고 오면 비교 가능\n",
    "#분포로 변환을 시켜서 확률적으로 끌어와서 p-value 확인 \n"
   ]
  },
  {
   "cell_type": "markdown",
   "id": "1cacc9f9-c771-42ad-90b1-c35e6659e536",
   "metadata": {
    "tags": []
   },
   "source": [
    "#### 선정 변수 : product, cancellation\n",
    "- 분석 내용: 차종에 따라 해약 여부가 달라지는가? \n",
    "    - 귀무가설: 차종에 따라 해약여부가 달라지지 않는다. \n",
    "    - 대립가설: 차종에 따라 해약여부가 달라진다. \n",
    "- 분석 결론 (기준 : p-value 0.05)\n",
    "    - 통계 결론: 대립가설 \n",
    "    - 사실 결론: 차종에 따라 해약여부가 달라진다. "
   ]
  },
  {
   "cell_type": "code",
   "execution_count": 24,
   "id": "5448138f-946c-4cf0-9e1a-eaab5850ed0b",
   "metadata": {
    "tags": []
   },
   "outputs": [
    {
     "data": {
      "text/html": [
       "<div>\n",
       "<style scoped>\n",
       "    .dataframe tbody tr th:only-of-type {\n",
       "        vertical-align: middle;\n",
       "    }\n",
       "\n",
       "    .dataframe tbody tr th {\n",
       "        vertical-align: top;\n",
       "    }\n",
       "\n",
       "    .dataframe thead th {\n",
       "        text-align: right;\n",
       "    }\n",
       "</style>\n",
       "<table border=\"1\" class=\"dataframe\">\n",
       "  <thead>\n",
       "    <tr style=\"text-align: right;\">\n",
       "      <th></th>\n",
       "      <th>product</th>\n",
       "      <th>cancellation</th>\n",
       "    </tr>\n",
       "  </thead>\n",
       "  <tbody>\n",
       "    <tr>\n",
       "      <th>0</th>\n",
       "      <td>K1</td>\n",
       "      <td>정상</td>\n",
       "    </tr>\n",
       "    <tr>\n",
       "      <th>1</th>\n",
       "      <td>K1</td>\n",
       "      <td>정상</td>\n",
       "    </tr>\n",
       "  </tbody>\n",
       "</table>\n",
       "</div>"
      ],
      "text/plain": [
       "  product cancellation\n",
       "0      K1           정상\n",
       "1      K1           정상"
      ]
     },
     "execution_count": 24,
     "metadata": {},
     "output_type": "execute_result"
    }
   ],
   "source": [
    "# 다른 변수 이름 작성 시 copy() 사용 \n",
    "# df_TOCC_product = df_TOCC[['product', 'cancellation']].copy()\n",
    "# df_TOCC_product[:2]\n",
    "\n",
    "# copy를 안쓰면 똑같은 영역을 공유하게 되어서 한쪽을 바꾸면 다른 한쪽도 같이 바뀜. copy를 사용해야 별개의 공간 사용.\n",
    "# df_TOCC = df_TOCC[['product', 'cancellation']]덮어쓸떄는 안써도 됨. 새로운 변수지정할때는 써야함. "
   ]
  },
  {
   "cell_type": "code",
   "execution_count": 26,
   "id": "1d591ff8-1072-423f-bf67-93588e41c3db",
   "metadata": {
    "tags": []
   },
   "outputs": [
    {
     "data": {
      "text/html": [
       "<div>\n",
       "<style scoped>\n",
       "    .dataframe tbody tr th:only-of-type {\n",
       "        vertical-align: middle;\n",
       "    }\n",
       "\n",
       "    .dataframe tbody tr th {\n",
       "        vertical-align: top;\n",
       "    }\n",
       "\n",
       "    .dataframe thead th {\n",
       "        text-align: right;\n",
       "    }\n",
       "</style>\n",
       "<table border=\"1\" class=\"dataframe\">\n",
       "  <thead>\n",
       "    <tr style=\"text-align: right;\">\n",
       "      <th></th>\n",
       "      <th>product</th>\n",
       "      <th>cancellation</th>\n",
       "    </tr>\n",
       "  </thead>\n",
       "  <tbody>\n",
       "    <tr>\n",
       "      <th>count</th>\n",
       "      <td>51303</td>\n",
       "      <td>51279</td>\n",
       "    </tr>\n",
       "    <tr>\n",
       "      <th>unique</th>\n",
       "      <td>6</td>\n",
       "      <td>2</td>\n",
       "    </tr>\n",
       "    <tr>\n",
       "      <th>top</th>\n",
       "      <td>K1</td>\n",
       "      <td>정상</td>\n",
       "    </tr>\n",
       "    <tr>\n",
       "      <th>freq</th>\n",
       "      <td>39134</td>\n",
       "      <td>50372</td>\n",
       "    </tr>\n",
       "  </tbody>\n",
       "</table>\n",
       "</div>"
      ],
      "text/plain": [
       "       product cancellation\n",
       "count    51303        51279\n",
       "unique       6            2\n",
       "top         K1           정상\n",
       "freq     39134        50372"
      ]
     },
     "execution_count": 26,
     "metadata": {},
     "output_type": "execute_result"
    }
   ],
   "source": [
    "# df_TOCC_product.describe()\n",
    "# count수 차이가 있다는 것은 한쪽에 null이 있고 이를 처리해야함을 할 수 있다 \n",
    "# unique보고 범주형임을 확인 "
   ]
  },
  {
   "cell_type": "code",
   "execution_count": 49,
   "id": "a4d8f44f-641c-4466-b3ac-71e540ac8cd6",
   "metadata": {
    "tags": []
   },
   "outputs": [
    {
     "data": {
      "text/html": [
       "<div>\n",
       "<style scoped>\n",
       "    .dataframe tbody tr th:only-of-type {\n",
       "        vertical-align: middle;\n",
       "    }\n",
       "\n",
       "    .dataframe tbody tr th {\n",
       "        vertical-align: top;\n",
       "    }\n",
       "\n",
       "    .dataframe thead th {\n",
       "        text-align: right;\n",
       "    }\n",
       "</style>\n",
       "<table border=\"1\" class=\"dataframe\">\n",
       "  <thead>\n",
       "    <tr style=\"text-align: right;\">\n",
       "      <th></th>\n",
       "      <th>product</th>\n",
       "      <th>cancellation</th>\n",
       "    </tr>\n",
       "  </thead>\n",
       "  <tbody>\n",
       "    <tr>\n",
       "      <th>count</th>\n",
       "      <td>51278</td>\n",
       "      <td>51278</td>\n",
       "    </tr>\n",
       "    <tr>\n",
       "      <th>unique</th>\n",
       "      <td>6</td>\n",
       "      <td>2</td>\n",
       "    </tr>\n",
       "    <tr>\n",
       "      <th>top</th>\n",
       "      <td>K1</td>\n",
       "      <td>정상</td>\n",
       "    </tr>\n",
       "    <tr>\n",
       "      <th>freq</th>\n",
       "      <td>39111</td>\n",
       "      <td>50371</td>\n",
       "    </tr>\n",
       "  </tbody>\n",
       "</table>\n",
       "</div>"
      ],
      "text/plain": [
       "       product cancellation\n",
       "count    51278        51278\n",
       "unique       6            2\n",
       "top         K1           정상\n",
       "freq     39111        50371"
      ]
     },
     "execution_count": 49,
     "metadata": {},
     "output_type": "execute_result"
    }
   ],
   "source": [
    "df_TOCC_product = df_TOCC[['product', 'cancellation']].dropna().copy()\n",
    "df_TOCC_product.describe()"
   ]
  },
  {
   "cell_type": "code",
   "execution_count": 33,
   "id": "c3f1e7de-705b-443d-a88f-b1d8574a5ea0",
   "metadata": {
    "tags": []
   },
   "outputs": [],
   "source": [
    "df_TOCC_product_pivot = pd.pivot_table(data=df_TOCC_product\n",
    "              , index='product', columns='cancellation', aggfunc=len)\n",
    "# groupby대상을 index에 넣기 \n",
    "# 이건 function사용해서 copy사용필요 없음 "
   ]
  },
  {
   "cell_type": "code",
   "execution_count": 35,
   "id": "34e1fdbf-c55c-4227-aed9-b9d402f0aa68",
   "metadata": {
    "tags": []
   },
   "outputs": [
    {
     "data": {
      "text/plain": [
       "Chi2ContingencyResult(statistic=103.79474317337241, pvalue=8.372028115481391e-21, dof=5, expected_freq=array([[3.84192086e+04, 6.91791353e+02],\n",
       "       [8.83393274e+03, 1.59067261e+02],\n",
       "       [2.04517380e+03, 3.68262023e+01],\n",
       "       [3.21216058e+02, 5.78394243e+00],\n",
       "       [6.33591306e+02, 1.14086938e+01],\n",
       "       [1.17877452e+02, 2.12254768e+00]]))"
      ]
     },
     "execution_count": 35,
     "metadata": {},
     "output_type": "execute_result"
    }
   ],
   "source": [
    "# product 기준 \n",
    "stats.chi2_contingency(observed=df_TOCC_product_pivot, correction=True)\n",
    "# p-value가 0.05보다 작아서 관계가 있다 "
   ]
  },
  {
   "cell_type": "code",
   "execution_count": 50,
   "id": "15767164-cc63-4ae4-9f35-0ee7588e7ed6",
   "metadata": {
    "tags": []
   },
   "outputs": [],
   "source": [
    "df_TOCC_product_pivot = pd.pivot_table(data=df_TOCC_product\n",
    "              , index='cancellation', columns='product', aggfunc=len)"
   ]
  },
  {
   "cell_type": "code",
   "execution_count": 55,
   "id": "27920235-33fd-43a9-b5d7-2fa7babdc2e6",
   "metadata": {
    "tags": []
   },
   "outputs": [
    {
     "data": {
      "text/plain": [
       "Chi2ContingencyResult(statistic=103.79474317337241, pvalue=8.372028115481391e-21, dof=5, expected_freq=array([[3.84192086e+04, 8.83393274e+03, 2.04517380e+03, 3.21216058e+02,\n",
       "        6.33591306e+02, 1.17877452e+02],\n",
       "       [6.91791353e+02, 1.59067261e+02, 3.68262023e+01, 5.78394243e+00,\n",
       "        1.14086938e+01, 2.12254768e+00]]))"
      ]
     },
     "execution_count": 55,
     "metadata": {},
     "output_type": "execute_result"
    }
   ],
   "source": [
    "# cancellation 기준 \n",
    "stats.chi2_contingency(observed=df_TOCC_product_pivot, correction=True)\n",
    "# index와 columns가 바뀌어도 값은 똑같이 나온다 "
   ]
  },
  {
   "cell_type": "markdown",
   "id": "48830823-1565-4ae1-85eb-6bbfec75c641",
   "metadata": {},
   "source": [
    "#### 선정 변수 : state, cancellation (카이 제곱할 수 없는 상황)\n",
    "- 이런 변수 구성은 참조되지 않는다. "
   ]
  },
  {
   "cell_type": "code",
   "execution_count": 41,
   "id": "b795deac-1bd0-4552-89e4-a764a8d40290",
   "metadata": {
    "tags": []
   },
   "outputs": [
    {
     "data": {
      "text/html": [
       "<div>\n",
       "<style scoped>\n",
       "    .dataframe tbody tr th:only-of-type {\n",
       "        vertical-align: middle;\n",
       "    }\n",
       "\n",
       "    .dataframe tbody tr th {\n",
       "        vertical-align: top;\n",
       "    }\n",
       "\n",
       "    .dataframe thead th {\n",
       "        text-align: right;\n",
       "    }\n",
       "</style>\n",
       "<table border=\"1\" class=\"dataframe\">\n",
       "  <thead>\n",
       "    <tr style=\"text-align: right;\">\n",
       "      <th></th>\n",
       "      <th>state</th>\n",
       "      <th>cancellation</th>\n",
       "    </tr>\n",
       "  </thead>\n",
       "  <tbody>\n",
       "    <tr>\n",
       "      <th>count</th>\n",
       "      <td>51304</td>\n",
       "      <td>51279</td>\n",
       "    </tr>\n",
       "    <tr>\n",
       "      <th>unique</th>\n",
       "      <td>4</td>\n",
       "      <td>2</td>\n",
       "    </tr>\n",
       "    <tr>\n",
       "      <th>top</th>\n",
       "      <td>계약확정</td>\n",
       "      <td>정상</td>\n",
       "    </tr>\n",
       "    <tr>\n",
       "      <th>freq</th>\n",
       "      <td>50350</td>\n",
       "      <td>50372</td>\n",
       "    </tr>\n",
       "  </tbody>\n",
       "</table>\n",
       "</div>"
      ],
      "text/plain": [
       "        state cancellation\n",
       "count   51304        51279\n",
       "unique      4            2\n",
       "top      계약확정           정상\n",
       "freq    50350        50372"
      ]
     },
     "execution_count": 41,
     "metadata": {},
     "output_type": "execute_result"
    }
   ],
   "source": [
    "#error with Nan\n",
    "# df_TOCC_error = df_TOCC[['state', 'cancellation']]\n",
    "# #df_TOCC_error[:2]\n",
    "# df_TOCC_error.describe()"
   ]
  },
  {
   "cell_type": "code",
   "execution_count": 42,
   "id": "88c27add-c146-45c7-bd0b-284c9fba9be6",
   "metadata": {
    "tags": []
   },
   "outputs": [
    {
     "data": {
      "text/html": [
       "<div>\n",
       "<style scoped>\n",
       "    .dataframe tbody tr th:only-of-type {\n",
       "        vertical-align: middle;\n",
       "    }\n",
       "\n",
       "    .dataframe tbody tr th {\n",
       "        vertical-align: top;\n",
       "    }\n",
       "\n",
       "    .dataframe thead th {\n",
       "        text-align: right;\n",
       "    }\n",
       "</style>\n",
       "<table border=\"1\" class=\"dataframe\">\n",
       "  <thead>\n",
       "    <tr style=\"text-align: right;\">\n",
       "      <th></th>\n",
       "      <th>state</th>\n",
       "      <th>cancellation</th>\n",
       "    </tr>\n",
       "  </thead>\n",
       "  <tbody>\n",
       "    <tr>\n",
       "      <th>count</th>\n",
       "      <td>51279</td>\n",
       "      <td>51279</td>\n",
       "    </tr>\n",
       "    <tr>\n",
       "      <th>unique</th>\n",
       "      <td>4</td>\n",
       "      <td>2</td>\n",
       "    </tr>\n",
       "    <tr>\n",
       "      <th>top</th>\n",
       "      <td>계약확정</td>\n",
       "      <td>정상</td>\n",
       "    </tr>\n",
       "    <tr>\n",
       "      <th>freq</th>\n",
       "      <td>50326</td>\n",
       "      <td>50372</td>\n",
       "    </tr>\n",
       "  </tbody>\n",
       "</table>\n",
       "</div>"
      ],
      "text/plain": [
       "        state cancellation\n",
       "count   51279        51279\n",
       "unique      4            2\n",
       "top      계약확정           정상\n",
       "freq    50326        50372"
      ]
     },
     "execution_count": 42,
     "metadata": {},
     "output_type": "execute_result"
    }
   ],
   "source": [
    "df_TOCC_error = df_TOCC[['state', 'cancellation']].dropna().copy()\n",
    "df_TOCC_error.describe()"
   ]
  },
  {
   "cell_type": "code",
   "execution_count": 46,
   "id": "1815caf2-9f0b-42c8-bb8d-789b0570126d",
   "metadata": {
    "tags": []
   },
   "outputs": [
    {
     "data": {
      "text/html": [
       "<div>\n",
       "<style scoped>\n",
       "    .dataframe tbody tr th:only-of-type {\n",
       "        vertical-align: middle;\n",
       "    }\n",
       "\n",
       "    .dataframe tbody tr th {\n",
       "        vertical-align: top;\n",
       "    }\n",
       "\n",
       "    .dataframe thead th {\n",
       "        text-align: right;\n",
       "    }\n",
       "</style>\n",
       "<table border=\"1\" class=\"dataframe\">\n",
       "  <thead>\n",
       "    <tr style=\"text-align: right;\">\n",
       "      <th>cancellation</th>\n",
       "      <th>정상</th>\n",
       "      <th>해약</th>\n",
       "    </tr>\n",
       "    <tr>\n",
       "      <th>state</th>\n",
       "      <th></th>\n",
       "      <th></th>\n",
       "    </tr>\n",
       "  </thead>\n",
       "  <tbody>\n",
       "    <tr>\n",
       "      <th>계약확정</th>\n",
       "      <td>50326.0</td>\n",
       "      <td>NaN</td>\n",
       "    </tr>\n",
       "    <tr>\n",
       "      <th>기간만료</th>\n",
       "      <td>32.0</td>\n",
       "      <td>NaN</td>\n",
       "    </tr>\n",
       "    <tr>\n",
       "      <th>해약진행중</th>\n",
       "      <td>14.0</td>\n",
       "      <td>NaN</td>\n",
       "    </tr>\n",
       "    <tr>\n",
       "      <th>해약확정</th>\n",
       "      <td>NaN</td>\n",
       "      <td>907.0</td>\n",
       "    </tr>\n",
       "  </tbody>\n",
       "</table>\n",
       "</div>"
      ],
      "text/plain": [
       "cancellation       정상     해약\n",
       "state                       \n",
       "계약확정          50326.0    NaN\n",
       "기간만료             32.0    NaN\n",
       "해약진행중            14.0    NaN\n",
       "해약확정              NaN  907.0"
      ]
     },
     "execution_count": 46,
     "metadata": {},
     "output_type": "execute_result"
    }
   ],
   "source": [
    "df_TOCC_error_pivot = pd.pivot_table(data=df_TOCC_error\n",
    "              , index='state', columns='cancellation',\n",
    "              aggfunc=len)\n",
    "df_TOCC_error_pivot\n",
    "# 레코드에 null이 없지만, 이렇게 pivot table에서 두가지 상황을 조합했을때 null이 있는 경우는 카이제곱을 사용하지 못한다.\n",
    "# p-value 구할 수 없다 \n",
    "# 이럴때는 귀무가설이 맞게 됨. 사용할 수 없는 상황이다. \n"
   ]
  },
  {
   "cell_type": "code",
   "execution_count": 47,
   "id": "f898cc78-109f-447a-90e3-574427591d6e",
   "metadata": {
    "tags": []
   },
   "outputs": [
    {
     "data": {
      "text/plain": [
       "Chi2ContingencyResult(statistic=nan, pvalue=nan, dof=3, expected_freq=array([[nan, nan],\n",
       "       [nan, nan],\n",
       "       [nan, nan],\n",
       "       [nan, nan]]))"
      ]
     },
     "execution_count": 47,
     "metadata": {},
     "output_type": "execute_result"
    }
   ],
   "source": [
    "stats.chi2_contingency(observed=df_TOCC_error_pivot\n",
    "                       , correction=True)"
   ]
  },
  {
   "cell_type": "code",
   "execution_count": null,
   "id": "93611720-a182-4ced-8f5e-e50c051b953a",
   "metadata": {},
   "outputs": [],
   "source": []
  }
 ],
 "metadata": {
  "kernelspec": {
   "display_name": "Python 3 (ipykernel)",
   "language": "python",
   "name": "python3"
  },
  "language_info": {
   "codemirror_mode": {
    "name": "ipython",
    "version": 3
   },
   "file_extension": ".py",
   "mimetype": "text/x-python",
   "name": "python",
   "nbconvert_exporter": "python",
   "pygments_lexer": "ipython3",
   "version": "3.11.3"
  }
 },
 "nbformat": 4,
 "nbformat_minor": 5
}
