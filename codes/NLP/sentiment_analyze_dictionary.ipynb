{
 "cells": [
  {
   "cell_type": "markdown",
   "id": "7fed0d81-4b54-412c-8e5d-8ef188103e8a",
   "metadata": {},
   "source": [
    "## 감성 사전 의한 감성분석 "
   ]
  },
  {
   "cell_type": "markdown",
   "id": "570cc63c-bda7-409d-968d-2df569ff052d",
   "metadata": {},
   "source": [
    "### 감성 사전 가져오기 "
   ]
  },
  {
   "cell_type": "code",
   "execution_count": 1,
   "id": "04aa1691-71f3-40f2-bc34-9f8309a2b57c",
   "metadata": {
    "tags": []
   },
   "outputs": [],
   "source": [
    "#pandas 끌고 와서 긍정어, 부정어 columns 만들기\n",
    "#들어온 텍스트를 감정 사전과 비교해서 분석 "
   ]
  },
  {
   "cell_type": "code",
   "execution_count": 2,
   "id": "106ab648-3ed1-45a4-8e48-4fb973134cc9",
   "metadata": {
    "tags": []
   },
   "outputs": [],
   "source": [
    "import pandas as pd"
   ]
  },
  {
   "cell_type": "code",
   "execution_count": 10,
   "id": "d557f71a-c1d4-4c65-8f0f-c492241a70ed",
   "metadata": {
    "tags": []
   },
   "outputs": [
    {
     "data": {
      "text/html": [
       "<div>\n",
       "<style scoped>\n",
       "    .dataframe tbody tr th:only-of-type {\n",
       "        vertical-align: middle;\n",
       "    }\n",
       "\n",
       "    .dataframe tbody tr th {\n",
       "        vertical-align: top;\n",
       "    }\n",
       "\n",
       "    .dataframe thead th {\n",
       "        text-align: right;\n",
       "    }\n",
       "</style>\n",
       "<table border=\"1\" class=\"dataframe\">\n",
       "  <thead>\n",
       "    <tr style=\"text-align: right;\">\n",
       "      <th></th>\n",
       "      <th>출처</th>\n",
       "    </tr>\n",
       "  </thead>\n",
       "  <tbody>\n",
       "    <tr>\n",
       "      <th>15</th>\n",
       "      <td>(-;</td>\n",
       "    </tr>\n",
       "    <tr>\n",
       "      <th>16</th>\n",
       "      <td>(^^)</td>\n",
       "    </tr>\n",
       "    <tr>\n",
       "      <th>17</th>\n",
       "      <td>(^-^)</td>\n",
       "    </tr>\n",
       "  </tbody>\n",
       "</table>\n",
       "</div>"
      ],
      "text/plain": [
       "       출처\n",
       "15    (-;\n",
       "16   (^^)\n",
       "17  (^-^)"
      ]
     },
     "execution_count": 10,
     "metadata": {},
     "output_type": "execute_result"
    }
   ],
   "source": [
    "#텍스트 읽을때는 delimiter='\\t' 통해서 컬럼으로 넣기 \n",
    "df_positives = pd.read_csv('../../datasets/pos_pol_word.txt', delimiter='\\t')\n",
    "#감성 사전에 필요없는 라인 삭제 \n",
    "df_positives = df_positives[15:] \n",
    "df_positives[:3]"
   ]
  },
  {
   "cell_type": "code",
   "execution_count": 13,
   "id": "19b80176-6884-4e0d-9c1d-eafd6166cd87",
   "metadata": {
    "tags": []
   },
   "outputs": [
    {
     "data": {
      "text/html": [
       "<div>\n",
       "<style scoped>\n",
       "    .dataframe tbody tr th:only-of-type {\n",
       "        vertical-align: middle;\n",
       "    }\n",
       "\n",
       "    .dataframe tbody tr th {\n",
       "        vertical-align: top;\n",
       "    }\n",
       "\n",
       "    .dataframe thead th {\n",
       "        text-align: right;\n",
       "    }\n",
       "</style>\n",
       "<table border=\"1\" class=\"dataframe\">\n",
       "  <thead>\n",
       "    <tr style=\"text-align: right;\">\n",
       "      <th></th>\n",
       "      <th>출처</th>\n",
       "    </tr>\n",
       "  </thead>\n",
       "  <tbody>\n",
       "    <tr>\n",
       "      <th>15</th>\n",
       "      <td>가난</td>\n",
       "    </tr>\n",
       "    <tr>\n",
       "      <th>16</th>\n",
       "      <td>가난뱅이</td>\n",
       "    </tr>\n",
       "    <tr>\n",
       "      <th>17</th>\n",
       "      <td>가난살이</td>\n",
       "    </tr>\n",
       "  </tbody>\n",
       "</table>\n",
       "</div>"
      ],
      "text/plain": [
       "      출처\n",
       "15    가난\n",
       "16  가난뱅이\n",
       "17  가난살이"
      ]
     },
     "execution_count": 13,
     "metadata": {},
     "output_type": "execute_result"
    }
   ],
   "source": [
    "df_negatives = pd.read_csv('../../datasets/neg_pol_word.txt', delimiter='\\t')\n",
    "df_negatives = df_negatives[15:] \n",
    "df_negatives[:3]"
   ]
  },
  {
   "cell_type": "markdown",
   "id": "ea1f353d-4989-4d2b-b205-f4af0bb49a83",
   "metadata": {},
   "source": [
    "### 문장에 점수 적용 (긍/부정) "
   ]
  },
  {
   "cell_type": "code",
   "execution_count": 14,
   "id": "0969d7e4-26ba-4ece-8c01-45582c6e419c",
   "metadata": {
    "tags": []
   },
   "outputs": [],
   "source": [
    "comment = '코로나19의 여파로 전 세계 교사들과 학생들 모두 혼란스러운 시기를 보내고 있습니다. 어려움 속에서도 학생들을 위해 안간힘을 쓰고 있는 모든 선생님들에게, 응원과 박수를 함께 보냅니다.'"
   ]
  },
  {
   "cell_type": "code",
   "execution_count": 17,
   "id": "63cf8325-0c9c-450c-84b3-eb233932f396",
   "metadata": {
    "tags": []
   },
   "outputs": [
    {
     "name": "stdout",
     "output_type": "stream",
     "text": [
      "positive word in comment: 운\n",
      "positive word in comment: 함께\n",
      "negative word in comment: 어려움\n",
      "negative word in comment: 해\n",
      "negative word in comment: 혼란스러운\n"
     ]
    }
   ],
   "source": [
    "# 긍정 단어 포함 확인 \n",
    "for positive_word in df_positives['출처'] :\n",
    "    if positive_word in comment:\n",
    "        print('positive word in comment: {}'.format(positive_word))\n",
    "        \n",
    "# 부정 단어 포함 확인 \n",
    "for negative_word in df_negatives['출처'] :\n",
    "    if negative_word in comment:\n",
    "        print('negative word in comment: {}'.format(negative_word))\n",
    "        \n",
    "# 긍정 +2 , 부정 +1 -> 부정 \n",
    "# 보통 count 후 퍼센트로 판정 "
   ]
  },
  {
   "cell_type": "code",
   "execution_count": null,
   "id": "e62cfbb3-ad81-4232-b355-885556837cf7",
   "metadata": {},
   "outputs": [],
   "source": [
    "# http://datascience.khu.ac.kr/board/bbs/board.php?bo_table=05_01&wr_id=91\n",
    "# 머신러닝에 각 단어의 수치로 들어가 판정 "
   ]
  }
 ],
 "metadata": {
  "kernelspec": {
   "display_name": "Python 3 (ipykernel)",
   "language": "python",
   "name": "python3"
  },
  "language_info": {
   "codemirror_mode": {
    "name": "ipython",
    "version": 3
   },
   "file_extension": ".py",
   "mimetype": "text/x-python",
   "name": "python",
   "nbconvert_exporter": "python",
   "pygments_lexer": "ipython3",
   "version": "3.11.3"
  }
 },
 "nbformat": 4,
 "nbformat_minor": 5
}
