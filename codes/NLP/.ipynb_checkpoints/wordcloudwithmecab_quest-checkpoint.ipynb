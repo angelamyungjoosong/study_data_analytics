{
 "cells": [
  {
   "cell_type": "markdown",
   "id": "0818d9ab-4755-42bd-a819-012a6867d917",
   "metadata": {},
   "source": [
    "### Quest "
   ]
  }
 ],
 "metadata": {
  "kernelspec": {
   "display_name": "Python 3 (ipykernel)",
   "language": "python",
   "name": "python3"
  },
  "language_info": {
   "codemirror_mode": {
    "name": "ipython",
    "version": 3
   },
   "file_extension": ".py",
   "mimetype": "text/x-python",
   "name": "python",
   "nbconvert_exporter": "python",
   "pygments_lexer": "ipython3",
   "version": "3.11.3"
  }
 },
 "nbformat": 4,
 "nbformat_minor": 5
}
